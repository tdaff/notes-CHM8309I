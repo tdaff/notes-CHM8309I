{
 "metadata": {
  "name": ""
 },
 "nbformat": 3,
 "nbformat_minor": 0,
 "worksheets": [
  {
   "cells": [
    {
     "cell_type": "markdown",
     "metadata": {},
     "source": [
      "Preparatory work for CHM8309I\n",
      "=============================\n",
      "\n",
      "Schedule\n",
      "--------\n",
      "\n",
      "The only time that could fit everybody, and the only rooms that we could get are:\n",
      "\n",
      " * Tuesday | LEC | 14:30-16:00 | Lamoureux Hall (LMX) | Room: 106\n",
      " * Tuesday | LEC | 13:00-14:30 | Vanier Hall (VNR)    | Room: 3076\n",
      "\n",
      "The first class will be on March 4th. I am out of the country until then, but will endeavour to respond to anyone's queries before then.\n",
      "\n",
      "Since I was unable to get a room in the Cube, if I plan one or two of the classes with an interactive part, would anyone have a problem supplying their own laptop/computer?\n",
      "\n",
      "Aims and goals\n",
      "--------------\n",
      "\n",
      "The aim of the course 8309I is to make you a better scientific programmer and help you develop transferable skills that can be applied in more general contexts. Whilst most of the concepts can be applied whatever language or tools you use, the classes will be taught using the Python programming language. Python has an expressive syntax that is very easy to pick up and doesn't get in the way of what you are trying to do.\n",
      "\n",
      "Learning Python\n",
      "---------------\n",
      "\n",
      "If you have never coded in Python before there are many resources to help you learn. The one I recommend is http://learnpythonthehardway.org/book/, which provides a set of exercises that covers the basics and some more advanced concepts. It is designed so that, for the exercises, you type them out yourself to help you learn, and you should definitely do that rather than be tempted to copy-paste everything. To get the most benefit from the first classes you should aim to at least be familiar with the concept of functions -- up to exercise 22 -- but the more you can do, the better you will be prepared.\n",
      "\n",
      "Wakari.io\n",
      "---------\n",
      "\n",
      "Python the hard way gives you instructions for running Python locally, but I suggest that you take some time to become familiar with the services offered at www.wakari.io and do the exercises there. Wakari offers complete preconfigured Python environments running 'in the cloud' and can be used to store and run your code. It is developed by the people who make _the_ scientific libraries for Python and is something that I use daily. \n",
      "\n",
      "* Use the left panel to manage files and folders. Double clicking a file will open it in the built in editor. The editor has an execute button, but for better results run your code through a terminal.\n",
      "* Click the terminals tab to gain access to fully working shells: \n",
      "  * bash -- a standard Linux shell with all the Linux commands (ls, cd, cat, rm, vim...) you can run your scripts from here like `python myscript.py`\n",
      "  * python -- a Python prompt for interactive work; you can type any Python code in here and it will run\n",
      "  * ipython -- an enhanced Python prompt with some extra features; you can also run scripts from here like `%run myscript.py`\n",
      "* If you drag the terminal tab a bit to the left you can have editor and shell windows side by side.\n",
      "* Read the introduction on IPython notebooks that comes with wakari. These are interactive documents that have individual cells that you can write and run code in -- we will use these in the class.\n",
      "* Make notebooks by creating files with a `.ipynb` extension, or using the built in interface. Write code in the boxes and run with shift+enter.\n",
      "\n",
      "Last year I ran a service like this for the students, but this is a much more polished solution. Depending on how people get on with wakari we will figure out what is best. You will also get access to further tools and resources in the class.\n"
     ]
    },
    {
     "cell_type": "markdown",
     "metadata": {},
     "source": [
      "\n",
      "--  \n",
      "\n",
      "\u00a9 Tom Daff - All rights reserved"
     ]
    }
   ],
   "metadata": {}
  }
 ]
}