{
 "metadata": {
  "celltoolbar": "Slideshow",
  "name": "",
  "signature": "sha256:b2791b35e77ab6e43f18048e45cd34ac9d748ab5bc2290bf1e84950d846e279e"
 },
 "nbformat": 3,
 "nbformat_minor": 0,
 "worksheets": [
  {
   "cells": [
    {
     "cell_type": "markdown",
     "metadata": {
      "slideshow": {
       "slide_type": "slide"
      }
     },
     "source": [
      "Functional Programming Summary\n",
      "==============================\n",
      "\n",
      "+ _Abstract_ code into evaluation of mathematical-like _expressions_\n",
      "+ _Pure functions_ do nothing but take an input and give you an output that only depends on the input\n",
      "    + Logical breakdowns\n",
      "    + Testable and provable\n",
      "    + Avoid state and mutability\n",
      "    + No side effects\n",
      "+ Functions are _first class_ and can be nested, composed and passed around like everything else\n",
      "+ Often work with lists or streams of data that can be evaluated lazily\n"
     ]
    },
    {
     "cell_type": "code",
     "collapsed": false,
     "input": [
      "def apply_twice(function, data):\n",
      "    \"\"\"Apply a function, with a second argument that is fixed as 2, twice to data.\"\"\"\n",
      "    second_arg = 2\n",
      "    return function(function(data, second_arg), second_arg)\n",
      "\n",
      "apply_twice(pow, 3)"
     ],
     "language": "python",
     "metadata": {},
     "outputs": [
      {
       "metadata": {},
       "output_type": "pyout",
       "prompt_number": 1,
       "text": [
        "81"
       ]
      }
     ],
     "prompt_number": 1
    },
    {
     "cell_type": "markdown",
     "metadata": {
      "slideshow": {
       "slide_type": "slide"
      }
     },
     "source": [
      "Object Oriented Programming\n",
      "==========================="
     ]
    },
    {
     "cell_type": "markdown",
     "metadata": {
      "slideshow": {
       "slide_type": "slide"
      }
     },
     "source": [
      "Namespaces\n",
      "----------\n",
      "\n",
      "A **namespace** is a binding of `things` within a logical group. Namespaces help us to clarify where our things come from and to not confuse things from different sources. At the root is the global namespace which is always available and contains the `builtin` names, it is best to try not to *pollute* this namespace, but usability and readability should also be considered.\n",
      "\n",
      "when you `import module` the `module` is then available in the global namespace and all of its members are available from the **fully qualified name**, like `module.member()`. If your module has a long name and you are lazy you can use a shorter alias, e.g. `import numpy as np` is very common. For commonly used functions it is acceptable to bring them into the global namespace with `from module import member` you can then access `member()` directly in your code without the prefix, but none of the other memebers of the `module`.\n",
      "\n",
      "Never do `from module import *` this will bring everything from module into the global namespace, including anything that is imported in `module`. This can overwrite names in your namespace without you knowing and do unexpected things.\n"
     ]
    },
    {
     "cell_type": "markdown",
     "metadata": {
      "slideshow": {
       "slide_type": "slide"
      }
     },
     "source": [
      "Concepts\n",
      "--------\n",
      "\n",
      "+ In functional programming we thought about things in terms of operations.\n",
      "+ Using **Object Oriented** programming we are able to think about our code in terms of the **data** and the ways in which the data is manipulated.\n",
      "+ It also promotes modularisation of code and can be very descriptive if used properly.\n",
      "+ Not all problems lend themselves well to object oriented programming, by understanding the benefits and drawbacks it can help you to decide where it is appropriate for you to use.\n",
      "\n",
      "In object oriented code most of the internal workings are hidden and the program will be the series of ways in which data is manipulated. When coding you are able to think about how to expose the ways in which the data can be manipulated and how to abstract internals away to leave a clean API for working with the objects defined in the code. \n",
      "\n",
      "The main ideas in OO are: \n",
      "\n",
      "+ **encapsulation**\n",
      "+ **polymorphism**\n",
      "+ **inheritance**\n",
      "\n",
      "which will be covered in the following material."
     ]
    },
    {
     "cell_type": "markdown",
     "metadata": {
      "slideshow": {
       "slide_type": "slide"
      }
     },
     "source": [
      "My first object\n",
      "---------------\n",
      "\n",
      "*Everything in Python is an object*. This makes it very easy to use Python to develop object oriented codes. But what is an object?\n",
      "\n",
      "+ Abstraction of data\n",
      "+ Container of state\n",
      "+ Binding for methods that manipulate the data\n",
      "\n",
      "In the *functional* paradigm we abstracted away what the result we wanted was. Here we will be abstracting the data itself."
     ]
    },
    {
     "cell_type": "markdown",
     "metadata": {
      "slideshow": {
       "slide_type": "slide"
      }
     },
     "source": [
      "Classes\n",
      "-------\n",
      "\n",
      "A `class` defines a **type** of an object. By convention object types are named with CapitalisedWords (The only exception to this naming is some of the built in types)."
     ]
    },
    {
     "cell_type": "code",
     "collapsed": false,
     "input": [
      "# In Python 3.x:\n",
      "class FunctionalGroup:\n",
      "    pass\n",
      "\n",
      "# In Python 2.x there are different types of class, this \n",
      "# makes a \"new style class\" which is a lot more versatile\n",
      "# than the old style class.\n",
      "class FunctionalGroup(object):\n",
      "    pass"
     ],
     "language": "python",
     "metadata": {},
     "outputs": [],
     "prompt_number": 2
    },
    {
     "cell_type": "markdown",
     "metadata": {
      "slideshow": {
       "slide_type": "slide"
      }
     },
     "source": [
      "By calling the class we create an **instance** of the object. Instances are named `lower_case_with_underscores`. In this way you can think of the class as a factory to create new instances, with each instance being distinct and only related by the class type."
     ]
    },
    {
     "cell_type": "code",
     "collapsed": false,
     "input": [
      "my_functional_group = FunctionalGroup()\n",
      "my_other_functional_group = FunctionalGroup()"
     ],
     "language": "python",
     "metadata": {},
     "outputs": [],
     "prompt_number": 3
    },
    {
     "cell_type": "code",
     "collapsed": false,
     "input": [
      "type(my_functional_group)"
     ],
     "language": "python",
     "metadata": {},
     "outputs": [
      {
       "metadata": {},
       "output_type": "pyout",
       "prompt_number": 4,
       "text": [
        "__main__.FunctionalGroup"
       ]
      }
     ],
     "prompt_number": 4
    },
    {
     "cell_type": "code",
     "collapsed": false,
     "input": [
      "my_functional_group is my_other_functional_group"
     ],
     "language": "python",
     "metadata": {},
     "outputs": [
      {
       "metadata": {},
       "output_type": "pyout",
       "prompt_number": 5,
       "text": [
        "False"
       ]
      }
     ],
     "prompt_number": 5
    },
    {
     "cell_type": "markdown",
     "metadata": {
      "slideshow": {
       "slide_type": "slide"
      }
     },
     "source": [
      "Members and attributes\n",
      "----------------------\n",
      "\n",
      "Python uses dot notation to access **members** of an instance. In some languages, the structure of a class is strictly predefined, but usually Python lets us add and access **attributes** on the fly."
     ]
    },
    {
     "cell_type": "code",
     "collapsed": false,
     "input": [
      "my_functional_group.name = 'Amine'"
     ],
     "language": "python",
     "metadata": {},
     "outputs": [],
     "prompt_number": 6
    },
    {
     "cell_type": "code",
     "collapsed": false,
     "input": [
      "my_functional_group.name"
     ],
     "language": "python",
     "metadata": {},
     "outputs": [
      {
       "metadata": {},
       "output_type": "pyout",
       "prompt_number": 7,
       "text": [
        "'Amine'"
       ]
      }
     ],
     "prompt_number": 7
    },
    {
     "cell_type": "markdown",
     "metadata": {
      "slideshow": {
       "slide_type": "slide"
      }
     },
     "source": [
      "The `hasattr` function can tell you if the attribute exists and the `setattr` and `getattr` functions do similar things to dot notation (except they can gracefully handle cases where the attribute does not exist)."
     ]
    },
    {
     "cell_type": "code",
     "collapsed": false,
     "input": [
      "hasattr(my_other_functional_group, 'name')"
     ],
     "language": "python",
     "metadata": {},
     "outputs": [
      {
       "metadata": {},
       "output_type": "pyout",
       "prompt_number": 8,
       "text": [
        "False"
       ]
      }
     ],
     "prompt_number": 8
    },
    {
     "cell_type": "code",
     "collapsed": false,
     "input": [
      "# Return a default value rather than having an error when \n",
      "# using . access\n",
      "getattr(my_other_functional_group, 'name', 'Unknown')"
     ],
     "language": "python",
     "metadata": {},
     "outputs": [
      {
       "metadata": {},
       "output_type": "pyout",
       "prompt_number": 9,
       "text": [
        "'Unknown'"
       ]
      }
     ],
     "prompt_number": 9
    },
    {
     "cell_type": "markdown",
     "metadata": {
      "slideshow": {
       "slide_type": "slide"
      }
     },
     "source": [
      "Mutability\n",
      "----------\n",
      "\n",
      "+ Mutability is the ability to change something, or mutate it, in place.\n",
      "+ In functional programming mutability is forbidden -> functions always retrun something new"
     ]
    },
    {
     "cell_type": "code",
     "collapsed": false,
     "input": [
      "number = 7  # numbers are immutable\n",
      "number_alias = number\n",
      "number += 1  # we can't alter the number 7; rebind to calculated value\n",
      "print(\"number: {}, number_alias: {}, identical: {}\".format(\n",
      "    number, number_alias, number is number_alias))"
     ],
     "language": "python",
     "metadata": {},
     "outputs": [
      {
       "output_type": "stream",
       "stream": "stdout",
       "text": [
        "number: 8, number_alias: 7, identical: False\n"
       ]
      }
     ],
     "prompt_number": 10
    },
    {
     "cell_type": "code",
     "collapsed": false,
     "input": [
      "items = [1, 2, 3]\n",
      "items_alias = items\n",
      "items[0] = 4  # we can mutate the list in place\n",
      "print(\"items: {}, items_alias: {}, identical: {}\".format(\n",
      "    items, items_alias, items is items_alias))"
     ],
     "language": "python",
     "metadata": {
      "slideshow": {
       "slide_type": "slide"
      }
     },
     "outputs": [
      {
       "output_type": "stream",
       "stream": "stdout",
       "text": [
        "items: [4, 2, 3], items_alias: [4, 2, 3], identical: True\n"
       ]
      }
     ],
     "prompt_number": 11
    },
    {
     "cell_type": "code",
     "collapsed": false,
     "input": [
      "my_functional_group.number = 7\n",
      "\n",
      "def number_mutate(obj):\n",
      "    \"\"\"Mutate the number attached to obj\"\"\"\n",
      "    obj.number += 1\n",
      "    return obj\n",
      "\n",
      "mutated_functional_group = number_mutate(my_functional_group)\n",
      "\n",
      "print(\"my_functional_group.number: {}\".format(my_functional_group.number))\n",
      "print(\"identical: {}\".format(my_functional_group is mutated_functional_group))"
     ],
     "language": "python",
     "metadata": {
      "slideshow": {
       "slide_type": "slide"
      }
     },
     "outputs": [
      {
       "output_type": "stream",
       "stream": "stdout",
       "text": [
        "my_functional_group.number: 8\n",
        "identical: True\n"
       ]
      }
     ],
     "prompt_number": 12
    },
    {
     "cell_type": "markdown",
     "metadata": {},
     "source": [
      "As you can see, objects offer a lot of *mutability* and flexibility in how they handle data. This also means that the programmers have to be diligent when manipulating objects that are multiply referenced or where the changes are undocumented, which they never should be."
     ]
    },
    {
     "cell_type": "markdown",
     "metadata": {},
     "source": [
      "Be aware that there are different levels of **equality**.  We use `==` to test when things have equal values, but the `is` keyword will test for when names reference exactly the same object. This arises in Python as variable names are better thought of as labels on objects, and objects can have several lables. There are special ways to define the 'value' and 'equality' testing of objects that will be mentioned later."
     ]
    },
    {
     "cell_type": "markdown",
     "metadata": {
      "slideshow": {
       "slide_type": "slide"
      }
     },
     "source": [
      "Class attributes\n",
      "----------------\n",
      "\n",
      "Attributes that are defined for the class are accessible for every instance of that class, but attributes for the instance are local and persist only in that object."
     ]
    },
    {
     "cell_type": "code",
     "collapsed": false,
     "input": [
      "FunctionalGroup.owner = 'tdaff'  # set on the class, not the instance"
     ],
     "language": "python",
     "metadata": {},
     "outputs": [],
     "prompt_number": 13
    },
    {
     "cell_type": "code",
     "collapsed": false,
     "input": [
      "my_functional_group.owner"
     ],
     "language": "python",
     "metadata": {},
     "outputs": [
      {
       "metadata": {},
       "output_type": "pyout",
       "prompt_number": 14,
       "text": [
        "'tdaff'"
       ]
      }
     ],
     "prompt_number": 14
    },
    {
     "cell_type": "markdown",
     "metadata": {
      "slideshow": {
       "slide_type": "slide"
      }
     },
     "source": [
      "Building a class\n",
      "----------------\n",
      "\n",
      "Where you have many data items that have a very similar data structure it is useful to define a class to logically collect the data together."
     ]
    },
    {
     "cell_type": "code",
     "collapsed": false,
     "input": [
      "from datetime import datetime\n",
      "from operator import add\n",
      "\n",
      "class FunctionalGroup(object):\n",
      "    \"\"\"A single functional group.\"\"\"\n",
      "    owner = 'tdaff'\n",
      "    \n",
      "    def __init__(self, name, formula, position=[0, 0, 0]):\n",
      "        \"\"\"Create a new FunctionalGroup at the position or origin.\"\"\"\n",
      "        self.name = name\n",
      "        self.formula = formula\n",
      "        self._position = position\n",
      "        self.__timestamp = datetime.now()\n",
      "    \n",
      "    def move(self, vector):\n",
      "        \"\"\"Displace the group by the given amount.\"\"\"\n",
      "        self._position = [add(here, move) \n",
      "                          for(here, move) in \n",
      "                          zip(self._position, vector)]\n",
      "    \n",
      "    def locate(self):\n",
      "        \"\"\"Tell where the group is located.\"\"\"\n",
      "        return self._position"
     ],
     "language": "python",
     "metadata": {},
     "outputs": [],
     "prompt_number": 15
    },
    {
     "cell_type": "markdown",
     "metadata": {},
     "source": [
      "As always, our code is well documented. Here we have redefined the class in a more structured manner. The `owner` class attribute is now implicit in the definition so that all instances will have it. We have also included a **constructor** method. Any function defined in the top level of your class definition is called a **method** and it is bound to that object type and accessible by all instances of that object.\n",
      "\n",
      "Methods that are surrounded by __double_underscores__ usually have a special meaning. In this case the `__init__()` method is called when creating a new instance. If it is not defined in the class, this method exists but does nothing.\n",
      "\n",
      "Other methods with __double_underscores__ are called when certain functions are used on objects, for example `print()` uses the result from `__str__()` and `==` uses `__eq__()` to test for equality."
     ]
    },
    {
     "cell_type": "markdown",
     "metadata": {
      "slideshow": {
       "slide_type": "slide"
      }
     },
     "source": [
      "Using our class\n",
      "---------------"
     ]
    },
    {
     "cell_type": "code",
     "collapsed": false,
     "input": [
      "my_functional_group = FunctionalGroup('Cyanide', 'CN')"
     ],
     "language": "python",
     "metadata": {
      "slideshow": {
       "slide_type": "-"
      }
     },
     "outputs": [],
     "prompt_number": 16
    },
    {
     "cell_type": "code",
     "collapsed": false,
     "input": [
      "my_functional_group.__dict__"
     ],
     "language": "python",
     "metadata": {},
     "outputs": [
      {
       "metadata": {},
       "output_type": "pyout",
       "prompt_number": 17,
       "text": [
        "{'_FunctionalGroup__timestamp': datetime.datetime(2014, 3, 10, 18, 22, 42, 134900),\n",
        " '_position': [0, 0, 0],\n",
        " 'formula': 'CN',\n",
        " 'name': 'Cyanide'}"
       ]
      }
     ],
     "prompt_number": 17
    },
    {
     "cell_type": "markdown",
     "metadata": {},
     "source": [
      "To use our constructor we call the class with some arguments. Note that only two arguments are given, the first argument, `self` is special. A method will be passed the instance as its first argument, by convention this is always called `self` (in some languages this is passed implicitly as `this`, but in Python we explicitly define it). We have used the arguments to set up the instance attributes for the object.\n",
      "\n",
      "We have also set up two other attributes: the underscore in `_position` indicates that it is an internal attribute that people using the FunctionalGroup class shouldn't worry about but can access if they *really* need to. The double underscore on the `__timestamp` means that the attribute should not be accessed outside of the class, and to prevent this the name is mangled for external access. In other languages this would be the equivalent of a **private** variable (and others are all **public**), but in those cases it would be almost impossible to have external access to them.\n",
      "\n",
      "The method of having a public interface and keeping the internal implementation is known as **encapsulation** and is one of the key concepts of object oriented programming."
     ]
    },
    {
     "cell_type": "markdown",
     "metadata": {
      "slideshow": {
       "slide_type": "slide"
      }
     },
     "source": [
      "Methods\n",
      "-------\n",
      "\n",
      "The other methods are defined as **instance methods**. As with `__init__`, they are passed the instance as the first argument and will perform some action on the instance. *If there is no action upon the instance then the instance method is probably better defined as a function*. In this example, the position is a mutable piece of state that we are affecting."
     ]
    },
    {
     "cell_type": "code",
     "collapsed": false,
     "input": [
      "my_functional_group.locate()"
     ],
     "language": "python",
     "metadata": {},
     "outputs": [
      {
       "metadata": {},
       "output_type": "pyout",
       "prompt_number": 18,
       "text": [
        "[0, 0, 0]"
       ]
      }
     ],
     "prompt_number": 18
    },
    {
     "cell_type": "code",
     "collapsed": false,
     "input": [
      "my_functional_group.move([1.1, 2.5, 3.7])\n",
      "my_functional_group.locate()"
     ],
     "language": "python",
     "metadata": {},
     "outputs": [
      {
       "metadata": {},
       "output_type": "pyout",
       "prompt_number": 19,
       "text": [
        "[1.1, 2.5, 3.7]"
       ]
      }
     ],
     "prompt_number": 19
    },
    {
     "cell_type": "markdown",
     "metadata": {},
     "source": [
      "Instead of directly accessing the position of our group we have defined an interface that can tell us where it is and to move it, while keeping the internal implementation hidden from the user.\n",
      "\n",
      "*Think carefully about your **Application Programming Interface (API)**.* How should your objects be used? Make them simple enough that they are easy to understand but powerful enough that they are useful."
     ]
    },
    {
     "cell_type": "markdown",
     "metadata": {
      "slideshow": {
       "slide_type": "slide"
      }
     },
     "source": [
      "Getters and setters\n",
      "-------------------\n",
      "\n",
      "When dealing with attributes we use **getters and setters**. Normally we use the dot notation to directly access attributes, but we can encapsulate more complex transformations with getter and setter methods:"
     ]
    },
    {
     "cell_type": "code",
     "collapsed": false,
     "input": [
      "from operator import mul, div\n",
      "\n",
      "class Point(object):\n",
      "    \"\"\"A point that we do stuff with. External units are Angstrom.\"\"\"\n",
      "    \n",
      "    conversion_factor = 1.889725989\n",
      "    \n",
      "    def __init__(self):\n",
      "        \"\"\"A Point with all defaults.\"\"\"\n",
      "        # Keep the position in internal units of Bohr\n",
      "        self._internal_position = [0, 0, 0]\n",
      "    \n",
      "    def set_position(self, coordinates):\n",
      "        \"\"\"Place Point at real world coordinates given in Angstrom.\"\"\"\n",
      "        self._internal_position = [mul(coordinate, self.conversion_factor) \n",
      "                                   for coordinate in coordinates]\n",
      "        \n",
      "    def get_position(self):\n",
      "        \"\"\"Return the position of Point in real world coordinates of Angstrom.\"\"\"\n",
      "        return [div(coordinate, self.conversion_factor)\n",
      "                for coordinate in self._internal_position]\n",
      "    \n",
      "    position = property(get_position, set_position)\n",
      "    \n",
      "    @property\n",
      "    def distance_away(self):\n",
      "        \"\"\"Calculate how far Point is from the origin.\"\"\"\n",
      "        return div(pow(sum(mul(x, x) for x in self._internal_position), 0.5), self.conversion_factor)\n"
     ],
     "language": "python",
     "metadata": {},
     "outputs": [],
     "prompt_number": 20
    },
    {
     "cell_type": "code",
     "collapsed": false,
     "input": [
      "point = Point()  # instance of out Point"
     ],
     "language": "python",
     "metadata": {
      "slideshow": {
       "slide_type": "slide"
      }
     },
     "outputs": [],
     "prompt_number": 21
    },
    {
     "cell_type": "code",
     "collapsed": false,
     "input": [
      "point.position  # property acts like an attribute, but encapsulates more logic"
     ],
     "language": "python",
     "metadata": {},
     "outputs": [
      {
       "metadata": {},
       "output_type": "pyout",
       "prompt_number": 22,
       "text": [
        "[0.0, 0.0, 0.0]"
       ]
      }
     ],
     "prompt_number": 22
    },
    {
     "cell_type": "code",
     "collapsed": false,
     "input": [
      "point.position = [1.11, 3.2, 7.4]"
     ],
     "language": "python",
     "metadata": {},
     "outputs": [],
     "prompt_number": 23
    },
    {
     "cell_type": "code",
     "collapsed": false,
     "input": [
      "point._internal_position  # private member, don't touch!"
     ],
     "language": "python",
     "metadata": {},
     "outputs": [
      {
       "metadata": {},
       "output_type": "pyout",
       "prompt_number": 24,
       "text": [
        "[2.09759584779, 6.0471231648, 13.983972318600001]"
       ]
      }
     ],
     "prompt_number": 24
    },
    {
     "cell_type": "code",
     "collapsed": false,
     "input": [
      "point.get_position()  # can use the getter directly"
     ],
     "language": "python",
     "metadata": {},
     "outputs": [
      {
       "metadata": {},
       "output_type": "pyout",
       "prompt_number": 25,
       "text": [
        "[1.11, 3.2, 7.4]"
       ]
      }
     ],
     "prompt_number": 25
    },
    {
     "cell_type": "code",
     "collapsed": false,
     "input": [
      "point.distance_away  # multiple properties depend on same encapsulated data"
     ],
     "language": "python",
     "metadata": {},
     "outputs": [
      {
       "metadata": {},
       "output_type": "pyout",
       "prompt_number": 26,
       "text": [
        "8.138310635506611"
       ]
      }
     ],
     "prompt_number": 26
    },
    {
     "cell_type": "code",
     "collapsed": false,
     "input": [
      "#point.distance_away = 55.0\n",
      "#AttributeError: can't set attribute"
     ],
     "language": "python",
     "metadata": {},
     "outputs": [],
     "prompt_number": 27
    }
   ],
   "metadata": {}
  }
 ]
}