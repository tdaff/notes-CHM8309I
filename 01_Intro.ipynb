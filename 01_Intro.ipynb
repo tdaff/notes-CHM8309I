{
 "metadata": {
  "celltoolbar": "Slideshow",
  "name": "",
  "signature": "sha256:5e49bf8213f09016441db052ba667dac9fec0d2e60b52c7d276d563875bac2dc"
 },
 "nbformat": 3,
 "nbformat_minor": 0,
 "worksheets": [
  {
   "cells": [
    {
     "cell_type": "markdown",
     "metadata": {
      "slideshow": {
       "slide_type": "slide"
      }
     },
     "source": [
      "CHM8309 A: Advanced Scientific Programming for Chemists\n",
      "======================================================="
     ]
    },
    {
     "cell_type": "markdown",
     "metadata": {
      "slideshow": {
       "slide_type": "slide"
      }
     },
     "source": [
      "Instructors\n",
      "-----------\n",
      "\n",
      "Dr. Tom Daff   \n",
      "office: Marion 017D (email for an appointment)   \n",
      "email: [tdaff@uottawa.ca](mailto://tdaff@uottawa.ca)   \n",
      "\n",
      "\n",
      "Prof. Tom Woo (helping with preparation of material and marking etc.)   \n",
      "office: D'Iorio 303   \n",
      "email: [twoo@uottawa.ca](mailto://twoo@uotawa.ca) (but direct all questions to tdaff)   \n"
     ]
    },
    {
     "cell_type": "markdown",
     "metadata": {
      "slideshow": {
       "slide_type": "slide"
      }
     },
     "source": [
      "About the Course\n",
      "================\n",
      "\n",
      "* Classes are 3 hours once a week for 6 classes\n",
      "    + Tuesday 13:00 - 14:30 in VNR 3076\n",
      "    + Tuesday 14:30 - 16:00 in LMX 106\n",
      "\n",
      "* Classes will be mostly me talking and sometimes you doing\n",
      "    + Ask questions\n",
      "    + Start discussions\n",
      "    + We can adapt to what works best\n",
      "* Assessment will besed on exercises set based on what is covered in classes, and a project bringing everything together\n",
      "* Lecture notes will be provided as a hard copy and electronically\n",
      "    + Various reading lists will be provided as we progress\n",
      "* Updates on the course website [http://titan.chem.uottawa.ca/CHM8309I](http://titan.chem.uottawa.ca/CHM8309I)\n",
      "    + APTPUO copyright notice"
     ]
    },
    {
     "cell_type": "markdown",
     "metadata": {
      "slideshow": {
       "slide_type": "slide"
      }
     },
     "source": [
      "Who am I?\n",
      "---------\n",
      "\n",
      "+ Postdoc in Tom Woo's Lab doing computational materials science\n",
      "+ Self taught programming since BASIC in early 90's\n",
      "+ Scientific Python for many years (but still learning)\n",
      "+ Program materials design, molecular simulation and general automation and processing\n",
      "+ Several other secondary languages: Fortran, C/C++, etc..."
     ]
    },
    {
     "cell_type": "markdown",
     "metadata": {
      "slideshow": {
       "slide_type": "slide"
      }
     },
     "source": [
      "What do I expect from you?\n",
      "--------------------------\n",
      "\n",
      " * Become a better scientific programmer\n",
      " * Write effective code to solve problems\n",
      " * Be able to use the tools available to you to make your life easier\n",
      " * Work effectively as part of a team\n",
      "\n",
      "Prerequisites:\n",
      "\n",
      " * Some programming experience\n",
      " * Motivation\n",
      "\n",
      "This course serves as a *guide* for a number of different topics and you will have to do self-guided learning to become fully proficient.\n",
      "\n",
      " * You will be shown how to do things\n",
      " * Where to get other knowledge that you will need\n",
      " * You will be expected to read and practice as necessary to complete the exercises\n",
      " * Read around the subjects, there is an endless quantity of great documentation out there"
     ]
    },
    {
     "cell_type": "markdown",
     "metadata": {
      "slideshow": {
       "slide_type": "slide"
      }
     },
     "source": [
      "What do you expect?\n",
      "-------------------\n",
      "\n",
      "+ Who are you?\n",
      "+ What do you expect to gain from this course?\n"
     ]
    },
    {
     "cell_type": "markdown",
     "metadata": {
      "slideshow": {
       "slide_type": "slide"
      }
     },
     "source": [
      "Why are we learning with Python?\n",
      "--------------------------------\n",
      "\n",
      "+ Clear\n",
      "+ Expressive\n",
      "+ Readable\n",
      "+ Multi paradigm\n",
      "+ Scientific Libraries\n",
      "+ Ubiquitous"
     ]
    },
    {
     "cell_type": "markdown",
     "metadata": {
      "slideshow": {
       "slide_type": "slide"
      }
     },
     "source": [
      "Python is easy to pick up if you have done any kind of programming before, and even if you haven't. It is easy to express ideas at a high level without worrying about boilerplate and fiddly bits of other languages. Because the course is designed to intorduce different ways of programming, these will be taught in a simple manner that doesn't require a lot of prior experience. You can get a good crash course at [http://learnpythonthehardway.org/book/](http://learnpythonthehardway.org/book/) if you feel you need to get up-to-speed at any point. For everything else the offical documentation is great [http://docs.python.org/index.html](http://docs.python.org/index.html). This includes a tutorial and full documentation for all the standard modules.\n"
     ]
    },
    {
     "cell_type": "markdown",
     "metadata": {
      "slideshow": {
       "slide_type": "slide"
      }
     },
     "source": [
      "Topics\n",
      "------\n",
      "\n",
      "The following topics will be covered. Any other topics that might interest you could also be included so make any suggestions.\n",
      "\n",
      "+ Best Practices\n",
      "+ Pure Functional Programming and stateless programs\n",
      "+ Object Oriented Programming\n",
      "+ Testing\n",
      "+ Debugging\n",
      "+ Profiling\n",
      "+ Parallel Programming Methods\n",
      "+ Project design and management\n",
      "+ Miscellaneous Topics\n",
      "+ Python the British way"
     ]
    },
    {
     "cell_type": "heading",
     "level": 1,
     "metadata": {
      "slideshow": {
       "slide_type": "slide"
      }
     },
     "source": [
      "Tools"
     ]
    },
    {
     "cell_type": "markdown",
     "metadata": {
      "slideshow": {
       "slide_type": "slide"
      }
     },
     "source": [
      "The IPython Notebook\n",
      "--------------------\n",
      "\n",
      "The IPython notebook is:\n",
      "\n",
      "+ An interactive Python session\n",
      "+ A document that retains input and output\n",
      "\n",
      "This course is written as IPython notebooks as it helps to include dynamic code snippets. It also makes nice interactive assignment worksheets.\n",
      "\n",
      "I recommended that you all get accounts at [http://wakari.io/](http://wakari.io) which can keep all your stuff in the cloud and should maintain a high quality environment for you. Any problems?\n",
      "\n",
      "Each box contains either text (like this one) with Markdown formatting. **DOUBLE CLICK** to edit or use the menus above. **SHIFT+ENTER** finishes the cell.\n",
      "\n",
      "Kernel state might get confusing - the environment is persistent; to start clean just do _Kernel->Restart_ and _Cell->Run All_\n",
      "\n",
      "_do a demo_"
     ]
    },
    {
     "cell_type": "code",
     "collapsed": false,
     "input": [
      "# Or it can contain code like this one\n",
      "x = 13\n",
      "print(x + 22)"
     ],
     "language": "python",
     "metadata": {
      "slideshow": {
       "slide_type": "slide"
      }
     },
     "outputs": [
      {
       "output_type": "stream",
       "stream": "stdout",
       "text": [
        "35\n"
       ]
      }
     ],
     "prompt_number": 1
    },
    {
     "cell_type": "code",
     "collapsed": false,
     "input": [
      "def square(number):\n",
      "    \"\"\"Return the number multiplied by itself\"\"\"\n",
      "    return number * number\n",
      "\n",
      "print(square(6))\n",
      "square(12)\n",
      "square(32)"
     ],
     "language": "python",
     "metadata": {},
     "outputs": [
      {
       "output_type": "stream",
       "stream": "stdout",
       "text": [
        "36\n"
       ]
      },
      {
       "metadata": {},
       "output_type": "pyout",
       "prompt_number": 2,
       "text": [
        "1024"
       ]
      }
     ],
     "prompt_number": 2
    },
    {
     "cell_type": "markdown",
     "metadata": {
      "slideshow": {
       "slide_type": "slide"
      }
     },
     "source": [
      "Wooki or own machine\n",
      "--------------------\n",
      "\n",
      "+ I will make you all accounts on wooki which you can use for larger development work later on.\n",
      "    + Anyone need one?\n",
      "+ One of the most important parts of development is finding a working environment that you feel comfortable in.\n",
      "    + I change every other week"
     ]
    },
    {
     "cell_type": "markdown",
     "metadata": {
      "slideshow": {
       "slide_type": "slide"
      }
     },
     "source": [
      "Student benefits\n",
      "----------------\n",
      "\n",
      "+ Komodo IDE is my favourite\n",
      "    + [http://komodoide.com/](http://komodoide.com/) \n",
      "    + The full IDE has better features then the free version like debugging and profiling \n",
      "    + License files on the course website; do not redistribute!\n",
      "    + Updates until the license runs out, but keeps working\n",
      "\n",
      "+ PyCharm has improved a lot\n",
      "    + [http://www.jetbrains.com/pycharm/](http://www.jetbrains.com/pycharm/)\n",
      "    + License on the course website\n",
      "    + Stops working when the license runs out\n",
      "    + Free version is fairly functional\n",
      "\n",
      "+ [https://www.dreamspark.com/](https://www.dreamspark.com/)\n",
      "    + Free development tools from Microsoft\n",
      "    + Visual studio IDE \n",
      "        + Excellent for C++, C#, F#, Visual Basic, Web technologies\n",
      "        + use this with PTVS [https://pytools.codeplex.com/](https://pytools.codeplex.com/) for python programming\n",
      "        + Works with Intel Fortran compilers, but they are not free\n",
      "    + Science should be getting the 'Premium' version soon\n",
      "\n",
      "+ Anaconda Python\n",
      "    + Prepackaged Python with many scientific libraries \n",
      "    + Premium add-ons are free for academics [https://store.continuum.io/cshop/academicanaconda](https://store.continuum.io/cshop/academicanaconda)\n",
      "\n",
      "+ Enthought Canopy\n",
      "    + [https://www.enthought.com/products/canopy/](https://www.enthought.com/products/canopy/)\n",
      "    + A different distribution of python with a large selection of libraries\n",
      "    + Academic license gives access to all the pacakges and updates\n",
      "\n",
      "+ I can probably get teaching licenses if there is software you are interested in.\n"
     ]
    },
    {
     "cell_type": "markdown",
     "metadata": {
      "slideshow": {
       "slide_type": "skip"
      }
     },
     "source": [
      "\n",
      "--  \n",
      "\n",
      "\u00a9 Tom Daff - All rights reserved"
     ]
    }
   ],
   "metadata": {}
  }
 ]
}