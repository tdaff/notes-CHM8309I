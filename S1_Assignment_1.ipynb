{
 "metadata": {
  "name": "",
  "signature": "sha256:0639a545fa2777b47dd9e6ff6a3d5d9696fa56c8c5f1a2519796f7ba797bdd78"
 },
 "nbformat": 3,
 "nbformat_minor": 0,
 "worksheets": [
  {
   "cells": [
    {
     "cell_type": "markdown",
     "metadata": {},
     "source": [
      "Assignment 1\n",
      "============\n",
      "\n",
      "Due on March 18th. Fill in answers in the notebook and send me a copy of the `.ipynb` file when you are done.\n",
      "\n",
      "Much of this is designed so that you can apply things that were shown in the functional programming class."
     ]
    },
    {
     "cell_type": "markdown",
     "metadata": {},
     "source": [
      "The following code is taken from the mercurial package. It is syntactically correct, but is riddled with ugly PEP-8 violations. Make the code as PEP-8 compliant as possible by correcting the formatting, whitespace and general layout (there is no need to rename things or add documentation, just reformat)."
     ]
    },
    {
     "cell_type": "code",
     "collapsed": false,
     "input": [
      "# parser.py - simple top-down operator precedence parser for mercurial\n",
      "\n",
      "import sys, os\n",
      "\n",
      "#from i18n import _\n",
      "\n",
      "class parser(object):\n",
      "    def __init__(self, tokenizer, elements,   methods = None):\n",
      "      self._tokenizer = tokenizer\n",
      "      self._elements = elements\n",
      "      self._methods=methods\n",
      "      self.current=None\n",
      "\n",
      "\n",
      "\n",
      "\n",
      "    def _match (self, m,pos):\n",
      "        'make sure the tokenizer matches an end condition'\n",
      "        if self.current[0] != m:\n",
      "            raise error.ParseError(_(  \"unexpected token: %s\"  ) % self.current[0], self.current[2])\n",
      "        self._advance()\n",
      "    def _parse( self, bind=0 ):\n",
      "        token, value, pos = self._advance()\n",
      "        # handle prefix rules on current token\n",
      "        prefix = self._elements[token][1]\n",
      "        if not prefix :\n",
      "            raise error.ParseError(_(\"not a prefix: %s\") % token, pos)\n",
      "        if len(prefix) == 1:\n",
      "            expr = (prefix[0], value)\n",
      "        else:\n",
      "            if len(prefix)>2 and prefix[2] ==  self.current[0]:\n",
      "                self._match(prefix[2], pos)\n",
      "                expr = (prefix [0], None) # always none for second item\n",
      "            else:\n",
      "                expr = (prefix [ 0 ], self._parse(prefix[1]))\n",
      "                if len(prefix) > 2 :\n",
      "                    self._match(prefix[2], pos)\n",
      "        return expr\n",
      "    def parse (self, message):\n",
      "        'generate a parse tree from a message'\n",
      "        self._iter = self._tokenizer(message); self._advance()\n",
      "        res = self._parse ()\n",
      "        token,value,pos=self.current\n",
      "        return res,pos\n"
     ],
     "language": "python",
     "metadata": {},
     "outputs": [],
     "prompt_number": 1
    },
    {
     "cell_type": "code",
     "collapsed": false,
     "input": [
      "# parser.py - simple top-down operator precedence parser for mercurial\n",
      "\n",
      "import sys\n",
      "import os\n",
      "\n",
      "#from i18n import _\n",
      "\n",
      "\n",
      "class parser(object):\n",
      "    def __init__(self, tokenizer, elements, methods=None):\n",
      "        self._tokenizer = tokenizer\n",
      "        self._elements = elements\n",
      "        self._methods = methods\n",
      "        self.current = None\n",
      "\n",
      "    def _match(self, m, pos):\n",
      "        'make sure the tokenizer matches an end condition'\n",
      "        if self.current[0] != m:\n",
      "            raise error.ParseError(_(\"unexpected token: %s\") % self.current[0],\n",
      "                                   self.current[2])\n",
      "        self._advance()\n",
      "\n",
      "    def _parse(self, bind=0):\n",
      "        token, value, pos = self._advance()\n",
      "        # handle prefix rules on current token\n",
      "        prefix = self._elements[token][1]\n",
      "        if not prefix:\n",
      "            raise error.ParseError(_(\"not a prefix: %s\") % token, pos)\n",
      "        if len(prefix) == 1:\n",
      "            expr = (prefix[0], value)\n",
      "        else:\n",
      "            if len(prefix) > 2 and prefix[2] == self.current[0]:\n",
      "                self._match(prefix[2], pos)\n",
      "                expr = (prefix[0], None)  # always none for second item\n",
      "            else:\n",
      "                expr = (prefix[0], self._parse(prefix[1]))\n",
      "                if len(prefix) > 2:\n",
      "                    self._match(prefix[2], pos)\n",
      "        return expr\n",
      "\n",
      "    def parse(self, message):\n",
      "        'generate a parse tree from a message'\n",
      "        self._iter = self._tokenizer(message)\n",
      "        self._advance()\n",
      "        res = self._parse()\n",
      "        token, value, pos = self.current\n",
      "        return res, pos"
     ],
     "language": "python",
     "metadata": {},
     "outputs": [],
     "prompt_number": 2
    },
    {
     "cell_type": "markdown",
     "metadata": {},
     "source": [
      "For the following exercises use one box to write your function and the second to give an example."
     ]
    },
    {
     "cell_type": "markdown",
     "metadata": {},
     "source": [
      "Write a function that converts kcal/mol to kJ/mol."
     ]
    },
    {
     "cell_type": "code",
     "collapsed": false,
     "input": [
      "# A pure functional option\n",
      "from operator import mul\n",
      "\n",
      "def kcal_to_kjoule(energy):\n",
      "    \"\"\"Convert then energy from SI kcal/mol to kJ/mol.\"\"\"\n",
      "    return mul(4.184, energy)\n",
      "\n",
      "\n",
      "\n",
      "# Using a global constant if you use the constant elsewhere\n",
      "# with infix notation for the operation\n",
      "KCAL_TO_KJOULE = 4.184 \n",
      "\n",
      "def kcal_to_kjoule(energy):\n",
      "    \"\"\"Convert then energy from SI kcal/mol to kJ/mol.\"\"\"\n",
      "    return energy * KCAL_TO_KJOULE"
     ],
     "language": "python",
     "metadata": {},
     "outputs": [],
     "prompt_number": 3
    },
    {
     "cell_type": "code",
     "collapsed": false,
     "input": [
      "kcal_to_kjoule(10.0)"
     ],
     "language": "python",
     "metadata": {},
     "outputs": [
      {
       "metadata": {},
       "output_type": "pyout",
       "prompt_number": 4,
       "text": [
        "41.84"
       ]
      }
     ],
     "prompt_number": 4
    },
    {
     "cell_type": "markdown",
     "metadata": {},
     "source": [
      "The Lennard-Jones potential is an approximation for the non bonding interactions between particles.\n",
      "\n",
      "$V_{LJ} = 4\\epsilon \\left[(\\frac{\\sigma}{r})^{12}-(\\frac{\\sigma}{r})^{6}\\right] $\n",
      "\n",
      "Write a function that takes arguments of $\\sigma$ and $\\epsilon$ and uses a closure to create and return Lennard-Jones functions with fixed parameters for $\\sigma$ and $\\epsilon$.\n"
     ]
    },
    {
     "cell_type": "code",
     "collapsed": false,
     "input": [
      "# A pure functional option creates a closure\n",
      "from operator import mul, sub, div\n",
      "\n",
      "def lennard_jones_factory(sigma, epsilon):\n",
      "    \"\"\"Return functions that calculate the LJ potentail for set parameters.\"\"\"\n",
      "    def fixed_lennard_jones(radius):\n",
      "        \"\"\"Calculate the LJ potential for fixed sigma and epsilon values.\"\"\"\n",
      "        return mul(mul(4.0, epsilon),\n",
      "                   sub(pow(div(sigma, radius), 12.0), \n",
      "                       pow(div(sigma, radius), 6.0)))\n",
      "    return fixed_lennard_jones\n",
      "\n",
      "\n",
      "# Same thing with infix operators\n",
      "def lennard_jones_factory(sigma, epsilon):\n",
      "    \"\"\"Return functions that calculate the LJ potentail for set parameters.\"\"\"\n",
      "    def fixed_lennard_jones(radius):\n",
      "        \"\"\"Calculate the LJ potential for fixed sigma and epsilon values.\"\"\"\n",
      "        return 4*epsilon*(((sigma/radius)**12) - ((sigma/radius)**6))\n",
      "    return fixed_lennard_jones\n"
     ],
     "language": "python",
     "metadata": {},
     "outputs": [],
     "prompt_number": 5
    },
    {
     "cell_type": "code",
     "collapsed": false,
     "input": [
      "my_sigma = 3.4\n",
      "my_epsilon = 2.2\n",
      "\n",
      "test_lj = lennard_jones_factory(my_sigma, my_epsilon)\n",
      "\n",
      "print(\"LJ is zero at radius=sigma\")\n",
      "print(test_lj(my_sigma))\n",
      "print(\"LJ is -epsilon at radius=sigma*2**(1/6)\")\n",
      "print(test_lj(mul(pow(2.0, div(1.0, 6.0)), my_sigma)))\n",
      "\n",
      "%matplotlib inline  \n",
      "import pylab\n",
      "import numpy as np\n",
      "\n",
      "x_vals = np.arange(3, 8, 0.01)\n",
      "y_vals = [test_lj(x) for x in x_vals]\n",
      "pylab.plot(x_vals, y_vals)\n",
      "pylab.ylim(-2.5, 0.5)"
     ],
     "language": "python",
     "metadata": {},
     "outputs": [
      {
       "output_type": "stream",
       "stream": "stdout",
       "text": [
        "LJ is zero at radius=sigma\n",
        "0.0\n",
        "LJ is -epsilon at radius=sigma*2**(1/6)\n",
        "-2.2\n"
       ]
      },
      {
       "metadata": {},
       "output_type": "pyout",
       "prompt_number": 6,
       "text": [
        "(-2.5, 0.5)"
       ]
      },
      {
       "metadata": {},
       "output_type": "display_data",
       "png": "[encoded data removed]",
       "text": [
        "<matplotlib.figure.Figure at 0x296d6d0>"
       ]
      }
     ],
     "prompt_number": 6
    },
    {
     "cell_type": "markdown",
     "metadata": {},
     "source": [
      "Write a function to calculate the Euclidean distance $d$ between two points in 3D space, $r_1$ and $r_2$, where the positions are given as cartesian positions in lists of [$x$, $y$, $z$].\n",
      "\n",
      "$d = \\vert\\vec{r_1} - \\vec{r_2}\\vert$"
     ]
    },
    {
     "cell_type": "code",
     "collapsed": false,
     "input": [
      "# One line functional implementation probably puts too much in one blob\n",
      "def euclidean_distance(point_one, point_two):\n",
      "    \"\"\"Return the scalar distance between two points.\"\"\"\n",
      "    return pow(sum([pow(sub(x, y), 2) for x, y in zip(point_one, point_two)]), 0.5)\n",
      "\n",
      "\n",
      "# Perhaps it is clearer and gives more reuseable code to \n",
      "# break the definition up a bit\n",
      "from math import sqrt\n",
      "\n",
      "def vector_separation(point_one, point_two):\n",
      "    \"\"\"Return the vector separating two points, as a list.\"\"\"\n",
      "    return [sub(x, y) for x, y in zip(point_two, point_one)]\n",
      "\n",
      "def vector_magnitude(vector):\n",
      "    \"\"\"Return the length of a vector.\"\"\"\n",
      "    return sqrt(sum(mul(x, x) for x in vector))\n",
      "\n",
      "def euclidean_distance(point_one, point_two):\n",
      "    \"\"\"Return the scalar distance between two 3D points.\"\"\"\n",
      "    return vector_magnitude(vector_separation(point_one, point_two))\n",
      "\n",
      "\n",
      "# There may be occasions for not iterating at all, but\n",
      "# this function works strictly for 3D whereas the others\n",
      "# are not restricted in that respect.\n",
      "def euclidean_distance(point_one, point_two):\n",
      "    \"\"\"Return the scalar distance between two 3D points.\"\"\"\n",
      "    return sqrt((point_two[0] - point_one[0])**2 +\n",
      "                (point_two[1] - point_one[1])**2 +\n",
      "                (point_two[2] - point_one[2])**2)\n"
     ],
     "language": "python",
     "metadata": {},
     "outputs": [],
     "prompt_number": 7
    },
    {
     "cell_type": "code",
     "collapsed": false,
     "input": [
      "euclidean_distance([0, 0, 0], [2.0, 2.0, 2.0])"
     ],
     "language": "python",
     "metadata": {},
     "outputs": [
      {
       "metadata": {},
       "output_type": "pyout",
       "prompt_number": 8,
       "text": [
        "3.4641016151377544"
       ]
      }
     ],
     "prompt_number": 8
    },
    {
     "cell_type": "markdown",
     "metadata": {},
     "source": [
      "In fractional coordinates, in a periodic system, $x$ is the same as all periodic images at $n + x$, where n is any integer value. Write a function and apply it to the following coordinates to bring these fractional coordinates back in to the range $0.0 \\le x \\lt 1.0$."
     ]
    },
    {
     "cell_type": "code",
     "collapsed": false,
     "input": [
      "set_of_x_values = [-2.2, 0.2, 0.3, 0.7, 1.2, 1.0, 0.92, -0.2]"
     ],
     "language": "python",
     "metadata": {},
     "outputs": [],
     "prompt_number": 9
    },
    {
     "cell_type": "code",
     "collapsed": false,
     "input": [
      "from operator import mod\n",
      "\n",
      "# The modulus operator can be used to constrain values to a \n",
      "# given range such as 0.0<=x<=1.0; be careful with negative\n",
      "# numbers as some languages round the wrong way\n",
      "def fractional_in_cell(coordinate):\n",
      "    \"\"\"Return the in-cell part of the fractional coordinate.\"\"\"\n",
      "    return mod(coordinate, 1.0)\n",
      "\n",
      "\n",
      "# another version uses conditions to only do the calculation if\n",
      "# it falls outside the range and allows both 1.0 and 0.0 to\n",
      "# be included\n",
      "from math import floor\n",
      "\n",
      "def fractional_in_cell(coordinate):\n",
      "    \"\"\"Return the in-cell part of the fractional coordinate.\"\"\"\n",
      "    if coordinate > 1.0 or coordinate < 0.0:\n",
      "        return coordinate - floor(coordinate)\n",
      "    else:\n",
      "        return coordinate"
     ],
     "language": "python",
     "metadata": {},
     "outputs": [],
     "prompt_number": 10
    },
    {
     "cell_type": "code",
     "collapsed": false,
     "input": [
      "# can process the list with a functional map\n",
      "print(map(fractional_in_cell, set_of_x_values))\n",
      "\n",
      "\n",
      "# A list comprehension is more Pythonic \n",
      "print([fractional_in_cell(x) for x in set_of_x_values])\n",
      "\n",
      "\n",
      "# There are also very imperative ways of doing the same thing\n",
      "new_set_of_x_values = []\n",
      "for value in set_of_x_values:\n",
      "    new_set_of_x_values.append(fractional_in_cell(value))\n",
      "print(new_set_of_x_values)"
     ],
     "language": "python",
     "metadata": {},
     "outputs": [
      {
       "output_type": "stream",
       "stream": "stdout",
       "text": [
        "[0.7999999999999998, 0.2, 0.3, 0.7, 0.19999999999999996, 1.0, 0.92, 0.8]\n",
        "[0.7999999999999998, 0.2, 0.3, 0.7, 0.19999999999999996, 1.0, 0.92, 0.8]\n",
        "[0.7999999999999998, 0.2, 0.3, 0.7, 0.19999999999999996, 1.0, 0.92, 0.8]\n"
       ]
      }
     ],
     "prompt_number": 11
    },
    {
     "cell_type": "markdown",
     "metadata": {},
     "source": [
      "H\u00fcckel's rule is that systems with $4n + 2$ electrons are aromatic; a similar rule exists for 3d systems where $2(n+1)^2$ electrons are needed for aromaticity.\n",
      "\n",
      "Write a generator that yields all numbers up to a given number, but for numbers that satisfy $4n + 2$ return \"aromatic\", for numbers that satisfy $2(n+1)^2$ return \"3d aromatic\" and when both are satisfied return \"both\"."
     ]
    },
    {
     "cell_type": "code",
     "collapsed": false,
     "input": [
      "from operator import mod, add, eq\n",
      "\n",
      "# Define some functions to test if they satisfy the rules\n",
      "def huckel_2d(electrons):\n",
      "    \"\"\"Return True for numbers that satisfy Huckel's rule\"\"\"\n",
      "    return eq(mod(sub(electrons, 2), 4), 0)\n",
      "\n",
      "def huckel_3d(electrons):\n",
      "    \"\"\"Return True for numbers that satisfy Huckel's rule in 3d\"\"\"\n",
      "    return eq(mod(sub(pow(div(electrons, 2.0), 0.5), 1), 1), 0)\n",
      "\n",
      "# make the whole thing as a giant generator expression\n",
      "def huckel_generator(maximum):\n",
      "    \"\"\"\n",
      "    Return a generator object that yields the numbers up to the\n",
      "    maximum but yields \"aromatic\" for numbers that satisfy Huckel's \n",
      "    rule, \"3d aromatic\" when they satisfy the 3d case and \"both\" \n",
      "    when both are satisfied.\n",
      "    \"\"\"\n",
      "    return ('both' if huckel_2d(number) and huckel_3d(number) \n",
      "            else ('3d aromatic' if huckel_3d(number) \n",
      "                  else ('aromatic' if huckel_2d(number) else number)) \n",
      "            for number in range(1, add(maximum, 1)))\n",
      "\n",
      "# putting things out more explicitly makes the code more readable\n",
      "def huckel_generator(maximum):\n",
      "    \"\"\"\n",
      "    A generator that yields the numbers up to the maximum but \n",
      "    yields \"aromatic\" for numbers that satisfy Huckel's rule, \n",
      "    \"3d aromatic\" when they satisfy the 3d case and \"both\" \n",
      "    when both are satisfied.\n",
      "    \"\"\"\n",
      "    for number in range(1, add(maximum, 1)):\n",
      "        if huckel_2d(number) and huckel_3d(number):\n",
      "            yield \"both\"\n",
      "        elif huckel_2d(number):\n",
      "            yield \"aromatic\"\n",
      "        elif huckel_3d(number):\n",
      "            yield \"3d aromatic\"\n",
      "        else:\n",
      "            yield number"
     ],
     "language": "python",
     "metadata": {},
     "outputs": [],
     "prompt_number": 12
    },
    {
     "cell_type": "code",
     "collapsed": false,
     "input": [
      "my_huckel = huckel_generator(10)\n",
      "list(my_huckel)"
     ],
     "language": "python",
     "metadata": {},
     "outputs": [
      {
       "metadata": {},
       "output_type": "pyout",
       "prompt_number": 13,
       "text": [
        "[1, 'both', 3, 4, 5, 'aromatic', 7, '3d aromatic', 9, 'aromatic']"
       ]
      }
     ],
     "prompt_number": 13
    },
    {
     "cell_type": "markdown",
     "metadata": {},
     "source": [
      "Reimplement a power function ($x^y$) as a recursive function."
     ]
    },
    {
     "cell_type": "code",
     "collapsed": false,
     "input": [
      "# just a slight modification of the factorial example\n",
      "from operator import eq, lt, gt, add\n",
      "\n",
      "def recursive_power(number, power):\n",
      "    \"\"\"Raise number to the given power.\"\"\"\n",
      "    if eq(power, 1):\n",
      "        return number\n",
      "    else:\n",
      "        return mul(number, recursive_power(number, sub(power, 1)))\n",
      "\n",
      "\n",
      "# A little less crypticly functional\n",
      "def recursive_power(number, power):\n",
      "    if power == 1:\n",
      "        return number\n",
      "    else:\n",
      "        return number*recursive_power(number, power - 1)\n",
      "\n",
      "\n",
      "# Can also deal with negative numbers\n",
      "def recursive_power(number, power):\n",
      "    \"\"\"Raise number to the given power.\"\"\"\n",
      "    if eq(power, 1):\n",
      "        return number\n",
      "    elif gt(power, 1):\n",
      "        return mul(number, recursive_power(number, sub(power, 1)))\n",
      "    elif lt(power, 1):\n",
      "        return mul(div(1.0, number), recursive_power(number, add(power, 1)))"
     ],
     "language": "python",
     "metadata": {},
     "outputs": [],
     "prompt_number": 14
    },
    {
     "cell_type": "code",
     "collapsed": false,
     "input": [
      "recursive_power(2, 10)"
     ],
     "language": "python",
     "metadata": {},
     "outputs": [
      {
       "metadata": {},
       "output_type": "pyout",
       "prompt_number": 15,
       "text": [
        "1024"
       ]
      }
     ],
     "prompt_number": 15
    },
    {
     "cell_type": "markdown",
     "metadata": {},
     "source": [
      "Assume dummy parameters of 1.0 for $\\sigma$ and $\\epsilon$ and calculate the total LJ potential of the system of particles at the positions in the following list. Use the `itertools` module to make the combinations."
     ]
    },
    {
     "cell_type": "code",
     "collapsed": false,
     "input": [
      "particles = [(3.04, 1.68, 0.28), \n",
      "             (0.94, 1.24, 1.48),\n",
      "             (2.26, 0.40, 1.55),\n",
      "             (1.21, 0.67, 2.21), \n",
      "             (2.08, 3.92, 4.97)]"
     ],
     "language": "python",
     "metadata": {},
     "outputs": [],
     "prompt_number": 16
    },
    {
     "cell_type": "code",
     "collapsed": false,
     "input": [
      "# make a handy function using the previous answer\n",
      "my_lj = lennard_jones_factory(1.0, 1.0)\n",
      "\n",
      "# functional style allows us to do this as a 'one liner'\n",
      "import itertools\n",
      "\n",
      "print(sum(my_lj(euclidean_distance(x, y)) \n",
      "          for x, y in itertools.combinations(particles, 2)))\n",
      "\n",
      "\n",
      "# a corresponding imperative implementation\n",
      "running_total = 0\n",
      "\n",
      "for combination in itertools.combinations(particles, 2):\n",
      "    atom_one, atom_two = combination\n",
      "    lj_energy = my_lj(euclidean_distance(atom_one, atom_two))\n",
      "    running_total += lj_energy\n",
      "\n",
      "print(running_total)"
     ],
     "language": "python",
     "metadata": {},
     "outputs": [
      {
       "output_type": "stream",
       "stream": "stdout",
       "text": [
        "0.116941328903\n",
        "0.116941328903\n"
       ]
      }
     ],
     "prompt_number": 17
    },
    {
     "cell_type": "code",
     "collapsed": false,
     "input": [],
     "language": "python",
     "metadata": {},
     "outputs": [],
     "prompt_number": 17
    }
   ],
   "metadata": {}
  }
 ]
}