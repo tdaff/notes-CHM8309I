{
 "metadata": {
  "celltoolbar": "Slideshow",
  "name": "",
  "signature": "sha256:cc907547bb65c691854c3429bf5034d4f454a5cc87ec1d200421eb6b5f88d8c2"
 },
 "nbformat": 3,
 "nbformat_minor": 0,
 "worksheets": [
  {
   "cells": [
    {
     "cell_type": "markdown",
     "metadata": {
      "slideshow": {
       "slide_type": "slide"
      }
     },
     "source": [
      "Object Oriented Programming 2\n",
      "============================="
     ]
    },
    {
     "cell_type": "markdown",
     "metadata": {
      "slideshow": {
       "slide_type": "slide"
      }
     },
     "source": [
      "Quick review so far\n",
      "-------------------\n",
      "\n",
      "+ A class defines a blueprint for creating objects\n",
      "+ Objects are instances of classes\n",
      "+ The members are bound to an instance\n",
      "    * Access attributes with the dot notation \n",
      "    * Define functions for accessing data or mutating it\n",
      "+ Hide the internal workings with private members to keep a clean interface\n",
      "    * Interface should be constant, implementation can change"
     ]
    },
    {
     "cell_type": "markdown",
     "metadata": {
      "slideshow": {
       "slide_type": "slide"
      }
     },
     "source": [
      "![OO summary](files/Images/OO_001.png)"
     ]
    },
    {
     "cell_type": "markdown",
     "metadata": {
      "slideshow": {
       "slide_type": "slide"
      }
     },
     "source": [
      "Encapsulation\n",
      "-------------\n",
      "\n",
      "Encapsulation allows us to keep the data with the methods that act upon it \n",
      "\n",
      "+ Hides the implementation .\n",
      "+ Provides a constant interface to only the things we wish to export.\n",
      "+ Encourages **modularity** by allowing a very consise user facing interface;\n",
      "    + Makes sure that your user uses your class in the expected and tested manner.\n",
      "    \n",
      "In the following examples the object is **stateful**, the area that is returned depends on the state of the units that we have set but we keep an internal unit set to use for calculation. All these definitions have the same interface but different implementations."
     ]
    },
    {
     "cell_type": "code",
     "collapsed": false,
     "input": [
      "class Square(object):\n",
      "    \"\"\"A square.\"\"\"\n",
      "    def __init__(self, side, units=1):\n",
      "        \"\"\"Set square size with the side.\"\"\"\n",
      "        # Keep track of the side length in case we\n",
      "        # need it later\n",
      "        self.units = units\n",
      "        self._side = side/self.units\n",
      "    def area(self):\n",
      "        \"\"\"Return area in current working units.\"\"\"\n",
      "        return (self.units*self._side)**2\n",
      "\n",
      "class Square(object):\n",
      "    \"\"\"A square.\"\"\"\n",
      "    def __init__(self, side, units=1):\n",
      "        \"\"\"Set square size with the side.\"\"\"\n",
      "        # By calculating area straight away it is\n",
      "        # available quickly\n",
      "        self.units = units\n",
      "        self._area = (side/self.units)**2\n",
      "    def area(self):\n",
      "        \"\"\"Return area in current working units.\"\"\"\n",
      "        return self._area*(self.units**2)\n",
      "\n",
      "class Square(object):\n",
      "    \"\"\"A square.\"\"\"\n",
      "    def __init__(self, side, units=1):\n",
      "        \"\"\"Set square size with the side.\"\"\"\n",
      "        self.units = units\n",
      "        self._side = side/self.units\n",
      "    def area(self):\n",
      "        \"\"\"Return area in current working units.\"\"\"\n",
      "        if hasattr(self, '_area'):\n",
      "            return self._area*(self.units**2)\n",
      "        else:\n",
      "            # Area calculation is very expensive\n",
      "            # so do it the first time and cache\n",
      "            # the result for the future\n",
      "            self._area = self._side**2\n",
      "            return self._area*(self.units**2)\n"
     ],
     "language": "python",
     "metadata": {
      "slideshow": {
       "slide_type": "slide"
      }
     },
     "outputs": [],
     "prompt_number": 1
    },
    {
     "cell_type": "markdown",
     "metadata": {
      "slideshow": {
       "slide_type": "slide"
      }
     },
     "source": [
      "Methods\n",
      "-------\n",
      "\n",
      "From the `Point` example in the previous session: The `property()` function lets arbritary functions become attribute accessors that can be used with the dot notation. **Getters** and **setters** enable different representations of the same bit of data, error checking, unit conversion, caching of expensive results and many other features. By using `property` we do not change our interface as it is accessed through the dot notation.\n",
      "\n",
      "Specifying `@property` uses propery as a **decorator**, i.e. it takes the function and applies the `property` function to it making the the function into a **read-only attribute**. See the previous `Point` example.\n",
      "\n",
      "Whilst our methods so far have been accessors or mutators for the **instance**, there are other types of method that can act on your objects **classmethods** and **staticmethods**. (The details of the `@decorators` are not important as these are this is the use case for by far the most useful ones)"
     ]
    },
    {
     "cell_type": "code",
     "collapsed": false,
     "input": [
      "class Example(object):\n",
      "    \"\"\"Show method types and their arguments.\"\"\"\n",
      "    class_attribute = \"I belong to the class\"\n",
      "    \n",
      "    def __init__(self):\n",
      "        \"\"\"Example object with an instance attribute.\"\"\"\n",
      "        self.instance_attribute = \"I only belong to the instance.\"\"\"\n",
      "\n",
      "    def method(self, argument):\n",
      "        \"\"\"Normal instance method.\"\"\"\n",
      "        print(\"method, self: {0}\".format(self))\n",
      "        print(\"method, argument: {0}\".format(argument))\n",
      "        print(\"method, instance_attribute: {0}\".format(self.instance_attribute))\n",
      "\n",
      "    @classmethod\n",
      "    def clsmethod(cls, argument):\n",
      "        \"\"\"Class method is bound to the class.\"\"\"\n",
      "        print(\"clsmethod, cls: {0}\".format(cls))\n",
      "        print(\"clsmethod, argument: {0}\".format(argument))\n",
      "        print(\"clsmethod, class_attribute: {0}\".format(cls.class_attribute))\n",
      "\n",
      "    @staticmethod\n",
      "    def stcmethod(argument):\n",
      "        \"\"\"Static method doesn't care where it is bound.\"\"\"\n",
      "        print(\"stcmethod, argument: {0}\".format(argument))"
     ],
     "language": "python",
     "metadata": {
      "slideshow": {
       "slide_type": "slide"
      }
     },
     "outputs": [],
     "prompt_number": 2
    },
    {
     "cell_type": "code",
     "collapsed": false,
     "input": [
      "my_example = Example()"
     ],
     "language": "python",
     "metadata": {
      "slideshow": {
       "slide_type": "slide"
      }
     },
     "outputs": [],
     "prompt_number": 3
    },
    {
     "cell_type": "code",
     "collapsed": false,
     "input": [
      "my_example.method('normal argument')"
     ],
     "language": "python",
     "metadata": {},
     "outputs": [
      {
       "output_type": "stream",
       "stream": "stdout",
       "text": [
        "method, self: <__main__.Example object at 0x2a1b710>\n",
        "method, argument: normal argument\n",
        "method, instance_attribute: I only belong to the instance.\n"
       ]
      }
     ],
     "prompt_number": 4
    },
    {
     "cell_type": "code",
     "collapsed": false,
     "input": [
      "my_example.clsmethod('classmethod argument')"
     ],
     "language": "python",
     "metadata": {},
     "outputs": [
      {
       "output_type": "stream",
       "stream": "stdout",
       "text": [
        "clsmethod, cls: <class '__main__.Example'>\n",
        "clsmethod, argument: classmethod argument\n",
        "clsmethod, class_attribute: I belong to the class\n"
       ]
      }
     ],
     "prompt_number": 5
    },
    {
     "cell_type": "code",
     "collapsed": false,
     "input": [
      "my_example.stcmethod('staticmethod argument')"
     ],
     "language": "python",
     "metadata": {},
     "outputs": [
      {
       "output_type": "stream",
       "stream": "stdout",
       "text": [
        "stcmethod, argument: staticmethod argument\n"
       ]
      }
     ],
     "prompt_number": 6
    },
    {
     "cell_type": "markdown",
     "metadata": {
      "slideshow": {
       "slide_type": "slide"
      }
     },
     "source": [
      "Inheritance and polymorphism\n",
      "----------------------------\n",
      "\n",
      "Looking back at the `(object)` part of the class definitions that we have seen so far, this is an example of what is known as **inheritance**. For each type that you wish to define, you could include all the method and attribute definitions explicitly, but if you have several types with similar members, or wish to modularise your code more, then inheritance is probably going to help you. When we try to apply the Don't Repeat Yourself (DRY) principle, inheritance is an effective way to reuse code.\n",
      "\n",
      "Any class that you define will inherit all the members (methods and attributes) of it's parent class."
     ]
    },
    {
     "cell_type": "code",
     "collapsed": false,
     "input": [
      "from datetime import datetime\n",
      "from operator import add\n",
      "\n",
      "class MovableThing(object):\n",
      "    \"\"\"Base class for things that have a position and motion.\"\"\"\n",
      "    def __init__(self, position=[0, 0, 0]):\n",
      "        \"\"\"Place subclass at the position or origin.\"\"\"\n",
      "        self._position = position\n",
      "        self.__timestamp = datetime.now()\n",
      "\n",
      "    def move(self, vector):\n",
      "        \"\"\"Displace the Thing by the given amount.\"\"\"\n",
      "        self._position = [add(here, move) \n",
      "                          for(here, move) in \n",
      "                          zip(self._position, vector)]\n",
      "    \n",
      "    def locate(self):\n",
      "        \"\"\"Tell where the Thing is located.\"\"\"\n",
      "        return self._position\n",
      "    \n",
      "    def what_am_i(self):\n",
      "        \"\"\"Information that needs to be subclassed.\"\"\"\n",
      "        raise NotImplementedError\n",
      "\n",
      "\n",
      "class PointInSpace(MovableThing):\n",
      "    \"\"\"Generic Point that can move around.\"\"\"\n",
      "    def what_am_i(self):\n",
      "        \"\"\"Give some formatted information on this object.\"\"\"\n",
      "        return \"I'm a PointInSpace at {}\".format(self.locate())\n"
     ],
     "language": "python",
     "metadata": {
      "slideshow": {
       "slide_type": "slide"
      }
     },
     "outputs": [],
     "prompt_number": 7
    },
    {
     "cell_type": "code",
     "collapsed": false,
     "input": [
      "a_dot = PointInSpace()\n",
      "a_dot.move([2, 3, 4])\n",
      "a_dot.move([1, 2, 3])\n",
      "a_dot.what_am_i()"
     ],
     "language": "python",
     "metadata": {},
     "outputs": [
      {
       "metadata": {},
       "output_type": "pyout",
       "prompt_number": 8,
       "text": [
        "\"I'm a PointInSpace at [3, 5, 7]\""
       ]
      }
     ],
     "prompt_number": 8
    },
    {
     "cell_type": "markdown",
     "metadata": {
      "slideshow": {
       "slide_type": "slide"
      }
     },
     "source": [
      "There are quite a few things going on here! We have deconstructed our FunctionalGroup class and separated out a **Base class** called MovableThing for all things movable. It will set up a position and has member functions that alter and return the position, and these are probably very useful for many different types that we might encounter. The class definition `class PointInSpace(MovableThing):` says that the PointInSpace is a **subclass** and will inherit all the members of the **parent class**. The `a_dot` instance has the `move` method available as it is defined in the parent.\n",
      "\n",
      "We have also defined another method for the **child** class, the `what_am_i()` method accesses data that is defined in the base class. Notice that the method is also defined in the base class. Methods in the child will overwrite the parent methods, but in this case that is the desired effect. In the `MovableThing` class the `what_a_i` causes an error! This is a way of saying that subclasses must implement a function with that name, classes that make this demand are known as **abstract base classes**. An abstract base class can serve as a template to your derived classes."
     ]
    },
    {
     "cell_type": "code",
     "collapsed": false,
     "input": [
      "class FunctionalGroup(MovableThing):\n",
      "    \"\"\"A single functional group.\"\"\"\n",
      "    owner = 'tdaff'\n",
      "    \n",
      "    def __init__(self, name, formula, position=[0, 0, 0]):\n",
      "        \"\"\"Create a new FunctionalGroup at the position or origin.\"\"\"\n",
      "        self.name = name\n",
      "        self.formula = formula\n",
      "        MovableThing.__init__(self, position)\n",
      "    \n",
      "    def what_am_i(self):\n",
      "        \"\"\"Give some formatted information on this object.\"\"\"\n",
      "        return \"I'm a {} group at {}\".format(self.name, self.locate())\n",
      "\n",
      "amine = FunctionalGroup('Amine', 'NH2')\n",
      "amine.move((1, 2, 1))\n",
      "amine.move((2, 0, 1))\n",
      "amine.what_am_i()"
     ],
     "language": "python",
     "metadata": {
      "slideshow": {
       "slide_type": "slide"
      }
     },
     "outputs": [
      {
       "metadata": {},
       "output_type": "pyout",
       "prompt_number": 9,
       "text": [
        "\"I'm a Amine group at [3, 2, 2]\""
       ]
      }
     ],
     "prompt_number": 9
    },
    {
     "cell_type": "markdown",
     "metadata": {},
     "source": [
      "Now we have recreated our FunctionalGroup class. Note that because it implements its own `__init__` method, we have to call the parent's constructor manually to set up everything else (this could also be done with `super()` but you can look that up yourself)."
     ]
    },
    {
     "cell_type": "markdown",
     "metadata": {
      "slideshow": {
       "slide_type": "slide"
      }
     },
     "source": [
      "Polymorphism\n",
      "------------\n",
      "\n",
      "In each of these derived classes we define a `what_am_i` method. This is a simple case of **polymorphism** where the same action upon different objects will work with results specific to that class."
     ]
    },
    {
     "cell_type": "code",
     "collapsed": false,
     "input": [
      "for item in [a_dot, amine]:\n",
      "    print(item.what_am_i())"
     ],
     "language": "python",
     "metadata": {},
     "outputs": [
      {
       "output_type": "stream",
       "stream": "stdout",
       "text": [
        "I'm a PointInSpace at [3, 5, 7]\n",
        "I'm a Amine group at [3, 2, 2]\n"
       ]
      }
     ],
     "prompt_number": 10
    },
    {
     "cell_type": "markdown",
     "metadata": {
      "slideshow": {
       "slide_type": "slide"
      }
     },
     "source": [
      "![](files/Images/OO_003.png)"
     ]
    },
    {
     "cell_type": "markdown",
     "metadata": {
      "slideshow": {
       "slide_type": "slide"
      }
     },
     "source": [
      "Overloading standard operators\n",
      "------------------------------\n",
      "\n",
      "To add elegance, finesse and readability to our code, we can do the same things with the standard operators by **overloading** them and making our objects act like the built in types."
     ]
    },
    {
     "cell_type": "code",
     "collapsed": false,
     "input": [
      "class AddableGroup(FunctionalGroup):\n",
      "    \"\"\"A functional group that can be added to.\"\"\"\n",
      "\n",
      "    def __str__(self):\n",
      "        \"\"\"Fancy string representation for use with print.\"\"\"\n",
      "        return self.what_am_i()\n",
      "    \n",
      "    def __iadd__(self, other):\n",
      "        \"\"\"Overload += to append other groups.\"\"\"\n",
      "        self.name = self.name + other.name\n",
      "        self.formula = self.formula + other.formula\n",
      "        return self"
     ],
     "language": "python",
     "metadata": {},
     "outputs": [],
     "prompt_number": 11
    },
    {
     "cell_type": "code",
     "collapsed": false,
     "input": [
      "nitro = AddableGroup('Nitro', 'NO2')\n",
      "print(nitro)"
     ],
     "language": "python",
     "metadata": {},
     "outputs": [
      {
       "output_type": "stream",
       "stream": "stdout",
       "text": [
        "I'm a Nitro group at [0, 0, 0]\n"
       ]
      }
     ],
     "prompt_number": 12
    },
    {
     "cell_type": "code",
     "collapsed": false,
     "input": [
      "nitro += AddableGroup('Bromo', 'Br')\n",
      "print(nitro)"
     ],
     "language": "python",
     "metadata": {},
     "outputs": [
      {
       "output_type": "stream",
       "stream": "stdout",
       "text": [
        "I'm a NitroBromo group at [0, 0, 0]\n"
       ]
      }
     ],
     "prompt_number": 13
    },
    {
     "cell_type": "markdown",
     "metadata": {},
     "source": [
      "In Python the standard operators just call special methods on the objects that they are interacting with, which allows us to get them to act like the built in types. \n",
      "\n",
      "+ The `str()` function is called by the `print()` function which calls `__str__()` on the object;\n",
      "+ The in place add is called with `+=`, or it could be called by the `operator.iadd()` function. \n",
      "\n",
      "How much sense these make in the context you use them is up to you... For a comprehensive list of the available special methods they are documented in [http://docs.python.org/2/reference/datamodel.html#special-method-names](http://docs.python.org/2/reference/datamodel.html#special-method-names). If you find yourself overloading many operators, you may be better off inheriting from one of the built in types or something from the standard library."
     ]
    },
    {
     "cell_type": "markdown",
     "metadata": {
      "slideshow": {
       "slide_type": "slide"
      }
     },
     "source": [
      "Multiple Inheritance\n",
      "--------------------\n",
      "\n",
      "So far we have created a heirarchy of parents and children, but we are not limited to a single inherited class."
     ]
    },
    {
     "cell_type": "code",
     "collapsed": false,
     "input": [
      "class BaseClass(object):\n",
      "    \"\"\"A demonstartive Base to build upon.\"\"\"\n",
      "    def __init__(self):\n",
      "        \"\"\"Have some construction methods in the Base.\"\"\"\n",
      "        # Usually more elaborate\n",
      "        pass\n",
      "    def method_one(self):\n",
      "        \"\"\"Return the method name and the class.\"\"\"\n",
      "        return \"method_one from BaseClass\"\n",
      "    def method_two(self):\n",
      "        \"\"\"Return the method name and the class.\"\"\"\n",
      "        return \"method_two from BaseClass\"\n",
      "\n",
      "class MixinClass(object):\n",
      "    \"\"\"A demonstration of mixing in functionality with miltiple inheritance.\"\"\"\n",
      "    def method_two(self):\n",
      "        \"\"\"Return the method name and the class.\"\"\"\n",
      "        return \"method_two from MixinClass\"\n",
      "    def method_three(self):\n",
      "        \"\"\"Return the method name and the class.\"\"\"\n",
      "        return \"method_three from MixinClass\"\n",
      "    \n",
      "class CombinedClass(MixinClass, BaseClass):\n",
      "    pass"
     ],
     "language": "python",
     "metadata": {},
     "outputs": [],
     "prompt_number": 14
    },
    {
     "cell_type": "code",
     "collapsed": false,
     "input": [
      "test_class = CombinedClass()"
     ],
     "language": "python",
     "metadata": {},
     "outputs": [],
     "prompt_number": 15
    },
    {
     "cell_type": "code",
     "collapsed": false,
     "input": [
      "print(test_class.method_one())"
     ],
     "language": "python",
     "metadata": {},
     "outputs": [
      {
       "output_type": "stream",
       "stream": "stdout",
       "text": [
        "method_one from BaseClass\n"
       ]
      }
     ],
     "prompt_number": 16
    },
    {
     "cell_type": "code",
     "collapsed": false,
     "input": [
      "print(test_class.method_two())"
     ],
     "language": "python",
     "metadata": {},
     "outputs": [
      {
       "output_type": "stream",
       "stream": "stdout",
       "text": [
        "method_two from MixinClass\n"
       ]
      }
     ],
     "prompt_number": 17
    },
    {
     "cell_type": "code",
     "collapsed": false,
     "input": [
      "print(test_class.method_three())"
     ],
     "language": "python",
     "metadata": {},
     "outputs": [
      {
       "output_type": "stream",
       "stream": "stdout",
       "text": [
        "method_three from MixinClass\n"
       ]
      }
     ],
     "prompt_number": 18
    },
    {
     "cell_type": "markdown",
     "metadata": {
      "slideshow": {
       "slide_type": "slide"
      }
     },
     "source": [
      "Inherited methods\n",
      "-----------------\n",
      "\n",
      "When using **multiple inheritance** be aware of the **method resolution order** or **mro**. Members are searched in the child class, then from left to right in the inherited classes (and *depth first* within them). Classes that are included for lots of functionality but that do not work as standalone classes are often called **mixins**, and the MixinClass here is given a higher priority so that its `method_two()` overrides that from the BaseClass"
     ]
    },
    {
     "cell_type": "markdown",
     "metadata": {},
     "source": [
      "![](files/Images/OO_002.png)"
     ]
    },
    {
     "cell_type": "markdown",
     "metadata": {
      "slideshow": {
       "slide_type": "slide"
      }
     },
     "source": [
      "When to use object oriented programming\n",
      "---------------------------------------\n",
      "\n",
      "OO is fun but is not necessarily appropriate everywhere. The key is thinking in terms of your data and how to best represent it and how it will be manipulated.\n",
      "\n",
      "Som situations where you might use classes and objects:\n",
      "\n",
      "+ When you have clearly defined data structures that will be used repeatedly\n",
      "    * Atoms?\n",
      "+ When you have a real item that acts as an object and lends itself to an object representation\n",
      "    * Molecule?\n",
      "+ When you have blobs of data and very specific methods that act to manipulate that data\n",
      "    * UnitCell?\n",
      "+ When you want to keep good, modularised code\n",
      "    * TranslationMethods?\n",
      "+ When you want to track the internal state of a system transparently\n",
      "    * Simulation?\n",
      "+ When you wish to provide a clear and strict proramming interface to a complex problem\n",
      "    * MolecularDynamics?\n",
      "+ When you require mutable objects that you can pass around different scopes\n",
      "    * Bonding?\n",
      "+ When you have collecions of linked named data items that you want to pass around\n",
      "    * ConfigurationOptions?"
     ]
    }
   ],
   "metadata": {}
  }
 ]
}