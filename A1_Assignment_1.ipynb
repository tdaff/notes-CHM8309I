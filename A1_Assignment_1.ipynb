{
 "metadata": {
  "name": "",
  "signature": "sha256:7eb52eb761c79cf8b4e0d557092a824c64aabfb663fbc64477b739160c3b84f5"
 },
 "nbformat": 3,
 "nbformat_minor": 0,
 "worksheets": [
  {
   "cells": [
    {
     "cell_type": "markdown",
     "metadata": {},
     "source": [
      "Assignment 1\n",
      "============\n",
      "\n",
      "Due on March 18th. Fill in answers in the notebook and send me a copy of the `.ipynb` file when you are done.\n",
      "\n",
      "Much of this is designed so that you can apply things that were shown in the functional programming class."
     ]
    },
    {
     "cell_type": "markdown",
     "metadata": {},
     "source": [
      "The following code is taken from the mercurial package. It is syntactically correct, but is riddled with ugly PEP-8 violations. Make the code as PEP-8 compliant as possible by correcting the formatting, whitespace and general layout (there is no need to rename things or add documentation, just reformat)."
     ]
    },
    {
     "cell_type": "code",
     "collapsed": false,
     "input": [
      "# parser.py - simple top-down operator precedence parser for mercurial\n",
      "\n",
      "import sys, os\n",
      "\n",
      "#from i18n import _\n",
      "\n",
      "class parser(object):\n",
      "    def __init__(self, tokenizer, elements,   methods = None):\n",
      "      self._tokenizer = tokenizer\n",
      "      self._elements = elements\n",
      "      self._methods=methods\n",
      "      self.current=None\n",
      "\n",
      "\n",
      "\n",
      "\n",
      "    def _match (self, m,pos):\n",
      "        'make sure the tokenizer matches an end condition'\n",
      "        if self.current[0] != m:\n",
      "            raise error.ParseError(_(  \"unexpected token: %s\"  ) % self.current[0], self.current[2])\n",
      "        self._advance()\n",
      "    def _parse( self, bind=0 ):\n",
      "        token, value, pos = self._advance()\n",
      "        # handle prefix rules on current token\n",
      "        prefix = self._elements[token][1]\n",
      "        if not prefix :\n",
      "            raise error.ParseError(_(\"not a prefix: %s\") % token, pos)\n",
      "        if len(prefix) == 1:\n",
      "            expr = (prefix[0], value)\n",
      "        else:\n",
      "            if len(prefix)>2 and prefix[2] ==  self.current[0]:\n",
      "                self._match(prefix[2], pos)\n",
      "                expr = (prefix [0], None) # always none for second item\n",
      "            else:\n",
      "                expr = (prefix [ 0 ], self._parse(prefix[1]))\n",
      "                if len(prefix) > 2 :\n",
      "                    self._match(prefix[2], pos)\n",
      "        return expr\n",
      "    def parse (self, message):\n",
      "        'generate a parse tree from a message'\n",
      "        self._iter = self._tokenizer(message); self._advance()\n",
      "        res = self._parse ()\n",
      "        token,value,pos=self.current\n",
      "        return res,pos\n"
     ],
     "language": "python",
     "metadata": {},
     "outputs": [],
     "prompt_number": 5
    },
    {
     "cell_type": "markdown",
     "metadata": {},
     "source": [
      "For the following exercises use one box to write your function and the second to give an example."
     ]
    },
    {
     "cell_type": "markdown",
     "metadata": {},
     "source": [
      "Write a function that converts kcal/mol to kJ/mol."
     ]
    },
    {
     "cell_type": "code",
     "collapsed": false,
     "input": [],
     "language": "python",
     "metadata": {},
     "outputs": []
    },
    {
     "cell_type": "code",
     "collapsed": false,
     "input": [],
     "language": "python",
     "metadata": {},
     "outputs": []
    },
    {
     "cell_type": "markdown",
     "metadata": {},
     "source": [
      "The Lennard-Jones potential is an approximation for the non bonding interactions between particles.\n",
      "\n",
      "$V_{LJ} = 4\\epsilon \\left[(\\frac{\\sigma}{r})^{12}-(\\frac{\\sigma}{r})^{6}\\right] $\n",
      "\n",
      "Write a function that takes arguments of $\\sigma$ and $\\epsilon$ and uses a closure to create and return Lennard-Jones functions with fixed parameters for $\\sigma$ and $\\epsilon$.\n"
     ]
    },
    {
     "cell_type": "code",
     "collapsed": false,
     "input": [],
     "language": "python",
     "metadata": {},
     "outputs": []
    },
    {
     "cell_type": "code",
     "collapsed": false,
     "input": [],
     "language": "python",
     "metadata": {},
     "outputs": []
    },
    {
     "cell_type": "markdown",
     "metadata": {},
     "source": [
      "Write a function to calculate the Euclidean distance $d$ between two points in 3D space, $r_1$ and $r_2$, where the positions are given as cartesian positions in lists of [$x$, $y$, $z$].\n",
      "\n",
      "$d = \\vert\\vec{r_1} - \\vec{r_2}\\vert$"
     ]
    },
    {
     "cell_type": "code",
     "collapsed": false,
     "input": [],
     "language": "python",
     "metadata": {},
     "outputs": []
    },
    {
     "cell_type": "code",
     "collapsed": false,
     "input": [],
     "language": "python",
     "metadata": {},
     "outputs": []
    },
    {
     "cell_type": "markdown",
     "metadata": {},
     "source": [
      "In fractional coordinates, in a periodic system, $x$ is the same as all periodic images at $n + x$, where n is any integer value. Write a function and apply it to the following coordinates to bring these fractional coordinates back in to the range $0.0 \\le x \\lt 1.0$."
     ]
    },
    {
     "cell_type": "code",
     "collapsed": false,
     "input": [
      "set_of_x_values = [-2.2, 0.2, 0.3, 0.7, 1.2, 1.0, 0.92, -0.2]"
     ],
     "language": "python",
     "metadata": {},
     "outputs": [],
     "prompt_number": 6
    },
    {
     "cell_type": "code",
     "collapsed": false,
     "input": [],
     "language": "python",
     "metadata": {},
     "outputs": []
    },
    {
     "cell_type": "code",
     "collapsed": false,
     "input": [],
     "language": "python",
     "metadata": {},
     "outputs": []
    },
    {
     "cell_type": "markdown",
     "metadata": {},
     "source": [
      "H\u00fcckel's rule is that systems with $4n + 2$ electrons are aromatic; a similar rule exists for 3d systems where $2(n+1)^2$ electrons are needed for aromaticity.\n",
      "\n",
      "Write a generator that yields all numbers up to a given number, but for numbers that satisfy $4n + 2$ return \"aromatic\", for numbers that satisfy $2(n+1)^2$ return \"3d aromatic\" and when both are satisfied return \"both\"."
     ]
    },
    {
     "cell_type": "code",
     "collapsed": false,
     "input": [],
     "language": "python",
     "metadata": {},
     "outputs": []
    },
    {
     "cell_type": "code",
     "collapsed": false,
     "input": [],
     "language": "python",
     "metadata": {},
     "outputs": []
    },
    {
     "cell_type": "markdown",
     "metadata": {},
     "source": [
      "Reimplement a power function ($x^y$) as a recursive function."
     ]
    },
    {
     "cell_type": "code",
     "collapsed": false,
     "input": [],
     "language": "python",
     "metadata": {},
     "outputs": []
    },
    {
     "cell_type": "code",
     "collapsed": false,
     "input": [],
     "language": "python",
     "metadata": {},
     "outputs": []
    },
    {
     "cell_type": "markdown",
     "metadata": {},
     "source": [
      "Assume dummy parameters of 1.0 for $\\sigma$ and $\\epsilon$ and calculate the total LJ potential of the system of particles at the positions in the following list. Use the `itertools` module to make the combinations."
     ]
    },
    {
     "cell_type": "code",
     "collapsed": false,
     "input": [
      "particles = [(3.04, 1.68, 0.28), \n",
      "             (0.94, 1.24, 1.48),\n",
      "             (2.26, 0.40, 1.55),\n",
      "             (1.21, 0.67, 2.21), \n",
      "             (2.08, 3.92, 4.97)]"
     ],
     "language": "python",
     "metadata": {},
     "outputs": [],
     "prompt_number": 11
    },
    {
     "cell_type": "code",
     "collapsed": false,
     "input": [],
     "language": "python",
     "metadata": {},
     "outputs": []
    },
    {
     "cell_type": "code",
     "collapsed": false,
     "input": [],
     "language": "python",
     "metadata": {},
     "outputs": []
    }
   ],
   "metadata": {}
  }
 ]
}