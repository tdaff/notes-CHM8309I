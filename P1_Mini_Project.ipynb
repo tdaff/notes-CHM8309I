{
 "metadata": {
  "name": "",
  "signature": "sha256:cc9c8f82e2b965b17481e43ab2f19501992dcc749cde5eaeb397075cfdee64e7"
 },
 "nbformat": 3,
 "nbformat_minor": 0,
 "worksheets": [
  {
   "cells": [
    {
     "cell_type": "markdown",
     "metadata": {},
     "source": [
      "CHM8309I: Advanced Scientific Programming for Chemists Mini-Project\n",
      "==================================================================="
     ]
    },
    {
     "cell_type": "markdown",
     "metadata": {},
     "source": [
      "A proportion of your final mark will be based on a mini-project that brings together all the topics that have been covered individually.\n",
      "\n",
      "> **Write a molecular dynamics simulation code.**\n",
      "\n",
      "The purpose of this exercise is not to just get something working but to contemplate the techniques and best practices that have been covered to write **excellent code**. You will do better implementing the basics and ensuring that your code is very well written and tested than churning out thousands of lines of badly written code just to include every bit of functionality that you can think of.\n",
      "\n",
      "You should be able to reuse code written in the previous assignments, plus you should include one or two of the following:\n",
      "\n",
      "- gas with periodic boundary conditions\n",
      "- non periodic clusters with different potential functions (including Lennard-Jones)\n",
      "- simple simulation with a choice of integrators\n",
      "- optional energy minimiser\n",
      "- velocity scaling equilibration\n",
      "- electrostatics calculation (pairwise Coulomb, no Ewalds)\n",
      "- GUI"
     ]
    },
    {
     "cell_type": "markdown",
     "metadata": {},
     "source": [
      "Submission\n",
      "----------\n",
      "\n",
      "When your code is complete, submit a link to the repository where it is stored. The repositoy must contain:\n",
      "\n",
      "+ Your code\n",
      "+ User documentation (one page max)\n",
      "+ Any developer documentation that might be useful in addition to the self-documentation in the code (one page max)\n",
      "+ A _very brief_ point form document describing how you have addressed each the marking critera (e.g. list a line number of code in functional style, or changeset where you carried out debugging or profiling.)"
     ]
    },
    {
     "cell_type": "markdown",
     "metadata": {},
     "source": [
      "marking criteria\n",
      "----------------\n",
      "\n",
      "You will be assessed on whether or not you correctly meet the following guidelines."
     ]
    },
    {
     "cell_type": "markdown",
     "metadata": {},
     "source": [
      "| Guideline | Maximum marks |\n",
      "| --------- | ------------- |\n",
      "|\tWrite developer documentation\t|\t5\t|\n",
      "|\tWrite document addessing marking scheme\t|\t5\t|\n",
      "|\tWrite a molecular dynamics simulation code\t|\t5\t|\n",
      "|\tThe code works and has a reasonable level of functionality i.e. can run a complete simulation and include one or two of the suggested additions\t|\t5\t|\n",
      "|\tAll code must strictly adhere to the style guidelines of the language\t|\t5\t|\n",
      "|\tWrite good user documentation\t|\t5\t|\n",
      "|\tHave input and output that is appropriate for the code\t|\t5\t|\n",
      "|\tHave useful comments and no useless or out of date comments in the code\t|\t5\t|\n",
      "|\tShow that you have provided a well designed and documented public facing interface\t|\t5\t|\n",
      "|\tIdentify some portions of the code where you have adopted a functional programming style and why it is appropriate\t|\t5\t|\n",
      "|\tInclude a generator expression\t|\t5\t|\n",
      "|\tShow some places where you have applied object oriented ideas, be specific about the terminology, and why it was appropriate\t|\t5\t|\n",
      "|\tCode must include unit tests with tests for both functions and objects\t|\t5\t|\n",
      "|\tCode must be properly tracked in a version control system\t|\t5\t|\n",
      "|\tShow examples of how code has been debugged with assertions, 'print's or debuggers (these do not need to be included in the final code)\t|\t5\t|\n",
      "|\tShow examples of where code has been profiled and sped up by optimising at bottlenecks\t|\t5\t|\n",
      "|\t(optional) parallelise the code and justify the speedup (if any)\t|\t5\t|\n"
     ]
    }
   ],
   "metadata": {}
  }
 ]
}