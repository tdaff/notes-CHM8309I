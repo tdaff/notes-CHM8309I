{
 "metadata": {
  "name": ""
 },
 "nbformat": 3,
 "nbformat_minor": 0,
 "worksheets": [
  {
   "cells": [
    {
     "cell_type": "markdown",
     "metadata": {},
     "source": [
      "Tomorrow's class will involve some interactive work. COuld you please all bring your laptops. For this to go smoothly, you will need to set up a few services on your laptops beforehand. If anyone can't bring a laptop, please tell me as soon as possible so I can try and sort something out for you.\n",
      "\n",
      "Bitbucket\n",
      "---------\n",
      "\n",
      "You will need an account at [https://bitbucket.org/](https://bitbucket.org/) both for the class and for the remaining assignments. If you sign up with a university email you will be able claim extra benefits. You should make sure that you are able to log in and then send me your username so that I can add you to the required repositories. If you have any issues with signing up to external services let me know and we can figure out an alternative.\n",
      "\n",
      "SSH access to Wooki and running Xserver\n",
      "---------------------------------------\n",
      "\n",
      "For those of you that have access to Woo's Wooki cluster, check that your login still works. If you don't have access and I didn't create an account for you, let me know as soon as possible so I can make you one.\n",
      "\n",
      "You will need an SSH client, such as PuTTY (http://www.chiark.greenend.org.uk/~sgtatham/putty/) to login, and an XWindows server sich as XMing (link is on the course website) to run GUI programs. When you log in to wooki, make sure that you have enabled X-Forwarding for the connection (this is in Connection -> SSH -> X11 -> \"Enable X11 forwarding\" for PuTTY), and make sure that Xming is running. Running the command xeyes will show you if you have it working.\n",
      "\n",
      "Let me know if you have any questions, and I will see you tomorrow!\n"
     ]
    }
   ],
   "metadata": {}
  }
 ]
}