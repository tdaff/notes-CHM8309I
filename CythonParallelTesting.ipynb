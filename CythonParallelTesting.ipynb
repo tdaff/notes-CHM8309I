{
 "metadata": {
  "name": "",
  "signature": "sha256:0cfd82c24470dc4a9bc8e678960ae6ba220777e9bdd487abd6ce4d6869d2e048"
 },
 "nbformat": 3,
 "nbformat_minor": 0,
 "worksheets": [
  {
   "cells": [
    {
     "cell_type": "code",
     "collapsed": false,
     "input": [
      "%load_ext cythonmagic"
     ],
     "language": "python",
     "metadata": {},
     "outputs": [],
     "prompt_number": 1
    },
    {
     "cell_type": "code",
     "collapsed": false,
     "input": [],
     "language": "python",
     "metadata": {},
     "outputs": [],
     "prompt_number": 4
    },
    {
     "cell_type": "code",
     "collapsed": false,
     "input": [
      "%%cython -f -c-fopenmp --link-args=-fopenmp -c-g\n",
      "\n",
      "cimport numpy\n",
      "cimport cython\n",
      "cimport numpy\n",
      "from cython.parallel import prange, parallel\n",
      "from cython import parallel\n",
      "cimport openmp\n",
      "\n",
      "@cython.boundscheck(False)\n",
      "@cython.wraparound(False)\n",
      "def func(object[double, ndim=2] buf1 not None,\n",
      "         object[double, ndim=2] buf2 not None,\n",
      "         object[double, ndim=2] output=None,\n",
      "         int num_threads=2):\n",
      "    cdef unsigned int x, y, inner, outer\n",
      "    if buf1.shape != buf2.shape:\n",
      "        raise TypeError('Arrays have different shapes: %s, %s' % (buf1.shape,\n",
      "                        buf2.shape))\n",
      "    if output is None:\n",
      "        output = numpy.empty_like(buf1)\n",
      "    outer = buf1.shape[0]\n",
      "    inner = buf1.shape[1]\n",
      "    with nogil, cython.boundscheck(False), cython.wraparound(False):\n",
      "        for x in parallel.prange(outer, schedule='static',\n",
      "                                 num_threads=num_threads):\n",
      "            for y in xrange(inner):\n",
      "                output[x, y] = ((buf1[x, y] + buf2[x, y]) * 2 +\n",
      "                                 buf1[x, y] * buf2[x, y])\n",
      "    return output\n",
      "\n",
      "\n"
     ],
     "language": "python",
     "metadata": {},
     "outputs": [
      {
       "output_type": "stream",
       "stream": "stderr",
       "text": [
        "warning: /home/tdaff/.cache/ipython/cython/_cython_magic_fc588f2a1d11f61e99466b1527a78264.pyx:24:14: Unsigned index type not allowed before OpenMP 3.0\n"
       ]
      }
     ],
     "prompt_number": 27
    },
    {
     "cell_type": "code",
     "collapsed": false,
     "input": [
      "%%cython -f -c-fopenmp --link-args=-fopenmp -c-g\n",
      "\n",
      "import numpy\n",
      "cimport cython\n",
      "cimport numpy\n",
      "from cython.parallel cimport prange\n",
      "\n",
      "# use prange to automatic work distribution\n",
      "@cython.boundscheck(False)\n",
      "@cython.wraparound(False)\n",
      "def cy_euclid_par(object[double, ndim=2] coordinates not None,\n",
      "                  object[double, ndim=1] output=None,\n",
      "                  int num_threads=2):\n",
      "    cdef int idx, size\n",
      "    if output is None:\n",
      "        output = numpy.empty(coordinates.shape[0])\n",
      "    size = coordinates.shape[0]\n",
      "    with nogil:\n",
      "        for idx in prange(size, schedule='static',\n",
      "                          num_threads=num_threads):\n",
      "            output[idx] = (coordinates[idx, 0]**2 +\n",
      "                           coordinates[idx, 1]**2 +\n",
      "                           coordinates[idx, 2]**2)**0.5\n",
      "    return output\n"
     ],
     "language": "python",
     "metadata": {},
     "outputs": [],
     "prompt_number": 67
    },
    {
     "cell_type": "code",
     "collapsed": false,
     "input": [
      "import numpy\n",
      "positions = numpy.random.random((30, 3))\n",
      "#output = numpy.empty_like(positions[:,0])"
     ],
     "language": "python",
     "metadata": {},
     "outputs": [],
     "prompt_number": 91
    },
    {
     "cell_type": "code",
     "collapsed": false,
     "input": [
      "%%cython -f -c-fopenmp --link-args=-fopenmp -c-g\n",
      "# enable extra compiler flags for openmp compilation\n",
      "\n",
      "import numpy\n",
      "cimport cython\n",
      "cimport numpy\n",
      "# use prange for automatic work distribution\n",
      "from cython.parallel cimport prange\n",
      "cimport openmp\n",
      "\n",
      "@cython.boundscheck(False)\n",
      "@cython.wraparound(False)\n",
      "def cy_euclid_par(numpy.ndarray[numpy.float64_t, ndim=2] coordinates,\n",
      "                  int num_threads=1):\n",
      "    \"\"\"Calculate euclidean distance of all coordinates.\"\"\"\n",
      "    cdef int idx, size, n\n",
      "    cdef numpy.ndarray[numpy.float64_t, ndim=1] output \n",
      "\n",
      "    output = numpy.empty(coordinates.shape[0])\n",
      "    size = coordinates.shape[0]\n",
      "    \n",
      "    # block releases the gil\n",
      "    with nogil:\n",
      "        # this block runs separately for each OpenMP thread\n",
      "        for idx in prange(size, schedule='dynamic',\n",
      "                          num_threads=num_threads):\n",
      "            output[idx] = (coordinates[idx, 0]**2 +\n",
      "                           coordinates[idx, 1]**2 +\n",
      "                           coordinates[idx, 2]**2)**0.5\n",
      "            n = openmp.omp_get_thread_num()\n",
      "            with gil:\n",
      "                print(idx, n)\n",
      "    return output"
     ],
     "language": "python",
     "metadata": {},
     "outputs": [],
     "prompt_number": 94
    },
    {
     "cell_type": "code",
     "collapsed": false,
     "input": [
      "%timeit cy_euclid_par(positions)\n",
      "%timeit cy_euclid_par(positions, num_threads=2)\n",
      "%timeit cy_euclid_par(positions, num_threads=4)"
     ],
     "language": "python",
     "metadata": {},
     "outputs": [
      {
       "output_type": "stream",
       "stream": "stdout",
       "text": [
        "100 loops, best of 3: 5.81 ms per loop\n",
        "100 loops, best of 3: 2.92 ms per loop"
       ]
      },
      {
       "output_type": "stream",
       "stream": "stdout",
       "text": [
        "\n",
        "1000 loops, best of 3: 1.54 ms per loop"
       ]
      },
      {
       "output_type": "stream",
       "stream": "stdout",
       "text": [
        "\n"
       ]
      }
     ],
     "prompt_number": 83
    },
    {
     "cell_type": "code",
     "collapsed": false,
     "input": [
      "cy_euclid_par(positions, num_threads=4)"
     ],
     "language": "python",
     "metadata": {},
     "outputs": [
      {
       "output_type": "stream",
       "stream": "stdout",
       "text": [
        "(2, 2)\n",
        "(4, 2)\n",
        "(5, 2)\n",
        "(6, 2)\n",
        "(7, 2)\n",
        "(8, 2)\n",
        "(9, 2)\n",
        "(10, 2)\n",
        "(11, 2)\n",
        "(3, 3)\n",
        "(13, 3)\n",
        "(14, 3)\n",
        "(15, 3)\n",
        "(16, 3)\n",
        "(1, 0)\n",
        "(18, 0)\n",
        "(19, 0)\n",
        "(20, 0)\n",
        "(0, 1)\n",
        "(22, 1)\n",
        "(23, 1)\n",
        "(24, 1)\n",
        "(25, 1)\n",
        "(17, 3)\n",
        "(27, 3)\n",
        "(28, 3)\n",
        "(29, 3)\n",
        "(26, 1)\n",
        "(21, 0)\n",
        "(12, 2)\n"
       ]
      },
      {
       "metadata": {},
       "output_type": "pyout",
       "prompt_number": 95,
       "text": [
        "array([ 1.01657237,  1.30860679,  1.15351467,  1.0909324 ,  0.9672012 ,\n",
        "        0.49332619,  1.10286566,  0.56136926,  0.6735524 ,  1.14197231,\n",
        "        1.18493024,  1.30672175,  1.29941449,  1.06047632,  0.35708003,\n",
        "        0.60215622,  1.00035122,  0.95434426,  0.98242051,  1.10651096,\n",
        "        0.69502964,  0.51352118,  1.06472759,  1.10765715,  1.15817304,\n",
        "        1.15909395,  1.36049016,  0.79971523,  0.59599486,  0.53578449])"
       ]
      }
     ],
     "prompt_number": 95
    },
    {
     "cell_type": "code",
     "collapsed": false,
     "input": [
      "%%cython -f -c-fopenmp --link-args=-fopenmp -c-g\n",
      "\n",
      "cimport cython\n",
      "cimport openmp\n",
      "from cython import parallel\n",
      "\n",
      "def cy_manual_chunk(int data_size):\n",
      "    cdef int size, rank, chunk_size, chunk_start\n",
      "\n",
      "    # everything here is threaded\n",
      "    with nogil, parallel.parallel():\n",
      "        # identify the thread\n",
      "        size = openmp.omp_get_num_threads()\n",
      "        rank = parallel.threadid()\n",
      "        # chunk up data\n",
      "        chunk_size = (data_size+size-1)/size\n",
      "        chunk_start = rank*chunk_size\n",
      "        # process(data[chunk_start:chunk_start+chunk_size])\n",
      "        with gil:\n",
      "            # interacting with python can only happen using the GIL\n",
      "            print(\"Thread {} of {}; {} data items starting at {}.\"\n",
      "                  \"\".format(rank, size, chunk_size, chunk_start))\n"
     ],
     "language": "python",
     "metadata": {},
     "outputs": [],
     "prompt_number": 209
    },
    {
     "cell_type": "code",
     "collapsed": false,
     "input": [
      "cy_manual_chunk(80)"
     ],
     "language": "python",
     "metadata": {},
     "outputs": [
      {
       "output_type": "stream",
       "stream": "stdout",
       "text": [
        "Thread 0 of 8; 10 data items starting at 0.\n",
        "Thread 5 of 8; 10 data items starting at 50.\n",
        "Thread 3 of 8; 10 data items starting at 30.\n",
        "Thread 1 of 8; 10 data items starting at 10.\n",
        "Thread 7 of 8; 10 data items starting at 70.\n",
        "Thread 2 of 8; 10 data items starting at 20.\n",
        "Thread 6 of 8; 10 data items starting at 60.\n",
        "Thread 4 of 8; 10 data items starting at 40.\n"
       ]
      }
     ],
     "prompt_number": 210
    },
    {
     "cell_type": "code",
     "collapsed": false,
     "input": [
      "%%cython -f -c-fopenmp --link-args=-fopenmp -c-g\n",
      "# enable extra compiler flags for openmp compilation\n",
      "\n",
      "import numpy\n",
      "cimport cython\n",
      "cimport numpy\n",
      "# use prange for automatic work distribution\n",
      "from cython.parallel cimport prange\n",
      "cimport openmp\n",
      "\n",
      "@cython.boundscheck(False)\n",
      "@cython.wraparound(False)\n",
      "def distribute_work(numpy.ndarray[numpy.float64_t, ndim=2] work,\n",
      "                  int num_threads=1):\n",
      "\n",
      "    cdef int idx, height, width\n",
      "    height, width = work.shape[0], work.shape[1]\n",
      "\n",
      "    with nogil:\n",
      "        for idx in prange(height, schedule='static',\n",
      "                          num_threads=num_threads):\n",
      "            with gil:\n",
      "                work[idx, 0:width/3] = openmp.omp_get_thread_num()\n",
      "\n",
      "        for idx in prange(height, schedule='dynamic',\n",
      "                      num_threads=num_threads):\n",
      "            with gil:\n",
      "                work[idx, width/3:2*width/3] = openmp.omp_get_thread_num()\n",
      "\n",
      "        for idx in prange(height, schedule='guided',\n",
      "                      num_threads=num_threads):\n",
      "            with gil:\n",
      "                work[idx, 2*width/3:] = openmp.omp_get_thread_num()\n",
      "\n",
      "    return work\n"
     ],
     "language": "python",
     "metadata": {},
     "outputs": [],
     "prompt_number": 158
    },
    {
     "cell_type": "code",
     "collapsed": false,
     "input": [
      "work = numpy.ones((1000, 1000))"
     ],
     "language": "python",
     "metadata": {},
     "outputs": [],
     "prompt_number": 179
    },
    {
     "cell_type": "code",
     "collapsed": false,
     "input": [
      "distribute_work(work, 6)"
     ],
     "language": "python",
     "metadata": {},
     "outputs": [
      {
       "metadata": {},
       "output_type": "pyout",
       "prompt_number": 184,
       "text": [
        "array([[ 0.,  0.,  0., ...,  5.,  5.,  5.],\n",
        "       [ 0.,  0.,  0., ...,  5.,  5.,  5.],\n",
        "       [ 0.,  0.,  0., ...,  5.,  5.,  5.],\n",
        "       ..., \n",
        "       [ 5.,  5.,  5., ...,  3.,  3.,  3.],\n",
        "       [ 5.,  5.,  5., ...,  2.,  2.,  2.],\n",
        "       [ 5.,  5.,  5., ...,  0.,  0.,  0.]])"
       ]
      }
     ],
     "prompt_number": 184
    },
    {
     "cell_type": "code",
     "collapsed": false,
     "input": [
      "%matplotlib inline"
     ],
     "language": "python",
     "metadata": {},
     "outputs": [],
     "prompt_number": 106
    },
    {
     "cell_type": "code",
     "collapsed": false,
     "input": [
      "import matplotlib.pyplot as plt\n",
      "import matplotlib\n",
      "from matplotlib import cm\n",
      "matplotlib.rcParams['savefig.dpi'] = 2 * matplotlib.rcParams['savefig.dpi']"
     ],
     "language": "python",
     "metadata": {},
     "outputs": [],
     "prompt_number": 163
    },
    {
     "cell_type": "code",
     "collapsed": false,
     "input": [
      "plt.imshow(work, cmap=cm.PRGn)\n",
      "plt.savefig('distribute_work.png')"
     ],
     "language": "python",
     "metadata": {},
     "outputs": [
      {
       "metadata": {},
       "output_type": "display_data",
       "png": "[encoded data removed]",
       "text": [
        "<matplotlib.figure.Figure at 0x11313c90>"
       ]
      }
     ],
     "prompt_number": 187
    },
    {
     "cell_type": "code",
     "collapsed": false,
     "input": [],
     "language": "python",
     "metadata": {},
     "outputs": [
      {
       "metadata": {},
       "output_type": "display_data",
       "text": [
        "<matplotlib.figure.Figure at 0x122dd890>"
       ]
      }
     ],
     "prompt_number": 186
    },
    {
     "cell_type": "code",
     "collapsed": false,
     "input": [
      "work"
     ],
     "language": "python",
     "metadata": {},
     "outputs": [
      {
       "metadata": {},
       "output_type": "pyout",
       "prompt_number": 124,
       "text": [
        "array([[ 0.,  0.,  0., ...,  0.,  0.,  0.],\n",
        "       [ 0.,  0.,  0., ...,  0.,  0.,  0.],\n",
        "       [ 0.,  0.,  0., ...,  0.,  0.,  0.],\n",
        "       ..., \n",
        "       [ 0.,  0.,  0., ...,  0.,  0.,  0.],\n",
        "       [ 0.,  0.,  0., ...,  0.,  0.,  0.],\n",
        "       [ 0.,  0.,  0., ...,  0.,  0.,  0.]])"
       ]
      }
     ],
     "prompt_number": 124
    },
    {
     "cell_type": "code",
     "collapsed": false,
     "input": [],
     "language": "python",
     "metadata": {},
     "outputs": []
    }
   ],
   "metadata": {}
  }
 ]
}