{
 "metadata": {
  "celltoolbar": "Slideshow",
  "name": "",
  "signature": "sha256:9bc15abfa5ea2c1648e8608cbadbdf2a4af6215ed8b8434badc875ec5831fee0"
 },
 "nbformat": 3,
 "nbformat_minor": 0,
 "worksheets": [
  {
   "cells": [
    {
     "cell_type": "markdown",
     "metadata": {
      "slideshow": {
       "slide_type": "slide"
      }
     },
     "source": [
      "Some quick notes on numbers\n",
      "==========================="
     ]
    },
    {
     "cell_type": "markdown",
     "metadata": {
      "slideshow": {
       "slide_type": "slide"
      }
     },
     "source": [
      "Computers can do maths better than people?\n",
      "------------------------------------------\n",
      "\n",
      "Take a look at the following equations and see if you can work out the answers:\n",
      "\n",
      ">    $5/2 = ???$\n",
      "\n",
      ">    $0.1 + 0.1 + 0.1 - 0.3 = ???$"
     ]
    },
    {
     "cell_type": "markdown",
     "metadata": {
      "slideshow": {
       "slide_type": "slide"
      }
     },
     "source": [
      "Let's ask our computer, and see if it can help us:"
     ]
    },
    {
     "cell_type": "code",
     "collapsed": false,
     "input": [
      "5/2"
     ],
     "language": "python",
     "metadata": {},
     "outputs": [
      {
       "metadata": {},
       "output_type": "pyout",
       "prompt_number": 1,
       "text": [
        "2"
       ]
      }
     ],
     "prompt_number": 1
    },
    {
     "cell_type": "code",
     "collapsed": false,
     "input": [
      "0.1 + 0.1 + 0.1 - 0.3"
     ],
     "language": "python",
     "metadata": {},
     "outputs": [
      {
       "metadata": {},
       "output_type": "pyout",
       "prompt_number": 2,
       "text": [
        "5.551115123125783e-17"
       ]
      }
     ],
     "prompt_number": 2
    },
    {
     "cell_type": "markdown",
     "metadata": {},
     "source": [
      "That's maybe not the answer you were expecting!\n",
      "\n",
      "There are some subtleties to the way that computers deal with numbers that you may run into as a scientist doing numerical computing."
     ]
    },
    {
     "cell_type": "markdown",
     "metadata": {
      "slideshow": {
       "slide_type": "slide"
      }
     },
     "source": [
      "Integers\n",
      "--------\n",
      "\n",
      "Integers are the set of whole numbers. Any number that you define without a decimal place will be an integer.\n",
      "\n",
      "Unlkine some other languages, there is only one type of integer in Python and it does a lot to make working with them easy. They have **arbitrary precision** and you can seamlessly use any integer that will fit in the memory of your computer, like $10^{10^{10}}$, but they get slower the bigger you go."
     ]
    },
    {
     "cell_type": "code",
     "collapsed": false,
     "input": [
      "17"
     ],
     "language": "python",
     "metadata": {},
     "outputs": [
      {
       "metadata": {},
       "output_type": "pyout",
       "prompt_number": 3,
       "text": [
        "17"
       ]
      }
     ],
     "prompt_number": 3
    },
    {
     "cell_type": "code",
     "collapsed": false,
     "input": [
      "17**17"
     ],
     "language": "python",
     "metadata": {},
     "outputs": [
      {
       "metadata": {},
       "output_type": "pyout",
       "prompt_number": 4,
       "text": [
        "827240261886336764177L"
       ]
      }
     ],
     "prompt_number": 4
    },
    {
     "cell_type": "markdown",
     "metadata": {
      "slideshow": {
       "slide_type": "slide"
      }
     },
     "source": [
      "Small numbers correspond to `long` integers in C. In Python 2 we see the \"L\" once the value is above what can be represented by the C `long` (in Python 3 this is completely hidden).\n",
      "\n",
      "Be aware that if you are working in `numpy` or interfacing with other languages their integers may have limits on the size. On a _32 bit_ system this can be as low as 2 billion ($2^{31}$) and if your integers overflow, you might end up with problems. When integers _overflow_ they wrap around to the maximum negative value, often without warning."
     ]
    },
    {
     "cell_type": "code",
     "collapsed": false,
     "input": [
      "import numpy as np\n",
      "\n",
      "# this is the default in the numpy fast numerical package\n",
      "test_int = np.int_(17)\n",
      "test_int**17"
     ],
     "language": "python",
     "metadata": {},
     "outputs": [
      {
       "metadata": {},
       "output_type": "pyout",
       "prompt_number": 5,
       "text": [
        "-2863221430593058543"
       ]
      }
     ],
     "prompt_number": 5
    },
    {
     "cell_type": "markdown",
     "metadata": {
      "slideshow": {
       "slide_type": "slide"
      }
     },
     "source": [
      "Division\n",
      "--------\n",
      "\n",
      "Division of integers can cause some confusion, and varies between Python versions. There are two types:\n",
      "\n",
      "+ floored division\n",
      "    + is explicitly requested with **`//`** indix or the **`floordiv()`** operator\n",
      "    + floored division truncates the remainder\n",
      "    + if you give it two integers, you get an integer back\n",
      "    + if you give it any floats you get a floored float back\n",
      "    + designed to complement the modulus (i.e. the remainder)"
     ]
    },
    {
     "cell_type": "code",
     "collapsed": false,
     "input": [
      "# combining division and modulus\n",
      "p, q = 5//2, 5%2\n",
      "print(\"p = {}, q = {}\".format(p, q))"
     ],
     "language": "python",
     "metadata": {},
     "outputs": [
      {
       "output_type": "stream",
       "stream": "stdout",
       "text": [
        "p = 2, q = 1\n"
       ]
      }
     ],
     "prompt_number": 6
    },
    {
     "cell_type": "code",
     "collapsed": false,
     "input": [
      "from operator import floordiv\n",
      "floordiv(5.0, 2)"
     ],
     "language": "python",
     "metadata": {},
     "outputs": [
      {
       "metadata": {},
       "output_type": "pyout",
       "prompt_number": 7,
       "text": [
        "2.0"
       ]
      }
     ],
     "prompt_number": 7
    },
    {
     "cell_type": "markdown",
     "metadata": {
      "slideshow": {
       "slide_type": "slide"
      }
     },
     "source": [
      "+ true division\n",
      "    + is explicity requested with the **`truediv()`** operator\n",
      "    + gives the true numerical answer if it has fractional parts\n",
      "    + gives you a float back"
     ]
    },
    {
     "cell_type": "code",
     "collapsed": false,
     "input": [
      "from operator import truediv\n",
      "truediv(5, 2)"
     ],
     "language": "python",
     "metadata": {},
     "outputs": [
      {
       "metadata": {},
       "output_type": "pyout",
       "prompt_number": 8,
       "text": [
        "2.5"
       ]
      }
     ],
     "prompt_number": 8
    },
    {
     "cell_type": "markdown",
     "metadata": {
      "slideshow": {
       "slide_type": "slide"
      }
     },
     "source": [
      "+ \"classic\" division\n",
      "    + is explicitly requested with the **`div()`** operator\n",
      "    + removed from Python 3 -- use `truediv()` or `floordiv()`\n",
      "    + in Python 2 **`/`** will do floored division for `int`/`int` unless\n",
      "        + you start script with `from __future__ import division`, or\n",
      "        + make one of the numbers a float\n",
      "    + in Python 3 **`/`** will do the true division\n",
      "\n",
      "\n",
      "| Version       | `\\ `      | `\\\\ `      | `5/2` | `5.0/2` | `5//2` | `5.0//2` | `div(5, 2)` | `div(5.0, 2)` |\n",
      "|---------------|-----------|------------|-------|---------|--------|----------|-------------|---------------|\n",
      "| Python 2      | `div`     | `floordiv` | `2`   | `2.5`   | `2`    | `2.0`    | `2`         | `2.5`         |\n",
      "| `__future__`  | `truediv` | `floordiv` | `2.5` | `2.5`   | `2`    | `2.0`    | `2`         | `2.5`         |\n",
      "| Python 3      | `truediv` | `floordiv` | `2.5` | `2.5`   | `2`    | `2.0`    | N/A         | N/A           |\n",
      "\n",
      "+ It is important you know what your code is doing so _try out some different combinations yourself_\n"
     ]
    },
    {
     "cell_type": "markdown",
     "metadata": {
      "slideshow": {
       "slide_type": "slide"
      }
     },
     "source": [
      "Floating point numbers\n",
      "----------------------\n",
      "\n",
      "`float`s are used for all the other numbers. They are not perfect and can get complicated enough that people can write 30,000 word essays on the _basics_ [What Every Computer Scientist Should Know About Floating-Point Arithmetic](http://docs.oracle.com/cd/E19957-01/806-3568/ncg_goldberg.html).\n",
      "\n",
      "In Python a `float` is the equivalent of a `double` precision floating point in C that can cover a range from $10^{308}$ to $10^{-308}$ with a precision of around 16 significant figures. This is nearly always enough for most purposes."
     ]
    },
    {
     "cell_type": "code",
     "collapsed": false,
     "input": [
      "import sys\n",
      "sys.float_info"
     ],
     "language": "python",
     "metadata": {},
     "outputs": [
      {
       "metadata": {},
       "output_type": "pyout",
       "prompt_number": 9,
       "text": [
        "sys.float_info(max=1.7976931348623157e+308, max_exp=1024, max_10_exp=308, min=2.2250738585072014e-308, min_exp=-1021, min_10_exp=-307, dig=15, mant_dig=53, epsilon=2.220446049250313e-16, radix=2, rounds=1)"
       ]
      }
     ],
     "prompt_number": 9
    },
    {
     "cell_type": "markdown",
     "metadata": {
      "slideshow": {
       "slide_type": "slide"
      }
     },
     "source": [
      "In the same way that you can't fully represent $1/3 = 0.3333333...$ in decimal (base 10), many exact decimals don't have an exact binary (base 2) representation. In the binary representation 0.1 is 0.000110011001100110011... and wehn we start to subtract these numbers, the errors from the limited precision show up."
     ]
    },
    {
     "cell_type": "code",
     "collapsed": false,
     "input": [
      "print(\"{:.20f}\".format(0.1))  #format string to show extra decimal places.\n",
      "print(\"{:.20f}\".format(0.3))\n",
      "print(\"{:.20f}\".format(0.1 + 0.1 + 0.1 - 0.3))"
     ],
     "language": "python",
     "metadata": {},
     "outputs": [
      {
       "output_type": "stream",
       "stream": "stdout",
       "text": [
        "0.10000000000000000555\n",
        "0.29999999999999998890\n",
        "0.00000000000000005551\n"
       ]
      }
     ],
     "prompt_number": 10
    },
    {
     "cell_type": "markdown",
     "metadata": {
      "slideshow": {
       "slide_type": "slide"
      }
     },
     "source": [
      "If you are comparing numbers of similar magnitude, the precision of all the identical digits is lost, so you should always work with changes at the precision that you desire:"
     ]
    },
    {
     "cell_type": "code",
     "collapsed": false,
     "input": [
      "calc_1 = 0.1 + 0.1 + 0.1\n",
      "calc_2 = 0.3\n",
      "calc_1 - calc_2 == 0"
     ],
     "language": "python",
     "metadata": {},
     "outputs": [
      {
       "metadata": {},
       "output_type": "pyout",
       "prompt_number": 11,
       "text": [
        "False"
       ]
      }
     ],
     "prompt_number": 11
    },
    {
     "cell_type": "code",
     "collapsed": false,
     "input": [
      "delta = 10E-10  # define a delta that specifies the precision that we need.\n",
      "calc_1 - calc_2 < delta"
     ],
     "language": "python",
     "metadata": {},
     "outputs": [
      {
       "metadata": {},
       "output_type": "pyout",
       "prompt_number": 12,
       "text": [
        "True"
       ]
      }
     ],
     "prompt_number": 12
    },
    {
     "cell_type": "markdown",
     "metadata": {},
     "source": [
      "If your algorithm is giving you incorrect results, it may be a loss of precision somwhere, and the Internet is full of helpful advice. [http://en.wikipedia.org/wiki/Loss_of_significance](http://en.wikipedia.org/wiki/Loss_of_significance) is a simple example that shows that the solution to a quadratic equation can suffer (_catastrophic cancellation_). The usual solution is to reorganise the algorithm to avoid the cancellations."
     ]
    },
    {
     "cell_type": "markdown",
     "metadata": {
      "slideshow": {
       "slide_type": "slide"
      }
     },
     "source": [
      "Overflow and underflow\n",
      "----------------------"
     ]
    },
    {
     "cell_type": "code",
     "collapsed": false,
     "input": [
      "# larger number than can be represented become infinities\n",
      "10E400"
     ],
     "language": "python",
     "metadata": {},
     "outputs": [
      {
       "metadata": {},
       "output_type": "pyout",
       "prompt_number": 13,
       "text": [
        "inf"
       ]
      }
     ],
     "prompt_number": 13
    },
    {
     "cell_type": "code",
     "collapsed": false,
     "input": [
      "# smaller numbers become zero\n",
      "10E-400"
     ],
     "language": "python",
     "metadata": {},
     "outputs": [
      {
       "metadata": {},
       "output_type": "pyout",
       "prompt_number": 14,
       "text": [
        "0.0"
       ]
      }
     ],
     "prompt_number": 14
    },
    {
     "cell_type": "code",
     "collapsed": false,
     "input": [
      "# Since you can't assign a meaningful value working with\n",
      "# infinities, this becomes 'Not a Number'\n",
      "float('inf')/float('inf')"
     ],
     "language": "python",
     "metadata": {},
     "outputs": [
      {
       "metadata": {},
       "output_type": "pyout",
       "prompt_number": 15,
       "text": [
        "nan"
       ]
      }
     ],
     "prompt_number": 15
    },
    {
     "cell_type": "code",
     "collapsed": false,
     "input": [
      "# NaNs have the property that they don't equal themselves\n",
      "my_nan = float('nan')\n",
      "my_nan != my_nan  # can use this to identify 'nan's"
     ],
     "language": "python",
     "metadata": {},
     "outputs": [
      {
       "metadata": {},
       "output_type": "pyout",
       "prompt_number": 25,
       "text": [
        "True"
       ]
      }
     ],
     "prompt_number": 25
    },
    {
     "cell_type": "markdown",
     "metadata": {
      "slideshow": {
       "slide_type": "slide"
      }
     },
     "source": [
      "Higher precision and decimals\n",
      "-----------------------------\n",
      "\n",
      "In some situations, you might require guaranteed exactness or defined, _fixed point_, precision. The `decimal` library provides a built in solution. It defaults to 28 decimal places of precision and represents decimal numbers exactly internally."
     ]
    },
    {
     "cell_type": "code",
     "collapsed": false,
     "input": [
      "from decimal import Decimal, getcontext"
     ],
     "language": "python",
     "metadata": {},
     "outputs": [],
     "prompt_number": 17
    },
    {
     "cell_type": "code",
     "collapsed": false,
     "input": [
      "# beware that instancing from a float preserves the float inaccuracies\n",
      "# instance from a string instead\n",
      "Decimal('0.1') + Decimal('0.1') + Decimal('0.1') - Decimal('0.3')"
     ],
     "language": "python",
     "metadata": {},
     "outputs": [
      {
       "metadata": {},
       "output_type": "pyout",
       "prompt_number": 18,
       "text": [
        "Decimal('0.0')"
       ]
      }
     ],
     "prompt_number": 18
    },
    {
     "cell_type": "markdown",
     "metadata": {},
     "source": [
      "Decimals can be used as drop in replacements for `float`s, but they are **very slow**."
     ]
    },
    {
     "cell_type": "code",
     "collapsed": false,
     "input": [
      "getcontext().prec = 100\n",
      "Decimal('5')**Decimal('0.5')"
     ],
     "language": "python",
     "metadata": {},
     "outputs": [
      {
       "metadata": {},
       "output_type": "pyout",
       "prompt_number": 19,
       "text": [
        "Decimal('2.236067977499789696409173668731276235440618359611525724270897245410520925637804899414414408378782275')"
       ]
      }
     ],
     "prompt_number": 19
    },
    {
     "cell_type": "markdown",
     "metadata": {},
     "source": [
      "Libraries such as `gmpy` and `mpmath` can provide faster miltiple precision numbers as well as other conveniences like _rationals_ (exact fractions)."
     ]
    },
    {
     "cell_type": "markdown",
     "metadata": {
      "slideshow": {
       "slide_type": "slide"
      }
     },
     "source": [
      "Complex numbers\n",
      "---------------\n",
      "\n",
      "Sometimes, you will need to use complex numbers. These are just a pair of `float`s with a `j` or `J` on the imaginary part. They work just like other numbers, but you will need to use the `cmath` module instead of `math` for mathematical functions."
     ]
    },
    {
     "cell_type": "code",
     "collapsed": false,
     "input": [
      "my_complex = 3.1 + 4.2j"
     ],
     "language": "python",
     "metadata": {},
     "outputs": [],
     "prompt_number": 20
    },
    {
     "cell_type": "code",
     "collapsed": false,
     "input": [
      "my_complex * 2"
     ],
     "language": "python",
     "metadata": {},
     "outputs": [
      {
       "metadata": {},
       "output_type": "pyout",
       "prompt_number": 21,
       "text": [
        "(6.2+8.4j)"
       ]
      }
     ],
     "prompt_number": 21
    },
    {
     "cell_type": "code",
     "collapsed": false,
     "input": [
      "abs(my_complex)"
     ],
     "language": "python",
     "metadata": {},
     "outputs": [
      {
       "metadata": {},
       "output_type": "pyout",
       "prompt_number": 22,
       "text": [
        "5.220153254455275"
       ]
      }
     ],
     "prompt_number": 22
    },
    {
     "cell_type": "code",
     "collapsed": false,
     "input": [
      "my_complex.real, my_complex.imag"
     ],
     "language": "python",
     "metadata": {},
     "outputs": [
      {
       "metadata": {},
       "output_type": "pyout",
       "prompt_number": 23,
       "text": [
        "(3.1, 4.2)"
       ]
      }
     ],
     "prompt_number": 23
    },
    {
     "cell_type": "code",
     "collapsed": false,
     "input": [
      "from cmath import sqrt\n",
      "\n",
      "sqrt(-1)"
     ],
     "language": "python",
     "metadata": {},
     "outputs": [
      {
       "metadata": {},
       "output_type": "pyout",
       "prompt_number": 24,
       "text": [
        "1j"
       ]
      }
     ],
     "prompt_number": 24
    }
   ],
   "metadata": {}
  }
 ]
}