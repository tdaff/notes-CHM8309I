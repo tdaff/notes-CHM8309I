{
 "metadata": {
  "celltoolbar": "Slideshow",
  "name": "",
  "signature": "sha256:7665a31ffc46a360a05c55fd3a70403867c6de1d150fdeb61300d424f63076a0"
 },
 "nbformat": 3,
 "nbformat_minor": 0,
 "worksheets": [
  {
   "cells": [
    {
     "cell_type": "markdown",
     "metadata": {
      "slideshow": {
       "slide_type": "slide"
      }
     },
     "source": [
      "Maintaining an interface\n",
      "========================\n",
      "\n",
      "\n",
      "If you write something good then one day someone else might be fortunate enough to use it. It is your responsibility as the programmer to plan for this outcome and consider the needs of the user in your design."
     ]
    },
    {
     "cell_type": "markdown",
     "metadata": {
      "slideshow": {
       "slide_type": "slide"
      }
     },
     "source": [
      "User interface\n",
      "--------------\n",
      "\n",
      "**Provide a coherent user interface!** Unless you are doing something highly interactive and visual, a commandline text interface (CLI) is probably good enough to start with. Do one thing well and once it works well on you can build an optional graphical user interface (GUI) if you believe it to be necessary. We will do GUIs later, but consider if it is right for your application:"
     ]
    },
    {
     "cell_type": "markdown",
     "metadata": {
      "slideshow": {
       "slide_type": "slide"
      }
     },
     "source": [
      "|                        | CLI                        | GUI                                      |\n",
      "| ---------------------- | ---------------------------| ---------------------------------------- |\n",
      "| Ease of use for novice | Difficult - cryptic        | Easy - directed input and memoization    |\n",
      "| Application control    | High - access all features | Moderate - whatever is implemented       |\n",
      "| Scripting              | Easy                       | Not usually                              |\n",
      "| Input/output           | Specify files or pipe      | Click click                              |\n",
      "| Interactivity          | Rudimentary                | Great                                    |\n",
      "| Remote access          | Easy - fire up a terminal  | Difficult - need remote desktop solution |\n",
      "| Dependencies           | Minimal                    | Extra - GUI libraries                    |\n",
      "| Ease of development    | Easy                       | Needs specialised GUI knowledge          |\n",
      "| Resources              | Runs faster                | Larger application footprint             |\n",
      "| Visual applications    | Useless                    | Only option                              |\n",
      "| Poor design            | Possible                   | Possible                                 |"
     ]
    },
    {
     "cell_type": "markdown",
     "metadata": {
      "slideshow": {
       "slide_type": "slide"
      }
     },
     "source": [
      "![CLI Quake](files/Images/IFQuake.png) ![Text Quake](files/Images/AAQuake.png) ![Quake](files/Images/Quake.jpg)"
     ]
    },
    {
     "cell_type": "markdown",
     "metadata": {
      "slideshow": {
       "slide_type": "slide"
      }
     },
     "source": [
      "A few guidelines for interfacing well with your user:\n",
      "\n",
      "* Document everything!\n",
      "    - Don't contradict your documentation\n",
      "    - If somthing changes make sure the docs are up to date\n",
      "    - Provide commandline \n",
      "    - Tooltips in a GUI really help\n",
      "    "
     ]
    },
    {
     "cell_type": "markdown",
     "metadata": {
      "slideshow": {
       "slide_type": "slide"
      }
     },
     "source": [
      "* Use a standard method for getting user input:\n",
      "    - A simple file format like the `ini` file format: `key = value` as implemented in ConfigParser (configparser in Python 3).\n",
      "    - If you need more complex input use another markup solution like `json`, `xml`.\n",
      "    - Use a standard parser; don't do it yourself if possible.\n",
      "    - You could also `import` user data but be aware that is *dangerous* and will run unsanitised code!\n",
      "    - Take standard command line arguments in an expected way (use `argparse`).\n",
      "    - Provide sensible defaults for everything.\n",
      "    - Only interact with your user if you need to.\n",
      "    - Does a GUI just make things more complicated, or can it enhance the user experience and provide at least as much functionality?\n",
      "    - Have a GUI remember inputs for ease of repeated use."
     ]
    },
    {
     "cell_type": "markdown",
     "metadata": {
      "slideshow": {
       "slide_type": "slide"
      }
     },
     "source": [
      "* Use a reliable data exchange and persistence format.\n",
      "    - Is there a format that already suits your need?\n",
      "        - Openbabel supports 110 chemical file formats, do we need another?\n",
      "        - Consider features, stability, popularity.\n",
      "    - In the standard library: `pickle` for Python objects, `json` for structured data, `xml` if you have to.\n",
      "    - Look at HDF, NetCDF or other common standard multidimensional data formats.\n",
      "    - Databases are good for relational and distributed data.\n",
      "        - SQL, NoSQL?\n",
      "        - Keep things high level in code (SQLAlchemy...) so you don't have to deal directy with the error prone generation of expressions\n",
      "        - Have a sensible schema."
     ]
    },
    {
     "cell_type": "markdown",
     "metadata": {
      "slideshow": {
       "slide_type": "slide"
      }
     },
     "source": [
      "* **Do not break backwards compatability**!\n",
      "    - When you break backwards compatability do it the right way:\n",
      "        + Increment version numbers;\n",
      "        + Provide an intermediate version with deprecation warnings;\n",
      "        + Warn your users anyway;\n",
      "        + Use it as an opportunity to break everything at once."
     ]
    },
    {
     "cell_type": "markdown",
     "metadata": {
      "slideshow": {
       "slide_type": "slide"
      }
     },
     "source": [
      "Programming interface\n",
      "---------------------\n",
      "\n",
      "The application programming interface (API) defines what bits of your code are available for other people to use when they use it as a library, for example functions, classes and attributes or methods on those classes. Use the techniques we learned in the object oriented classes to provide a useful interface to your code that hides the implementation details.\n",
      "\n",
      "* Think about your design before you implement anything.\n",
      "* *Think about your design before you implement anything.*\n",
      "    - Write it down;\n",
      "    - Map it out;\n",
      "    - Think about if it would make sense in your Grandma's shoes;\n",
      "    - Start writing code only when you know what you are doing."
     ]
    },
    {
     "cell_type": "markdown",
     "metadata": {
      "slideshow": {
       "slide_type": "slide"
      }
     },
     "source": [
      "* Make public only things that other people can or should use.\n",
      "    - Everything public must be well documented (great docstrings).\n",
      "    - Ensure that your public interfaces work as advertised (testing).\n",
      "    - Expose functionlaity in the way that you intend other people to use it.\n",
      "* Do not expose implementation details (that might change)\n",
      "    - Hide functionality that you don't want people to use.\n",
      "    - Give other developers only what they need.\n",
      "* Do not break other people's code that depends on yours.\n",
      "* Use version numbers to communicate with users and developers: major.minor.patch [http://semver.org/](http://semver.org/)\n",
      "    - for major = 0, nothing is considered stable and API can change at any time. *1.0.0 defines the public API*;\n",
      "    - increment patch for backwards compatible bug fixes;\n",
      "    - increment minor for backwards compaible new functionality (or substantial patch level changes);\n",
      "    - increment major for any backwards incompatible public API changes;\n",
      "    - if you know lots of people depend on a previous API, consider backporting new features and maintaing a previous major version as a more stable option."
     ]
    }
   ],
   "metadata": {}
  }
 ]
}