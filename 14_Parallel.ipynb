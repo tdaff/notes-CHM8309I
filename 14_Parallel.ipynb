{
 "metadata": {
  "celltoolbar": "Slideshow",
  "name": "",
  "signature": "sha256:37d9700aed0ef121cd6b2da5f2e33a7e8cd30fdeb970ba067691bb6edcce5cec"
 },
 "nbformat": 3,
 "nbformat_minor": 0,
 "worksheets": [
  {
   "cells": [
    {
     "cell_type": "markdown",
     "metadata": {
      "slideshow": {
       "slide_type": "slide"
      }
     },
     "source": [
      "Parallel programming\n",
      "===================="
     ]
    },
    {
     "cell_type": "markdown",
     "metadata": {
      "slideshow": {
       "slide_type": "slide"
      }
     },
     "source": [
      "Because my boss tells me to\n",
      "---------------------------\n",
      "\n",
      "Much like optimisation, parallel processing is one of those things that can easily make everything you do very complicated and incomprehensible to anyone else giving you little in return (or worse).\n",
      "\n",
      "Parallelising will not reduce the amount of work your CPU has to do. There is no magic that makes your code more efficient. For a problem that is entirely CPU bound, the best case scenraio is that you will get your results quicker by parallelising it, but if you code things badly it will take longer and use more resources. For codes where the CPU is idle a lot, during IO for example, parallel codes can take advantage of idle CPU time, but many scientific codes will have their major component that being CPU intensive.\n",
      "\n",
      "Nevertheless, if we can take advantage of the availabilty of large computing resources then we can possibly achieve results that would take years in days or hours."
     ]
    },
    {
     "cell_type": "markdown",
     "metadata": {
      "slideshow": {
       "slide_type": "slide"
      }
     },
     "source": [
      "Speedup\n",
      "-------\n",
      "\n",
      "The normal measures for how well something is parallelised is either **speedup** or **efficiency**: \n",
      "\n",
      "$S_p = \\frac{T_1}{T_p}$; \n",
      "\n",
      "$E_p = \\frac{S_p}{p} = \\frac{T_1}{pT_p}$\n",
      "\n",
      "Where $T_1$ is the time to execute on a single processor, and $T_p$ is the time to run on $p$ processors. These refer to **wall clock time** or **execution time**, the **CPU time** will be the total time doing computation over all CPUs added together."
     ]
    },
    {
     "cell_type": "markdown",
     "metadata": {
      "slideshow": {
       "slide_type": "slide"
      }
     },
     "source": [
      "Not everything parallelises well. **Amdahl's Law** is a limit to what you can do with parallelisation:\n",
      "\n",
      "$S_{max} = (F_{serial} + \\frac{F_{parallel}}{p})^{-1}$\n",
      "\n",
      "* *If you only parallelise half of your CPU bound code you can theoretically only get a maximum speedup of 2*.\n",
      "    + If my code does two things I need to parallelise both.\n",
      "* Profile before doing any optimisation to see if it is worth it.\n",
      "    + Make single processor performace the best it can be first."
     ]
    },
    {
     "cell_type": "code",
     "collapsed": false,
     "input": [
      "%matplotlib inline\n",
      "\n",
      "import numpy as np\n",
      "import matplotlib.pyplot as plt\n",
      "\n",
      "def amdahls_law(serial, p):\n",
      "    return (serial + (1-serial)/p)**-1\n",
      "\n",
      "x = np.arange(1, 64)\n",
      "plt.plot(x, [amdahls_law(0.5, item) for item in x], label=\"50% parallel\")\n",
      "plt.plot(x, [amdahls_law(0.2, item) for item in x], label=\"80% parallel\")\n",
      "plt.plot(x, [amdahls_law(0.05, item) for item in x], label=\"95% parallel\")\n",
      "plt.legend(); plt.xlabel(\"number of processes\"); plt.ylabel(\"speedup\")"
     ],
     "language": "python",
     "metadata": {
      "slideshow": {
       "slide_type": "slide"
      }
     },
     "outputs": [
      {
       "metadata": {},
       "output_type": "pyout",
       "prompt_number": 1,
       "text": [
        "<matplotlib.text.Text at 0x40d4d50>"
       ]
      },
      {
       "metadata": {},
       "output_type": "display_data",
       "png": "[encoded data removed]",
       "text": [
        "<matplotlib.figure.Figure at 0x40ca910>"
       ]
      }
     ],
     "prompt_number": 1
    },
    {
     "cell_type": "markdown",
     "metadata": {
      "slideshow": {
       "slide_type": "slide"
      }
     },
     "source": [
      "Benefits\n",
      "--------\n",
      "\n",
      "There are still good reasons to parallelise your code:\n",
      "\n",
      "* Chips are getting more cores, not faster\n",
      "    + Clusters are getting bigger with faster interconnects\n",
      "    + GPGPUs give you a many cores on a single computer\n",
      "* Your problem easily scales perfectly (**embarrassingly parallel**) and can utilise all the resources effectively\n",
      "* Your problem would otherwise take years\n",
      "* An algorithm has been specifically designed for parallel computing\n",
      "* Take advantage of distributed hardware resources such as memory\n",
      "* To take advantage of **concurrency** in asynchronous problems with slow responses\n",
      "* You know that you will be able to maintain a parallel implementation"
     ]
    },
    {
     "cell_type": "markdown",
     "metadata": {
      "slideshow": {
       "slide_type": "slide"
      }
     },
     "source": [
      "Zero code parallelisation\n",
      "-------------------------\n",
      "\n",
      "If you can manually chop up your data into segments that you can process entirely individually then you can run each of those instances of your code concurrently without having to recode anything. This can help to think about some concepts of parallel computing:\n",
      "\n",
      "* How do you divide the data up evenly so that each process takes a similar amount of time?\n",
      "    + Long running processes can leave idle CPUs until everything is finished\n",
      "    + Short processes where there are many more than the cores you have available will fill in gaps\n",
      "* How do the processes communicate with each other?\n",
      "    + How are the data and parameters supplied to each instance?\n",
      "    + How are the data recombined at the end?\n",
      "\n",
      "Maybe the easiest solution to your problem is to have a bunch of serial jobs run with a shell script (or `subprocess`) or submitted through a queuing system."
     ]
    },
    {
     "cell_type": "markdown",
     "metadata": {
      "slideshow": {
       "slide_type": "slide"
      }
     },
     "source": [
      "![parallel tasks](files/Images/Par001.png)"
     ]
    },
    {
     "cell_type": "markdown",
     "metadata": {
      "slideshow": {
       "slide_type": "slide"
      }
     },
     "source": [
      "Parallel programming\n",
      "--------------------\n",
      "\n",
      "Two very general classes of parallelisation are **shared memory** and **distributed memory** computing."
     ]
    },
    {
     "cell_type": "markdown",
     "metadata": {},
     "source": [
      "![shared and distributed memory](files/Images/Par002.png)"
     ]
    },
    {
     "cell_type": "markdown",
     "metadata": {
      "slideshow": {
       "slide_type": "slide"
      }
     },
     "source": [
      "Shared memory\n",
      "-------------\n",
      "\n",
      "Shared memory is usually achieved through **lightweight threads** and is very well standardised in compiled languages through **OpenMP**. It is designed to run on a single machine (or a shared memory cluster).\n",
      "\n",
      "Shared memory can be _difficult_ to do effectively manually as you need to avoid threads working on the same data or depending on the results of other threads. \n",
      "\n",
      "Compiling your code with `-openmp -ftree-parallelize-loops=n` in GCC 4.4 or later (where n is the number of cores you will be using), or `-openmp -parallel` with intel compilers will do some automatic code analysis and produce parallel binaries. In practice you can also to tell the compiler what to parallelise.\n",
      "\n",
      "* `!$omp parallel` is used in fortran\n",
      "* `#pragma omp parallel` is used in C\n",
      "* Consider private (loop variable) and public (everything) scopes\n",
      "* Consider workload and static dynamic schedulers\n",
      "* Setting `OMP_NUM_THREADS` at runtime to tweak performance\n",
      "\n",
      "There is also a lot of information available on optmiising your **OpenMP directives**, ask me if you'd like the notes from the HPCVL parallel workshop."
     ]
    },
    {
     "cell_type": "markdown",
     "metadata": {
      "slideshow": {
       "slide_type": "slide"
      }
     },
     "source": [
      "Distributed memory\n",
      "------------------\n",
      "\n",
      "The standard for distributed memory computing is **MPI** and it is intended to run on any number of cores across any number of nodes on most high performance computing (HPC) facilities. It is generally more more complicated than OpenMP as you have to deal with **communication** via **message passing**. Running MPI works by having multiple instances of the same program running in different places and communicating on the same computer or over a network in order to decide what work each should do.\n",
      "\n",
      "A basic MPI program can be implemented with just the following commands (but there are over a hundred):\n",
      "\n",
      "* `MPI_INIT` sets up everything needed to start; must be executed before enything else\n",
      "* `MPI_COMM_SIZE` finds out how many processes are in the MPI group\n",
      "* `MPI_COMM_RANK` determines the identifier of this particular process\n",
      "* `MPI_SEND` sends a *message*\n",
      "* `MPI_RECV` recieves a *message*\n",
      "* `MPI_FINALIZE` closes all the MPI stuff.\n",
      "\n",
      "Each running copy of the code is a completely independent process so the distribution of data amongst the processes has to be considered:\n",
      "\n",
      "* **Decomposition** has only parts of the data with each process but there needs to be processing to slice up the data and ensure that there is overlap between regions if necessary.\n",
      "* **Duplication** has all the data on every node which can make code faster with less communication but uses more memory.\n",
      "\n",
      "Often the `RANK 0` process will do reading, writing and data distribution and management as it is always guaranteed to exist (there are parallel IO codes but they are for heavy data processing like CERN)."
     ]
    },
    {
     "cell_type": "markdown",
     "metadata": {
      "slideshow": {
       "slide_type": "slide"
      }
     },
     "source": [
      "Parallel programming in Python\n",
      "------------------------------\n",
      "\n",
      "Each Python process is strictly bound to a single thread by the global interface lock (GIL). This means that a Python process cannot use multi-core machines, but everything is **thread safe**, so if you use Python's `threading` library you won't see speedup with CPU bound tasks but sharing between threads is easy.\n",
      "\n",
      "There are a number of ways to achieve true **concurrency** either through libraries or multiple processes. Since version 2.6, Python's `multiprocessing` module, for example, has given an API for easy multiple process management that sidesteps the GIL."
     ]
    },
    {
     "cell_type": "code",
     "collapsed": false,
     "input": [
      "%%file f_group_hist.py\n",
      "\n",
      "from random import random, choice\n",
      "\n",
      "FUNC = [\"H\", \"C\", \"N\", \"O\", \"F\", \"I\", \"P\", \"S\"]\n",
      "\n",
      "class FunctionalGroup(object):\n",
      "    \"\"\"Acts like a particle with a random history.\"\"\"\n",
      "    id_count = 0\n",
      "    def __init__(self, age=2000):\n",
      "        \"\"\"Initialise a random name and history.\"\"\"\n",
      "        self.position_history = []\n",
      "        self.generate_trajectory(length=age)\n",
      "        FunctionalGroup.id_count += 1\n",
      "        self.id = \"<Func|%-5s|%i>\" % (\n",
      "            \"\".join(choice(FUNC) for _i in range(5)),\n",
      "            FunctionalGroup.id_count)\n",
      "    def generate_trajectory(self, length=2000):\n",
      "        \"\"\"Fill it with random positions beacuse this is not real.\"\"\"\n",
      "        for _timestep in range(length):\n",
      "            self.position_history.append([random(), random(), random()])\n",
      "    def __repr__(self):\n",
      "        \"\"\"Help distinguish between instances.\"\"\"\n",
      "        return self.id\n",
      "\n",
      "def euclidean_dist(point_one, point_two):\n",
      "    \"\"\"Calculate the distance between two 3D points.\"\"\"\n",
      "    return ((point_one[0] - point_two[0])**2 +\n",
      "            (point_one[1] - point_two[1])**2 +\n",
      "            (point_one[2] - point_two[2])**2)**0.5\n",
      "\n",
      "def consecutive_pairs(iterable):\n",
      "    \"\"\"Generator that yields tuples containing the previous two items.\"\"\"\n",
      "    iter_object = iter(iterable)\n",
      "    # Take the first one so we always have two to give\n",
      "    previous = iter_object.next()\n",
      "    for item in iter_object:\n",
      "        yield (previous, item)\n",
      "        previous = item\n",
      "\n",
      "def distance_travelled(particle):\n",
      "    \"\"\"Total distance travelled for a particle over over a .position_history.\"\"\"\n",
      "    return sum(euclidean_dist(from_position, to_position) \n",
      "               for from_position, to_position \n",
      "               in consecutive_pairs(particle.position_history))"
     ],
     "language": "python",
     "metadata": {
      "slideshow": {
       "slide_type": "slide"
      }
     },
     "outputs": [
      {
       "output_type": "stream",
       "stream": "stdout",
       "text": [
        "Overwriting f_group_hist.py\n"
       ]
      }
     ],
     "prompt_number": 2
    },
    {
     "cell_type": "code",
     "collapsed": false,
     "input": [
      "from f_group_hist import FunctionalGroup, distance_travelled"
     ],
     "language": "python",
     "metadata": {
      "slideshow": {
       "slide_type": "slide"
      }
     },
     "outputs": [],
     "prompt_number": 3
    },
    {
     "cell_type": "code",
     "collapsed": false,
     "input": [
      "my_groups = [FunctionalGroup() for _null in range(512)]"
     ],
     "language": "python",
     "metadata": {},
     "outputs": [],
     "prompt_number": 4
    },
    {
     "cell_type": "markdown",
     "metadata": {
      "slideshow": {
       "slide_type": "slide"
      }
     },
     "source": [
      "Serial\n",
      "------\n",
      "\n",
      "For our example we will apply a distance calcaultor to a set of functional groups that have been moving around. In the first instance, we can do this serially."
     ]
    },
    {
     "cell_type": "code",
     "collapsed": false,
     "input": [
      "def serial_distancer(groups):\n",
      "    \"\"\"Construct a dictionary with all the distances travelled.\"\"\"\n",
      "    return {group.id: distance_travelled(group) for group in groups}"
     ],
     "language": "python",
     "metadata": {},
     "outputs": [],
     "prompt_number": 5
    },
    {
     "cell_type": "code",
     "collapsed": false,
     "input": [
      "%timeit serial_distancer(my_groups)"
     ],
     "language": "python",
     "metadata": {},
     "outputs": [
      {
       "output_type": "stream",
       "stream": "stdout",
       "text": [
        "1 loops, best of 3: 1.57 s per loop\n"
       ]
      }
     ],
     "prompt_number": 6
    },
    {
     "cell_type": "markdown",
     "metadata": {
      "slideshow": {
       "slide_type": "slide"
      }
     },
     "source": [
      "Multiprocessing\n",
      "---------------\n",
      "\n",
      "The `multiprocessing` module spawns new processes that act similar to threads, but they are a bit more heavyweight and each can run on a separate core (outside the GIL). You need to do a bit of management for processes, but there are classes like `Pool` and `Queue` that help take care of distribution of work and **locking**."
     ]
    },
    {
     "cell_type": "code",
     "collapsed": false,
     "input": [
      "import multiprocessing\n",
      "import os\n",
      "\n",
      "# A simple example of a pool\n",
      "\n",
      "def worker(args):\n",
      "    \"\"\"Give some info on the system.\"\"\"\n",
      "    print(\"PID = {}; args = {}\".format(os.getpid(), args))\n",
      "    return os.getpid(), args"
     ],
     "language": "python",
     "metadata": {
      "slideshow": {
       "slide_type": "slide"
      }
     },
     "outputs": [],
     "prompt_number": 7
    },
    {
     "cell_type": "code",
     "collapsed": false,
     "input": [
      "# A Pool manages all your processes\n",
      "pool = multiprocessing.Pool(processes=4)\n",
      "result = pool.map(worker, [1, 2, \"string\", [\"li\", \"st\"], 2.2, worker])\n",
      "result"
     ],
     "language": "python",
     "metadata": {},
     "outputs": [
      {
       "output_type": "stream",
       "stream": "stdout",
       "text": [
        "PID = 21009; args = string\n",
        "PID = 21007; args = 1\n",
        "PID = 21008; args = 2\n",
        "PID = 21010; args = ['li', 'st']\n",
        "PID = 21008; args = 2.2\n",
        "PID = 21007; args = <function worker at 0x420d410>\n"
       ]
      },
      {
       "metadata": {},
       "output_type": "pyout",
       "prompt_number": 8,
       "text": [
        "[(21007, 1),\n",
        " (21008, 2),\n",
        " (21009, 'string'),\n",
        " (21010, ['li', 'st']),\n",
        " (21008, 2.2),\n",
        " (21007, <function __main__.worker>)]"
       ]
      }
     ],
     "prompt_number": 8
    },
    {
     "cell_type": "code",
     "collapsed": false,
     "input": [
      "# run on our Pool of 4 workers\n",
      "%timeit pool.map(distance_travelled, my_groups)"
     ],
     "language": "python",
     "metadata": {
      "slideshow": {
       "slide_type": "slide"
      }
     },
     "outputs": [
      {
       "output_type": "stream",
       "stream": "stdout",
       "text": [
        "1 loops, best of 3: 3.49 s per loop\n"
       ]
      }
     ],
     "prompt_number": 9
    },
    {
     "cell_type": "markdown",
     "metadata": {
      "slideshow": {
       "slide_type": "slide"
      }
     },
     "source": [
      "Queue\n",
      "-----\n",
      "Using  `Pool.map` with our function didn't show any benefit. The distribution of work is probably not optimised, instead all the data goes to every process, which is slow in this case. We can also manually create `Process`es and a `Queue` to demonstrate how we can distribute work and use shared objects for more complex output."
     ]
    },
    {
     "cell_type": "code",
     "collapsed": false,
     "input": [
      "import multiprocessing\n",
      "from multiprocessing import Queue\n",
      "\n",
      "def mp_distancer(groups, nprocs):\n",
      "    def worker(groups, out_q):\n",
      "        \"\"\"\n",
      "        Worker to be invoked in a process. Pass the groups to be\n",
      "        measured and the results dictionary is pushed to a queue.\n",
      "        \"\"\"\n",
      "        outdict = {}\n",
      "        for group in groups:\n",
      "            outdict[group.id] = distance_travelled(group)\n",
      "        out_q.put(outdict)\n",
      "\n",
      "    # Each process gets a chunk and the queue to put results into\n",
      "    out_q = multiprocessing.Queue()\n",
      "    # Divide up the work into equally sized chunks\n",
      "    chunksize = int(math.ceil(len(groups) / float(nprocs)))\n",
      "    # A list stores references to our processes\n",
      "    procs = []\n",
      "\n",
      "    for proc_idx in range(nprocs):\n",
      "        work = groups[chunksize*proc_idx:chunksize*(proc_idx+1)]\n",
      "        # Create each process using the function to execute and \n",
      "        # the tuple of arguments with work and a shared queue\n",
      "        p = multiprocessing.Process(target=worker, args=(work, out_q))\n",
      "        procs.append(p)\n",
      "        p.start()\n",
      "\n",
      "    # Collect all results into a single dict. We know how many to expect.\n",
      "    result_dict = {}\n",
      "    for _i in range(nprocs):\n",
      "        # The get will block until there is an item to get\n",
      "        result_dict.update(out_q.get())\n",
      "\n",
      "    # Wait for all worker processes to finish\n",
      "    # Queue must be empty before joining to prevent deadlocks\n",
      "    for p in procs:\n",
      "        p.join()\n",
      "\n",
      "    return result_dict"
     ],
     "language": "python",
     "metadata": {},
     "outputs": [],
     "prompt_number": 10
    },
    {
     "cell_type": "code",
     "collapsed": false,
     "input": [
      "mp_distancer(my_groups, 2) == serial_distancer(my_groups)"
     ],
     "language": "python",
     "metadata": {
      "slideshow": {
       "slide_type": "slide"
      }
     },
     "outputs": [
      {
       "metadata": {},
       "output_type": "pyout",
       "prompt_number": 11,
       "text": [
        "True"
       ]
      }
     ],
     "prompt_number": 11
    },
    {
     "cell_type": "code",
     "collapsed": false,
     "input": [
      "%timeit mp_distancer(my_groups, 1)\n",
      "%timeit mp_distancer(my_groups, 2)\n",
      "%timeit mp_distancer(my_groups, 8)"
     ],
     "language": "python",
     "metadata": {},
     "outputs": [
      {
       "output_type": "stream",
       "stream": "stdout",
       "text": [
        "1 loops, best of 3: 1.76 s per loop\n"
       ]
      },
      {
       "output_type": "stream",
       "stream": "stdout",
       "text": [
        "1 loops, best of 3: 907 ms per loop\n"
       ]
      },
      {
       "output_type": "stream",
       "stream": "stdout",
       "text": [
        "1 loops, best of 3: 317 ms per loop\n"
       ]
      }
     ],
     "prompt_number": 12
    },
    {
     "cell_type": "markdown",
     "metadata": {},
     "source": [
      "Fianlly we see some speedup, athough it is far from *perfect scaling*. In every case there is overhead from process setup and communication which makes the single core version slower than the serial version. You must decide whether it is worth your time to make things parallel. \n",
      "\n",
      "The processes can share memory, although in this case you need to be careful to lock variables as you manipulate them."
     ]
    },
    {
     "cell_type": "markdown",
     "metadata": {
      "slideshow": {
       "slide_type": "slide"
      }
     },
     "source": [
      "MPI\n",
      "----\n",
      "\n",
      "Although `multiprocessing` can be made to work across nodes on clusters, Python also has wrappers around standard MPI libraries. With MPI, many instances of your code run completely separately and communicate **messages** to each other. In this example we use `scatter` and `collect` but a similar thing could be achieved with `send` and `recv`."
     ]
    },
    {
     "cell_type": "code",
     "collapsed": false,
     "input": [
      "%%file mpi_distancer.py\n",
      "\n",
      "#!/usr/bin/env python\n",
      "\n",
      "\"\"\"\n",
      "mpi_distancer.py\n",
      "\n",
      "Simple implementation of a history distance calculation\n",
      "with data scatter and gather via MPI.\n",
      "\n",
      "\"\"\"\n",
      "\n",
      "import math\n",
      "import time\n",
      "\n",
      "# The import takes care of MPI_Init and setup\n",
      "from mpi4py import MPI\n",
      "\n",
      "# Local definitions that we'll use\n",
      "from f_group_hist import FunctionalGroup, distance_travelled\n",
      "\n",
      "# comm is the communicator that handles our collection of MPI tasks\n",
      "comm = MPI.COMM_WORLD\n",
      "\n",
      "# These identify how many processes are running and which one this is\n",
      "rank, size = comm.rank, comm.size\n",
      "print \"Running as rank %d out of %d\" % (rank, size)\n",
      "\n",
      "if rank == 0:\n",
      "    # treat 0 as the root node as it is always there\n",
      "    start_time = time.time()\n",
      "    # Instantiate all the data; \n",
      "    # if data input is time consuming you can distribute this step too\n",
      "    my_groups = [FunctionalGroup() for _i in range(511)]\n",
      "    print(\"Generated data in {} seconds\".format(time.time() - start_time))\n",
      "    chunksize = int(math.ceil(len(my_groups) / float(size)))\n",
      "    # We need to partition the groups ourselves (not always necessary)\n",
      "    my_groups = [my_groups[chunksize*i:chunksize*(i+1)] for i in range(size)]\n",
      "else:\n",
      "    # All other processes don't care\n",
      "    my_groups = None\n",
      "\n",
      "# scatter sends out pickled python objects to all the other processes\n",
      "my_groups = comm.scatter(my_groups, root=0)\n",
      "\n",
      "if rank == 0:\n",
      "    print(\"Sent data after {} seconds\".format(time.time() - start_time))\n",
      "    # using NumPy arrays with Scatter will be faster\n",
      "\n",
      "print(\"Rank {} has {} items; first is {}\".format(rank, len(my_groups), my_groups[0]))\n",
      "\n",
      "# Here's the processing bit that we do\n",
      "results = {group.id: distance_travelled(group) for group in my_groups}\n",
      "\n",
      "print(\"Rank {} done\".format(rank))\n",
      "\n",
      "# Wait for everybody to synchronize _here_\n",
      "comm.Barrier()\n",
      "\n",
      "# collects the results as a list with results\n",
      "# for each node in a separate item\n",
      "results = comm.gather(results, root=0)\n",
      "\n",
      "if rank == 0:\n",
      "    # Combine all our data together as before, but only on the root node\n",
      "    final_results = {}\n",
      "    for result in results:\n",
      "        final_results.update(result)\n",
      "\n",
      "    # All done\n",
      "    print(\"Total time: {} seconds\".format(time.time() - start_time))"
     ],
     "language": "python",
     "metadata": {},
     "outputs": [
      {
       "output_type": "stream",
       "stream": "stdout",
       "text": [
        "Overwriting mpi_distancer.py\n"
       ]
      }
     ],
     "prompt_number": 13
    },
    {
     "cell_type": "code",
     "collapsed": false,
     "input": [
      "# mpiexec starts as many pythons as we need\n",
      "!mpiexec -n 1 python mpi_distancer.py"
     ],
     "language": "python",
     "metadata": {
      "slideshow": {
       "slide_type": "slide"
      }
     },
     "outputs": [
      {
       "output_type": "stream",
       "stream": "stdout",
       "text": [
        "Running as rank 0 out of 1\r\n"
       ]
      },
      {
       "output_type": "stream",
       "stream": "stdout",
       "text": [
        "Generated data in 1.97901010513 seconds\r\n"
       ]
      },
      {
       "output_type": "stream",
       "stream": "stdout",
       "text": [
        "Sent data after 8.92737817764 seconds\r\n",
        "Rank 0 has 511 items; first is <Func|FFFSP|1>\r\n"
       ]
      },
      {
       "output_type": "stream",
       "stream": "stdout",
       "text": [
        "Rank 0 done\r\n",
        "Total time: 10.5981180668 seconds\r\n"
       ]
      }
     ],
     "prompt_number": 14
    },
    {
     "cell_type": "code",
     "collapsed": false,
     "input": [
      "!mpiexec -n 4 python mpi_distancer.py"
     ],
     "language": "python",
     "metadata": {},
     "outputs": [
      {
       "output_type": "stream",
       "stream": "stdout",
       "text": [
        "Running as rank 1 out of 4\r\n",
        "Running as rank 2 out of 4\r\n",
        "Running as rank 0 out of 4\r\n",
        "Running as rank 3 out of 4\r\n"
       ]
      },
      {
       "output_type": "stream",
       "stream": "stdout",
       "text": [
        "Generated data in 1.98770403862 seconds\r\n"
       ]
      },
      {
       "output_type": "stream",
       "stream": "stdout",
       "text": [
        "Rank 1 has 128 items; first is <Func|NFNFS|129>\r\n"
       ]
      },
      {
       "output_type": "stream",
       "stream": "stdout",
       "text": [
        "Rank 2 has 128 items; first is <Func|PSFNO|257>\r\n"
       ]
      },
      {
       "output_type": "stream",
       "stream": "stdout",
       "text": [
        "Rank 3 has 127 items; first is <Func|FSFPH|385>\r\n"
       ]
      },
      {
       "output_type": "stream",
       "stream": "stdout",
       "text": [
        "Rank 1 done\r\n"
       ]
      },
      {
       "output_type": "stream",
       "stream": "stdout",
       "text": [
        "Rank 2 done\r\n"
       ]
      },
      {
       "output_type": "stream",
       "stream": "stdout",
       "text": [
        "Rank 3 done\r\n"
       ]
      },
      {
       "output_type": "stream",
       "stream": "stdout",
       "text": [
        "Sent data after 6.26479887962 seconds\r\n",
        "Rank 0 has 128 items; first is <Func|OPSOH|1>\r\n"
       ]
      },
      {
       "output_type": "stream",
       "stream": "stdout",
       "text": [
        "Rank 0 done\r\n"
       ]
      },
      {
       "output_type": "stream",
       "stream": "stdout",
       "text": [
        "Total time: 6.71548199654 seconds\r\n"
       ]
      }
     ],
     "prompt_number": 15
    },
    {
     "cell_type": "markdown",
     "metadata": {},
     "source": [
      "We see some speedup as the calculation part scales very well, but calcaultion setup and distribution of big chunks of data can take a significant amount of time and reduce the efficiency of the parallelisation.\n",
      "\n",
      "MPI parallelisation is best when the communication is kept to a minimum."
     ]
    },
    {
     "cell_type": "markdown",
     "metadata": {
      "slideshow": {
       "slide_type": "slide"
      }
     },
     "source": [
      "Unlocking the GIL with Cython and OpenMP\n",
      "----------------------------------------\n",
      "\n",
      "As we have seen, we can incorporate code in other languages in Python. Depending on how you compile that external code, you can take advantage of many-core machines. Since Cython translates to C, there are features that let you leverage OpenMP parallelisation from your Cython modules."
     ]
    },
    {
     "cell_type": "code",
     "collapsed": false,
     "input": [
      "%load_ext cythonmagic"
     ],
     "language": "python",
     "metadata": {
      "slideshow": {
       "slide_type": "slide"
      }
     },
     "outputs": [],
     "prompt_number": 16
    },
    {
     "cell_type": "code",
     "collapsed": false,
     "input": [
      "%%cython -f -c-fopenmp --link-args=-fopenmp -c-g\n",
      "# enable extra compiler flags for openmp compilation\n",
      "\n",
      "import numpy\n",
      "cimport cython\n",
      "cimport numpy\n",
      "# use prange for automatic work distribution\n",
      "from cython.parallel cimport prange\n",
      "\n",
      "@cython.boundscheck(False)\n",
      "@cython.wraparound(False)\n",
      "def cy_euclid_par(numpy.ndarray[numpy.float64_t, ndim=2] coordinates,\n",
      "                  int num_threads=1):\n",
      "    \"\"\"Calculate euclidean distance of all coordinates.\"\"\"\n",
      "    cdef int idx, size\n",
      "    cdef numpy.ndarray[numpy.float64_t, ndim=1] output \n",
      "\n",
      "    output = numpy.empty(coordinates.shape[0])\n",
      "    size = coordinates.shape[0]\n",
      "    \n",
      "    # code block releases the gil\n",
      "    with nogil:\n",
      "        # this block runs separately for each OpenMP thread\n",
      "        # and prange gives idx different values per thread\n",
      "        for idx in prange(size, schedule='static',\n",
      "                          num_threads=num_threads):\n",
      "            # communicate with shared buffers (not Python objects)\n",
      "            output[idx] = (coordinates[idx, 0]**2 +\n",
      "                           coordinates[idx, 1]**2 +\n",
      "                           coordinates[idx, 2]**2)**0.5\n",
      "    return output"
     ],
     "language": "python",
     "metadata": {},
     "outputs": [],
     "prompt_number": 17
    },
    {
     "cell_type": "code",
     "collapsed": false,
     "input": [
      "import numpy\n",
      "positions = numpy.random.random((3000, 3))"
     ],
     "language": "python",
     "metadata": {
      "slideshow": {
       "slide_type": "slide"
      }
     },
     "outputs": [],
     "prompt_number": 18
    },
    {
     "cell_type": "code",
     "collapsed": false,
     "input": [
      "%timeit cy_euclid_par(positions)\n",
      "%timeit cy_euclid_par(positions, num_threads=2)\n",
      "%timeit cy_euclid_par(positions, num_threads=4)"
     ],
     "language": "python",
     "metadata": {},
     "outputs": [
      {
       "output_type": "stream",
       "stream": "stdout",
       "text": [
        "1000 loops, best of 3: 586 \u00b5s per loop\n",
        "1000 loops, best of 3: 302 \u00b5s per loop"
       ]
      },
      {
       "output_type": "stream",
       "stream": "stdout",
       "text": [
        "\n",
        "10000 loops, best of 3: 157 \u00b5s per loop"
       ]
      },
      {
       "output_type": "stream",
       "stream": "stdout",
       "text": [
        "\n"
       ]
      }
     ],
     "prompt_number": 19
    },
    {
     "cell_type": "markdown",
     "metadata": {
      "slideshow": {
       "slide_type": "slide"
      }
     },
     "source": [
      "A few notes:\n",
      "\n",
      "+ Speedup is good in this simple case as all the heavy processing in inside the loop\n",
      "+ Can't interact with Python objects within `nogil` regions\n",
      "    + Everything needs to be typed and can get complicated\n",
      "    + Cython gives helpful errors on compilation to prevent this\n",
      "    + use `with gil` blocks for python interaction\n",
      "+ Need to use NumPy `array`s for a shared memory buffer (Python types don't work)\n",
      "+ `prange` splits the work up on a schedule (these are OpenMP concepts - see figure):\n",
      "    + `static` cuts work into equal chunks; no overhead; good where each job takes the same time.\n",
      "    + `dynamic` work is given to threads when they request it in chunks of one; most overhead; good where jobs take different times or threads are different speeds\n",
      "    + `guided` threads are initially given a large chunk with decreasing size chunks as requested by threads; some overhead; may or may not be better than `dynamic`\n",
      "+ Work can also be distributed manually\n",
      "\n",
      "![scheduling work](files/Images/distribute_work.png)"
     ]
    },
    {
     "cell_type": "markdown",
     "metadata": {
      "slideshow": {
       "slide_type": "slide"
      }
     },
     "source": [
      "GPU\n",
      "---\n",
      "\n",
      "Python has modules for CUDA and PyOpenCL for GPU massively parallel computing. These work a lot like `weave` that we saw previously in that you compile the functions that run on the GPU but you also need to transfer your data to and from the GPU efficiently. They look to be fairly well documented, but that is an exercise left to the reader."
     ]
    },
    {
     "cell_type": "code",
     "collapsed": false,
     "input": [
      "import pycuda.autoinit\n",
      "import pycuda.driver as drv\n",
      "import numpy\n",
      "\n",
      "from pycuda.compiler import SourceModule\n",
      "mod = SourceModule(\"\"\"\n",
      "__global__ void multiply_them(float *dest, float *a, float *b)\n",
      "{\n",
      "  const int i = threadIdx.x;\n",
      "  dest[i] = a[i] * b[i];\n",
      "}\n",
      "\"\"\")\n",
      "\n",
      "multiply_them = mod.get_function(\"multiply_them\")\n",
      "\n",
      "a = numpy.random.randn(400).astype(numpy.float32)\n",
      "b = numpy.random.randn(400).astype(numpy.float32)\n",
      "\n",
      "dest = numpy.zeros_like(a)\n",
      "multiply_them(\n",
      "        drv.Out(dest), drv.In(a), drv.In(b),\n",
      "        block=(400,1,1), grid=(1,1))\n",
      "\n",
      "print a[0], b[0], a[0]*b[0], dest[0]"
     ],
     "language": "python",
     "metadata": {},
     "outputs": [
      {
       "output_type": "stream",
       "stream": "stdout",
       "text": [
        "-0.243131 0.078306 -0.0190386 -0.0190386\n"
       ]
      }
     ],
     "prompt_number": 20
    }
   ],
   "metadata": {}
  }
 ]
}