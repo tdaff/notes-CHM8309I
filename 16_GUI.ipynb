{
 "metadata": {
  "celltoolbar": "Slideshow",
  "name": "",
  "signature": "sha256:6fbdd876bfe320bdf58825f984903b290b667a5e0a8b950efe595ae715d62a80"
 },
 "nbformat": 3,
 "nbformat_minor": 0,
 "worksheets": [
  {
   "cells": [
    {
     "cell_type": "markdown",
     "metadata": {
      "slideshow": {
       "slide_type": "slide"
      }
     },
     "source": [
      "GUIs\n",
      "===="
     ]
    },
    {
     "cell_type": "markdown",
     "metadata": {
      "slideshow": {
       "slide_type": "slide"
      }
     },
     "source": [
      "Why GUI?\n",
      "--------\n",
      "\n",
      "+ A good GUI can make your application more intuitive and easy to use.\n",
      "+ It helps to present data in an organised visual manner.\n",
      "+ Can integrate different options and help at the point they are accessed."
     ]
    },
    {
     "cell_type": "markdown",
     "metadata": {
      "slideshow": {
       "slide_type": "slide"
      }
     },
     "source": [
      "Components of a GUI\n",
      "-------------------\n",
      "\n",
      "+ Visual layout\n",
      "    + Windows - containers of the application\n",
      "    + Widgets - building blocks that house controls\n",
      "+ Events\n",
      "    + Reaction to user or other events\n",
      "    + Bind events to controls or widgets"
     ]
    },
    {
     "cell_type": "markdown",
     "metadata": {
      "slideshow": {
       "slide_type": "slide"
      }
     },
     "source": [
      "Setup for class\n",
      "---------------\n",
      "\n",
      "Python interpreter:\n",
      "\n",
      "+ Either use the one on wooki (recommended)\n",
      "    + Start your Xserver (XLaunch on CUBE PCs)\n",
      "    + In PuTTY->Connection->SSH->X11 check the box next to \"Enable X11 forwarding\"\n",
      "    + Open a session to `wooki.chem.uolocal`\n",
      "    + Test the X-forwarding with `xeyes`\n",
      "+ Use your own\n",
      "    + Tkinter must be installed (should come with Python)\n",
      "    + PySide must also be installed\n",
      "\n",
      "Code:\n",
      "\n",
      "+ Put it where your Python is (e.g. on Wooki)\n",
      "+ Update the class repository\n",
      "+ Pull and update, or clone again from [https://bitbucket.org/tdaff/chm8309i_2014](https://bitbucket.org/tdaff/chm8309i_2014) (e.g. `hg clone https://bitbucket.org/tdaff/chm8309i_2014`\n",
      "\n",
      "GUI tools\n",
      "\n",
      "+ Download Qt Creator from [http://qt-project.org/downloads#qt-creator](http://qt-project.org/downloads#qt-creator)\n",
      "+ On CUBE PCs you should install it in you home directory for convenience"
     ]
    },
    {
     "cell_type": "markdown",
     "metadata": {
      "slideshow": {
       "slide_type": "slide"
      }
     },
     "source": [
      "`Tkinter` GUI library\n",
      "---------------------\n",
      "\n",
      "Tkinter is the GUI library included in the standard Python distribution. \n",
      "\n",
      "+ It is an interface to the Tk GUI toolkit.\n",
      "+ It is ugly, but can be used to demonstrate some of the simple concepts like **event loops**.\n",
      "+ You set up your windows how you like them then begin the event loop, waiting for interaction with your GUI.\n",
      "+ Once interaction occurs the toolkit will run the appropriate actions and then re-enter the event loop waiting for more interaction.\n",
      "+ If you have a long running process, it can lock your interface while waiting for it to finish so you may need to investigate threading long running processes.\n",
      "+ You can find a more comprehensive introduction to tkinter at http://effbot.org/tkinterbook/.\n",
      "+ Tkinter is useful as it is a standard module, but there are prettier, more powerful toolkits."
     ]
    },
    {
     "cell_type": "code",
     "collapsed": false,
     "input": [
      "%%file tkinter_example.py\n",
      "#!/usr/bin/env python\n",
      "\n",
      "import tkMessageBox\n",
      "# The only time we are allowed to import *\n",
      "from Tkinter import *\n",
      "\n",
      "\n",
      "class App(object):\n",
      "    \"\"\"The container for our GUI.\"\"\"\n",
      "    def __init__(self, master):\n",
      "        \"\"\"Set up a GUI on the master given here.\"\"\"\n",
      "        # Frame holds everything and makes a nice window\n",
      "        frame = Frame(master)\n",
      "        frame.pack()  # pack makes the window snug\n",
      "\n",
      "        # Many different widgets are available to\n",
      "        # do different things\n",
      "        self.listbox = Listbox(master)\n",
      "        self.listbox.pack()\n",
      "\n",
      "        self.listbox.insert(END, \"a list entry\")\n",
      "\n",
      "        for item in [\"one\", \"two\", \"three\", \"four\"]:\n",
      "            self.listbox.insert(END, item)\n",
      "\n",
      "        # Buttons are great for interaction\n",
      "        self.button = Button(\n",
      "            frame, text=\"Exit!\", fg=\"red\",\n",
      "            command=frame.quit)\n",
      "        self.button.pack(side=LEFT)\n",
      "\n",
      "        # Interact with your own functions\n",
      "        self.use_list = Button(\n",
      "            frame, text=\"Select item?\",\n",
      "            command=self.list_select)\n",
      "        self.use_list.pack(side=LEFT)\n",
      "\n",
      "    def list_select(self):\n",
      "        \"\"\"Have a look what is selected and do something.\"\"\"\n",
      "        # access state of listbox\n",
      "        items = self.listbox.curselection()\n",
      "        # convert indexes to items\n",
      "        selected = \", \".join(self.listbox.get(x) for x in items)\n",
      "        # message boxes are also available\n",
      "        okay = tkMessageBox.askokcancel(\"Selected\",\n",
      "            \"You selected {}, is this correct?\".format(selected))\n",
      "        if okay:\n",
      "            # do something\n",
      "            print(\"okay\")\n",
      "\n",
      "\n",
      "if __name__ == '__main__':\n",
      "    # the root Tk takes care of most of the windowing\n",
      "    root = Tk()\n",
      "    app = App(root)\n",
      "    # mainloop starts our event loop\n",
      "    root.mainloop()"
     ],
     "language": "python",
     "metadata": {
      "slideshow": {
       "slide_type": "slide"
      }
     },
     "outputs": [
      {
       "output_type": "stream",
       "stream": "stdout",
       "text": [
        "Overwriting tkinter_example.py\n"
       ]
      }
     ],
     "prompt_number": 7
    },
    {
     "cell_type": "markdown",
     "metadata": {
      "slideshow": {
       "slide_type": "slide"
      }
     },
     "source": [
      "Go into the `gui` directory in the class repository and run this example `python tkinter_example.py`. You will get something like this:\n",
      "\n",
      "![tkinter](files/Images/tkinter.png)"
     ]
    },
    {
     "cell_type": "markdown",
     "metadata": {
      "slideshow": {
       "slide_type": "slide"
      }
     },
     "source": [
      "Third party libraries\n",
      "====================="
     ]
    },
    {
     "cell_type": "markdown",
     "metadata": {
      "slideshow": {
       "slide_type": "slide"
      }
     },
     "source": [
      "`wx` and `PyQt` GUI libraries\n",
      "-----------------------------\n",
      "\n",
      "Tkinter is fairly straightforward for simple apps, but for larger development projects there are some recommended third party libraries.\n",
      "\n",
      "`wx` and `PyQt` are the two heavyweight windowing solutions. Both cover most of the same ground and are all event loop driven like the Tkinter so learing any of them will set you on the way with the others. The best idea is to pick one and stick with it."
     ]
    },
    {
     "cell_type": "markdown",
     "metadata": {
      "slideshow": {
       "slide_type": "slide"
      }
     },
     "source": [
      "**wxPython** is the Python bindings to the wx cross platform GUI toolkit. It integrates better with the operating system than Tkinter. You can find the tutorial for wxPython at [http://wiki.wxpython.org/AnotherTutorial](http://wiki.wxpython.org/AnotherTutorial). Also available is wxglade to visually design your GUI first [http://wxglade.sourceforge.net/](http://wxglade.sourceforge.net/) and add the logic afterwards."
     ]
    },
    {
     "cell_type": "markdown",
     "metadata": {
      "slideshow": {
       "slide_type": "slide"
      }
     },
     "source": [
      "**PyQt** and **PySide** are bindings for the Qt application framework and both do pretty much the same thing with almost identical API but with different licence caveats. Some people claim Qt integrates with windowing systems (looks _native_) more nicely than wx and is more Pythonic; others disagree. You can find the tutorials at [http://qt-project.org/wiki/PySide_Tutorials](http://qt-project.org/wiki/PySide_Tutorials), and I'll cover a couple of examples today. There is also Qt Creator which is an IDE with a Designer component to generate some bit to work with Python applications."
     ]
    },
    {
     "cell_type": "markdown",
     "metadata": {
      "slideshow": {
       "slide_type": "slide"
      }
     },
     "source": [
      "PySide\n",
      "------\n",
      "\n",
      "Very basic PySide works in a similar way to tkinter, but the result looks nicer."
     ]
    },
    {
     "cell_type": "code",
     "collapsed": false,
     "input": [
      "%%file pyside_basic.py\n",
      "#!/usr/bin/env python\n",
      "\n",
      "import sys\n",
      "from PySide.QtGui import QLabel, QApplication\n",
      "\n",
      "# Qt application (only one per program) gets arguments\n",
      "app = QApplication(sys.argv)\n",
      "# Create a Label and show it (accepts HTML)\n",
      "# Components already know about the root app\n",
      "label = QLabel(\"<font color=red size=40>PySide Application</font>\")\n",
      "label.show()\n",
      "# Enter Qt application main loop\n",
      "app.exec_()"
     ],
     "language": "python",
     "metadata": {},
     "outputs": [
      {
       "output_type": "stream",
       "stream": "stdout",
       "text": [
        "Overwriting pyside_basic.py\n"
       ]
      }
     ],
     "prompt_number": 9
    },
    {
     "cell_type": "markdown",
     "metadata": {},
     "source": [
      "Run `python pyside_basic.py` to see the application.\n",
      "\n",
      "![pyside basic](files/Images/basic.png)"
     ]
    },
    {
     "cell_type": "code",
     "collapsed": false,
     "input": [
      "%%file pyside_convert_app.py\n",
      "#!/usr/bin/env python\n",
      "\n",
      "import sys\n",
      "from collections import OrderedDict\n",
      "\n",
      "from PySide.QtCore import Slot\n",
      "from PySide.QtGui import QApplication, QWidget, QVBoxLayout, QFormLayout\n",
      "from PySide.QtGui import QComboBox, QLineEdit, QLabel, QHBoxLayout\n",
      "from PySide.QtGui import QPushButton\n",
      "\n",
      "\n",
      "class ConverterExample(QWidget):\n",
      "    \"\"\"A simple PySide example.\"\"\"\n",
      "    def __init__(self):\n",
      "        # Initialize the QWidget parent\n",
      "        QWidget.__init__(self)\n",
      "        self.setWindowTitle('Converter App Demo')\n",
      "        self.setMinimumWidth(300)\n",
      "\n",
      "        # QVBoxLayout manages the form and QFormLayout manages controls\n",
      "        self.layout = QVBoxLayout()\n",
      "        self.form_layout = QFormLayout()\n",
      "\n",
      "        self.units = OrderedDict((\n",
      "            ('km', 1E3), ('m', 1.0), ('cm', 1E-2), ('mm', 1E-3), ('um', 1E-6),\n",
      "            ('nm', 1E-9), ('A', 1E-10)))\n",
      "\n",
      "        # Build drop-down boxes\n",
      "        self.in_units = QComboBox(self)\n",
      "        self.in_units.addItems(list(self.units))\n",
      "        self.form_layout.addRow('&Input units:', self.in_units)\n",
      "        self.out_units = QComboBox(self)\n",
      "        self.out_units.addItems(list(self.units))\n",
      "        self.form_layout.addRow('&Output units:', self.out_units)\n",
      "\n",
      "        # box to enter value\n",
      "        self.user_val = QLineEdit(self)\n",
      "        self.user_val.setPlaceholderText(\"e.g. 11.5 or 3.45E-9\")\n",
      "        self.form_layout.addRow('&Length:', self.user_val)\n",
      "\n",
      "        # Output is blank to start\n",
      "        self.converted = QLabel('', self)\n",
      "        self.form_layout.addRow('Converted length:', self.converted)\n",
      "\n",
      "        # form added to main layout\n",
      "        self.layout.addLayout(self.form_layout)\n",
      "\n",
      "        # Create a horizontal box layout to hold the button\n",
      "        self.button_box = QHBoxLayout()\n",
      "        self.convert_button = QPushButton('&Convert!', self)\n",
      "        # 'connect' is how we link events\n",
      "        self.convert_button.clicked.connect(self.do_conversion)\n",
      "        self.button_box.addWidget(self.convert_button)\n",
      "        self.layout.addLayout(self.button_box)\n",
      "\n",
      "        # Apply layout to main window\n",
      "        self.setLayout(self.layout)\n",
      "\n",
      "    @Slot()\n",
      "    def do_conversion(self):\n",
      "        \"\"\"Calculate the converted value and show it.\"\"\"\n",
      "        try:\n",
      "            to_convert = self.user_val.text()\n",
      "            from_units = self.units[self.in_units.currentText()]\n",
      "            to_units = self.units[self.out_units.currentText()]\n",
      "            self.converted.setText(\"{} {}\".format(\n",
      "                float(to_convert)*from_units/to_units,  # Convert units here\n",
      "                self.out_units.currentText()))\n",
      "        except ValueError:\n",
      "            self.converted.setText(\"Error: {} is not a valid number\"\n",
      "                                   \"\".format(to_convert))\n",
      "\n",
      "\n",
      "if __name__ == \"__main__\":\n",
      "    qt_app = QApplication(sys.argv)\n",
      "    app = ConverterExample()\n",
      "    app.show()\n",
      "    qt_app.exec_()\n"
     ],
     "language": "python",
     "metadata": {
      "slideshow": {
       "slide_type": "slide"
      }
     },
     "outputs": [
      {
       "output_type": "stream",
       "stream": "stdout",
       "text": [
        "Overwriting pyside_convert_app.py\n"
       ]
      }
     ],
     "prompt_number": 10
    },
    {
     "cell_type": "markdown",
     "metadata": {
      "slideshow": {
       "slide_type": "slide"
      }
     },
     "source": [
      "A more complicated example shows manually adding _widgets_ to a _layout_ and using `connect` to make event handlers. You can run this one with `python pyside_convert_app.py`.\n",
      "\n",
      "![pyside convert app](files/Images/converter.png)"
     ]
    },
    {
     "cell_type": "markdown",
     "metadata": {
      "slideshow": {
       "slide_type": "slide"
      }
     },
     "source": [
      "UI design\n",
      "---------\n",
      "\n",
      "For the simple example, design of the GUI within the code was not a problem, but for larger applications mixing the code and GUI can quickly become unweildy.\n",
      "\n",
      "Separation of functional code and GUI code is a matter of preference, and there are many options for GUI design. The methods here should give you a few ideas fo some of the processes involved."
     ]
    },
    {
     "cell_type": "markdown",
     "metadata": {
      "slideshow": {
       "slide_type": "slide"
      }
     },
     "source": [
      "Qt Designer/Creator\n",
      "-------------------\n",
      "\n",
      "The many different Qt developers over the years have put some work into their UI designer which you can get from [http://qt-project.org/](http://qt-project.org/). The IDE part is designed for working with C++ so it's not so useful for us, but we can still utilise the designer portion to design our UI components.\n",
      "\n",
      "For Python we can export the UI as a `.ui` that we can stick into our code."
     ]
    },
    {
     "cell_type": "markdown",
     "metadata": {
      "slideshow": {
       "slide_type": "slide"
      }
     },
     "source": [
      "Walkthrough\n",
      "-----------\n",
      "\n",
      "+ Open Qt Creator\n",
      "    + Select File -> New File or Project...\n",
      "    + Files and Classes -> Qt -> Qt Designer Form\n",
      "    + Main Window\n",
      "    + Choose a unique name (e.g. `tom_window.ui`) and appropriate location\n",
      "    + Finish"
     ]
    },
    {
     "cell_type": "markdown",
     "metadata": {
      "slideshow": {
       "slide_type": "slide"
      }
     },
     "source": [
      "### Design mode\n",
      "\n",
      "You will get dropped into design mode. Initially there is just an empty main window. Some things that you can do here:\n",
      "\n",
      "+ Drag and drop widgets into your layout\n",
      "+ Resize widgets by dragging the corners\n",
      "+ Modify aspects of widgets\n",
      "    + right click\n",
      "    + properties view\n",
      "+ Add menu items where it says \"Type Here\" at the top\n",
      "+ Once you have some widgets you can force them in a fixed layout using one of the buttons at the top\n",
      "+ Nest different layouts and organisational containers"
     ]
    },
    {
     "cell_type": "markdown",
     "metadata": {
      "slideshow": {
       "slide_type": "slide"
      }
     },
     "source": [
      "### Make your own design\n",
      "\n",
      "Add some components to your UI. The key to a good UI is to *keep things simple*, but for testing, this can be a mess. To ensure that you can carry out the rest of the class, make sure your layout has the following:\n",
      "\n",
      "+ A lineEdit\n",
      "    + RC->change objectName to `inputValue`\n",
      "+ A listWidget with some input measurements (km, m, cm, mm, um, nm, A)\n",
      "    + RC->Edit items or Double click to start adding items\n",
      "    + Change name to `inputList`\n",
      "+ Another listWidget with output measurements, as above\n",
      "    + name `outputList`\n",
      "+ A pushButton\n",
      "    + change the name to `convertButton`\n",
      "    + Edit the text\n",
      "+ Menu items\n",
      "    + File\n",
      "        + Exit (Change shortcut in properties to Ctrl+Q)\n",
      "    + Help\n",
      "        + About Converter\n",
      "+ Anything else fun\n",
      "\n",
      "+ Save your layout as the `.ui` file.\n",
      "    + For this class it will be easier to copy the text from the edit mode and paste into a file on wooki\n"
     ]
    },
    {
     "cell_type": "markdown",
     "metadata": {
      "slideshow": {
       "slide_type": "slide"
      }
     },
     "source": [
      "### Making the code\n",
      "\n",
      "There is a template created for you already that takes care of the difficult stuff for loading `.ui` files.\n",
      "\n",
      "+ Make a unique directory for your work, e.g. `mkdir tom_gui`; `cd tom_gui`.\n",
      "+ Make a unique copy of the script `hg cp ../pyside_ui_loader.py tom_gui.py`\n",
      "+ Create your `.ui` file.\n",
      "    + Click the \"Edit\" button on the left of the Qt Creator window. Select all the text (Ctrl+A). Copy all the text (Ctrl+C).\n",
      "    + Paste text into a new file `cat > tom_gui.ui`, paste, Ctrl+D to finish. `hg add tom_gui.ui`\n",
      "+ Edit the `MainWindow` class in your new `.py` file to load your own `.ui` file.\n",
      "+ Run `python tom_gui.py`, and enjoy your new UI!\n",
      "+ `hg commit` your changes."
     ]
    },
    {
     "cell_type": "markdown",
     "metadata": {
      "slideshow": {
       "slide_type": "slide"
      }
     },
     "source": [
      "### Making it do things\n",
      "\n",
      "Your UI looks pretty but nothing happens when you click things. The base script that we use relies on the slots and signals mechnaism for communicating events. It has been set up so that you can use names to refer to different objects. Let's add a simple event:\n",
      "\n",
      "Find the lines:\n",
      "\n",
      "        # CONNECT SLOTS HERE\n",
      "        # FOR FUNCTIONALITY\n",
      "\n",
      "And replace them with:\n",
      "\n",
      "        @Slot()\n",
      "        def on_actionExit_triggered(self):\n",
      "            \"\"\"Exit the application when requested.\"\"\"\n",
      "            self.close()"
     ]
    },
    {
     "cell_type": "markdown",
     "metadata": {},
     "source": [
      "If everything went to plan, when you click on the \"Exit\" menu item, or press \"Ctrl+Q\" your application will exit. But how does it work?\n",
      "\n",
      "+ `@Slot()` says that the following function is one that expects signals.\n",
      "+ `on_` says it accepts signals.\n",
      "+ `actionExit` is the name of the item where the signal comes from.\n",
      "+ `triggered` is the type of signal to expect.\n",
      "+ The method then calls the `.close()` method of the MainWindow.\n",
      "\n",
      "`hg commit` your changes."
     ]
    },
    {
     "cell_type": "markdown",
     "metadata": {
      "slideshow": {
       "slide_type": "slide"
      }
     },
     "source": [
      "### More things\n",
      "\n",
      "Let's add another menu trigger. You can customise the message any way you like using html styling.\n",
      "\n",
      "        @Slot()\n",
      "        def on_actionAbout_converter_triggered(self):\n",
      "            \"\"\"Pop up the about dialog box.\"\"\"\n",
      "            QMessageBox.about(self, \"Tom's converter\",  # title\n",
      "                              \"<h3>Tom's unit conversion app</h3>\"\n",
      "                              \"<h4>version 0.1</h4>\"\n",
      "                              \"<p>Converts from some units to other units.</p>\"\n",
      "                              \"<p>Useful where you need to convert units.</p>\"\n",
      "                              \"<p>Copyright Tom Daff, 2014</p>\")"
     ]
    },
    {
     "cell_type": "markdown",
     "metadata": {},
     "source": [
      "When you select the \"About converter\" item from the menu, you now get a popup with some information on the application. You can add any styling that you like to the text and the message boxes can be customised a lot.\n",
      "\n",
      "`hg commit` your changes."
     ]
    },
    {
     "cell_type": "markdown",
     "metadata": {
      "slideshow": {
       "slide_type": "slide"
      }
     },
     "source": [
      "### Functionality\n",
      "\n",
      "Let's make the convert button work. `triggered` only applies for menu items; We need to know what the buttons can do:\n",
      "\n",
      "+ Right click your `convertButton` in Qt Creator and choose \"Go to slot...\"\n",
      "+ You will see a list of the different events that can be triggered by the widget:\n",
      "    + `clicked()` is the one that we want, when the button is clicked on and released;\n",
      "    + `pressed()` and `released()` trigger individually during a click and release event;\n",
      "    + `toggled()` is shown, but only applies to toggleable buttons.\n",
      "\n",
      "So our slot looks like:\n",
      "\n",
      "        @Slot()\n",
      "        def on_convertButton_clicked(self):\n",
      "            \"\"\"Do the conversion.\"\"\""
     ]
    },
    {
     "cell_type": "markdown",
     "metadata": {
      "slideshow": {
       "slide_type": "slide"
      }
     },
     "source": [
      "We need some other information too:\n",
      "\n",
      "+ Select the `inputValue` box.\n",
      "+ Look at the properties in the bottom right area:\n",
      "    + `QWidget` is general widget properties:\n",
      "        + You can add `toolTip`s or `whatsThis` texts;\n",
      "        + You can customise the appearance manually.\n",
      "    + `QLineEdit` are specific to this item:\n",
      "        + You can add a `placeholderText` to hint the user;\n",
      "        + Identify that `text` is what is contained in the box.\n",
      "\n",
      "Add to the slot:\n",
      "\n",
      "        @Slot()\n",
      "        def on_convertButton_clicked(self):\n",
      "            \"\"\"Do the conversion.\"\"\"\n",
      "            initial_value = float(self.inputValue.text())    "
     ]
    },
    {
     "cell_type": "markdown",
     "metadata": {
      "slideshow": {
       "slide_type": "slide"
      }
     },
     "source": [
      "Properties for the QListWidget show lots of information, and we can, for example set the default selected item by setting `currentRow`, but there are other ways to get information out.\n",
      "\n",
      "+ Documentation at [http://qt-project.org/doc/qt-4.8/qlistwidget.html](http://qt-project.org/doc/qt-4.8/qlistwidget.html)\n",
      "+ `currentItem()` returns a `QListWidgetItem` [http://qt-project.org/doc/qt-4.8/qlistwidgetitem.html](http://qt-project.org/doc/qt-4.8/qlistwidgetitem.html)\n",
      "+ `QListWidgetItem.text()` gives the text of the selected item.\n",
      "\n",
      "If we add a popup, the slot can do a conversion now:\n",
      "\n",
      "        @Slot()\n",
      "        def on_convertButton_clicked(self):\n",
      "            \"\"\"Do the conversion.\"\"\"\n",
      "            units = {'km': 1E3, 'm': 1.0, 'cm': 1E-2, 'mm': 1E-3, 'um': 1E-6,\n",
      "                     'nm': 1E-9, 'A': 1E-10}\n",
      "            initial_value = float(self.inputValue.text())\n",
      "            input_units = self.inputList.currentItem().text()\n",
      "            output_units = self.outputList.currentItem().text()\n",
      "            converted = initial_value*units[input_units]/units[output_units]\n",
      "            QMessageBox.information(self, \"Converted value\",\n",
      "                                    \"{} {}\".format(converted, output_units))\n",
      "    "
     ]
    },
    {
     "cell_type": "markdown",
     "metadata": {},
     "source": [
      "You should now have a simple working application! Note that errors don't crash everything, but you should probably handle them in some nice way.\n",
      "\n",
      "`hg commit` your code!"
     ]
    },
    {
     "cell_type": "markdown",
     "metadata": {
      "slideshow": {
       "slide_type": "slide"
      }
     },
     "source": [
      "### Polishing\n",
      "\n",
      "We can make the application more fluid and responsive.\n",
      "\n",
      "+ Delete the convert button -- we can make the conversion automatic!\n",
      "+ Add a new `lineEdit` and name it `outputValue`; make it read only.\n",
      "+ Add some labels and make the interface look nice.\n",
      "+ Add a `progressBar`; you can keep it named `progressBar` (just for fun...)."
     ]
    },
    {
     "cell_type": "markdown",
     "metadata": {
      "slideshow": {
       "slide_type": "slide"
      }
     },
     "source": [
      "Conversion will be triggered by several events, so make the `on_convertButton_clicked` slot into an unslotted method:\n",
      "\n",
      "        def update_result(self):\n",
      "            \"\"\"Do the conversion and put it in the box.\"\"\"\n",
      "            # units made into UNITS global\n",
      "            initial_value = float(self.inputValue.text())\n",
      "            input_units = self.inputList.currentItem().text()\n",
      "            output_units = self.outputList.currentItem().text()\n",
      "            converted = initial_value*UNITS[input_units]/UNITS[output_units]\n",
      "            self.outputValue.setText(\"{}\".format(converted))"
     ]
    },
    {
     "cell_type": "markdown",
     "metadata": {
      "slideshow": {
       "slide_type": "slide"
      }
     },
     "source": [
      "If you want to have a fun progress bar for the conversion, try something like:\n",
      "\n",
      "        def update_result(self):\n",
      "            \"\"\"Do the conversion and put it in the box.\"\"\"\n",
      "            # units made into UNITS global\n",
      "            self.progressBar.setValue(0)\n",
      "            initial_value = float(self.inputValue.text())\n",
      "            # need to `from time import sleep` at the top\n",
      "            sleep(0.1)\n",
      "            self.progressBar.setValue(25)\n",
      "            input_units = self.inputList.currentItem().text()\n",
      "            sleep(0.1)\n",
      "            self.progressBar.setValue(50)\n",
      "            output_units = self.outputList.currentItem().text()\n",
      "            sleep(0.1)\n",
      "            self.progressBar.setValue(75)\n",
      "            converted = initial_value*UNITS[input_units]/UNITS[output_units]\n",
      "            self.outputValue.setText(\"{}\".format(converted))\n",
      "            sleep(0.1)\n",
      "            self.progressBar.setValue(100)\n"
     ]
    },
    {
     "cell_type": "markdown",
     "metadata": {
      "slideshow": {
       "slide_type": "slide"
      }
     },
     "source": [
      "We need to work out all the triggers that will need an update in the results:\n",
      "\n",
      "\n",
      "        @Slot()\n",
      "        def on_inputValue_textChanged(self):\n",
      "            \"\"\"Trigger result update when the input changes.\"\"\"\n",
      "            self.update_result()\n",
      "\n",
      "        @Slot()\n",
      "        def on_inputList_itemSelectionChanged(self):\n",
      "            \"\"\"Trigger result update when the units change.\"\"\"\n",
      "            self.update_result()\n",
      "\n",
      "        @Slot()\n",
      "        def on_outputList_itemSelectionChanged(self):\n",
      "            \"\"\"Trigger result update when the units change.\"\"\"\n",
      "            self.update_result()\n",
      "\n",
      "This should give you a fully responsive conversion UI!"
     ]
    }
   ],
   "metadata": {}
  }
 ]
}