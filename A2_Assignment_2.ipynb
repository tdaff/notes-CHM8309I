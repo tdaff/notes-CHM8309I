{
 "metadata": {
  "name": "",
  "signature": "sha256:ca5f782825080bf0f031910116670c763e7ac94bf1ebb26ff0ea43ad6f81806b"
 },
 "nbformat": 3,
 "nbformat_minor": 0,
 "worksheets": [
  {
   "cells": [
    {
     "cell_type": "markdown",
     "metadata": {},
     "source": [
      "Assignment 2\n",
      "============\n",
      "\n",
      "Due on March 25th. Fill in answers in the notebook and send me a copy of the `.ipynb` file when you are done."
     ]
    },
    {
     "cell_type": "markdown",
     "metadata": {},
     "source": [
      "Design an Atom type that will be used for dynamic molecular simulation. Some things that you could implement are:\n",
      "\n",
      "+ Properties of the atom (as many as you need):\n",
      "    * Name\n",
      "    * Element\n",
      "    * Forcefiled assigned type or parameters\n",
      "    * Weight\n",
      "    * Charge\n",
      "    * Is the atom fixed?\n",
      "    * ...\n",
      "+ Position tracking\n",
      "    * Current position\n",
      "    * Historical position\n",
      "+ Atom velocity\n",
      "    * Scale velocity by a set proportion\n",
      "    * Get the effective atom temperature\n",
      "    * Set the velocity from the temperature\n",
      "+ Force experienced\n",
      "    * Methods to change the force experienced\n",
      "+ Step through time\n",
      "    * Modify the atom's internal state by propagating time by set ammouts\n",
      "    * you can use a simple integrator like $\\vec{r}_{i+1} = \\vec{r}_i + \\vec{v}\\delta{t}$\n",
      "\n",
      "Minimally your Atom should be able to move through time in a molecular dynmaics type way, but try to have as complete an implementation as possible.\n",
      "\n",
      "Design your Atom type on paper first and hand this in with the assignment.\n",
      "\n",
      "Your Atom must take advantage of the following object oriented concepts:\n",
      "\n",
      "+ Data abstraction, private members and encapsulation\n",
      "+ Well designed interface\n",
      "+ Getters and setters including `property` based attributes\n",
      "+ Inherited methods and attributes from a parent class or mixin with logical modularisation of the code\n",
      "+ Overloading of standard operators"
     ]
    },
    {
     "cell_type": "code",
     "collapsed": false,
     "input": [],
     "language": "python",
     "metadata": {},
     "outputs": []
    },
    {
     "cell_type": "markdown",
     "metadata": {},
     "source": [
      "Document your class's methods fully and write a brief user documentation for people wishing to incorporate your Atom type in their simulations."
     ]
    },
    {
     "cell_type": "code",
     "collapsed": false,
     "input": [],
     "language": "python",
     "metadata": {},
     "outputs": []
    },
    {
     "cell_type": "markdown",
     "metadata": {},
     "source": [
      "Demonstrate each of the methods and attributes of your Atom type."
     ]
    },
    {
     "cell_type": "code",
     "collapsed": false,
     "input": [],
     "language": "python",
     "metadata": {},
     "outputs": []
    }
   ],
   "metadata": {}
  }
 ]
}