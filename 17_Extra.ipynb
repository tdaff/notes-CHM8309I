{
 "metadata": {
  "celltoolbar": "Slideshow",
  "name": "",
  "signature": "sha256:1b5fdb5d6d89a9397649334c9a2fc77e4919037df4eb74e34d654e589ed3f8b6"
 },
 "nbformat": 3,
 "nbformat_minor": 0,
 "worksheets": [
  {
   "cells": [
    {
     "cell_type": "markdown",
     "metadata": {
      "slideshow": {
       "slide_type": "slide"
      }
     },
     "source": [
      "Course Resources\n",
      "================\n",
      "\n",
      "+ The course website will stay up for the time being.\n",
      "+ I am available if you have questions in the future.\n",
      "    + (email ahead if you have lots of long questions, please)"
     ]
    },
    {
     "cell_type": "markdown",
     "metadata": {
      "slideshow": {
       "slide_type": "slide"
      }
     },
     "source": [
      "Some useful scientific Python extras\n",
      "====================================\n",
      "\n",
      "Just a few notes on some modules that I have probably found useful, and may be useful for the work that you do. Most of these are very Python specific, some will have equivalents in Fortran or C, or just be bindings to the underlying compiled code, others will not. Always check a few things before including modules or libraries in your code:\n",
      "\n",
      "* Standard library modules are dependable and reliable\n",
      "    + Guaranteed to be available\n",
      "    + Follow strict guidelines and standards\n",
      "    + Tested and maintained\n",
      "    + Documented http://docs.python.org/library/index.html\n",
      "* How good is your third party module?\n",
      "    + How old is it?\n",
      "    + When was the last release?\n",
      "    + Who maintains it?\n",
      "    + How many people use it?\n",
      "    + Is it well documented?\n",
      "    + How cross platform is it?\n",
      "\n",
      "If you are confident that a module fits your needs and has a suitable level of *quality control* then it can help you with all your **DRY** compliance. The Python Package Index has 26000 packages http://pypi.python.org/pypi, many of them aren't going to be that great."
     ]
    },
    {
     "cell_type": "markdown",
     "metadata": {
      "slideshow": {
       "slide_type": "slide"
      }
     },
     "source": [
      "`re` regular expressions\n",
      "------------------------\n",
      "\n",
      "Regular expressions or **regexs** are text processing expressions. The mini language is used in many Linux tools like `perl`, `grep -e` and `sed` to match and replace text in strings respectively. Python already has efficient tools for doing things like `str.find()` and `str.replace()`, but these are limited compared to the scope of regular expressions which includes wildcards, special characters, boolean operations and much more.\n",
      "\n",
      "If you do a lot of text processing, you will need this library."
     ]
    },
    {
     "cell_type": "markdown",
     "metadata": {
      "slideshow": {
       "slide_type": "slide"
      }
     },
     "source": [
      "The language is very involved and very powerful. Some of the special characters are:\n",
      "\n",
      "* `.` any character\n",
      "* `^` start of a line\n",
      "* `$` end of a line\n",
      "* `*` 0 or more repeats of the previous expression\n",
      "* `+` 1 or more of the previous expression\n",
      "* `?` 0 or 1 of the previous expression\n",
      "* `{ }` specify a number of matches of the previous expression\n",
      "* `[ ]` a set of characters treated as one\n",
      "* `\\` escape special characters, or to insert capture groups in a substitution\n",
      "* `|` produce an *or* match with two or more expressions\n",
      "* `( )` capture the matched pattern in a group\n",
      "\n",
      "For complex expressions you might need a lot of help, http://gskinner.com/RegExr/ can be useful to interactively build expressions."
     ]
    },
    {
     "cell_type": "code",
     "collapsed": false,
     "input": [
      "text_string = \"\"\"Functional group test\n",
      "Cl  0.2  0.3 1.3\n",
      "mass = 35.453\"\"\""
     ],
     "language": "python",
     "metadata": {
      "slideshow": {
       "slide_type": "slide"
      }
     },
     "outputs": [],
     "prompt_number": 1
    },
    {
     "cell_type": "code",
     "collapsed": false,
     "input": [
      "import re\n",
      "\n",
      "# search looks for the expression in the string\n",
      "# any character followed by t followed by vowels followed by any character\n",
      "complicated = re.search(\"(.t[aeiou]*.)\", text_string)\n",
      "# MatchObject is returned if found, otherwise you get None\n",
      "if complicated:\n",
      "    print(complicated.groups())"
     ],
     "language": "python",
     "metadata": {},
     "outputs": [],
     "prompt_number": 2
    },
    {
     "cell_type": "code",
     "collapsed": false,
     "input": [
      "# findall finds all occurances as a list\n",
      "# \\d is any decimal digit\n",
      "re.findall(\"([\\d.]+)\", text_string)"
     ],
     "language": "python",
     "metadata": {
      "slideshow": {
       "slide_type": "slide"
      }
     },
     "outputs": [],
     "prompt_number": 3
    },
    {
     "cell_type": "code",
     "collapsed": false,
     "input": [
      "# sub returns a substituted string\n",
      "# capture groups in brackets and recall then like \\1\n",
      "print(re.sub(r\"(\\d+)\\.(\\d+)\", \"\\\\2,\\\\1\", text_string))\n",
      "# BE CAREFUL often need to use raw strings or\n",
      "# escaped backslashes with regexes"
     ],
     "language": "python",
     "metadata": {
      "slideshow": {
       "slide_type": "slide"
      }
     },
     "outputs": [],
     "prompt_number": 4
    },
    {
     "cell_type": "code",
     "collapsed": false,
     "input": [
      "# compiling expressions can be more convenient\n",
      "# and possibly faster (but recent expressions are\n",
      "# automatically cached anyway\n",
      "email_validator = re.compile(r\"[a-z0-9!#$%&'*+/=?^_`{|}~-]+(?:\\.[a-z0-9!#$%&'*+/=?^_`{|}~-]+)*@(?:[a-z0-9](?:[a-z0-9-]*[a-z0-9])?\\.)+[a-z0-9](?:[a-z0-9-]*[a-z0-9])?\")\n",
      "\n",
      "print(email_validator.search(\"tdaff@uottawa.ca\"))\n",
      "print(email_validator.search(\"NOT AN EMAIL ADDRESS\"))"
     ],
     "language": "python",
     "metadata": {
      "slideshow": {
       "slide_type": "slide"
      }
     },
     "outputs": [],
     "prompt_number": 5
    },
    {
     "cell_type": "markdown",
     "metadata": {
      "slideshow": {
       "slide_type": "slide"
      }
     },
     "source": [
      "`csv` for reading and writing tabulated data\n",
      "--------------------------------------------\n",
      "\n",
      "Often we exchange data in simple text based tables. `csv` helps us to read and write in a simple way."
     ]
    },
    {
     "cell_type": "code",
     "collapsed": false,
     "input": [
      "%%file elements.csv\n",
      "'atomic number','symbol','name','weight'\n",
      "1,'H','hydrogen',1.00784\n",
      "6,'C','carbon',12.0096\n",
      "7,'N','nitrogen',14.00643\n",
      "8,'O','oxygen',15.99903"
     ],
     "language": "python",
     "metadata": {},
     "outputs": [],
     "prompt_number": 6
    },
    {
     "cell_type": "code",
     "collapsed": false,
     "input": [
      "import csv\n",
      "\n",
      "my_elements = []\n",
      "with open('elements.csv', 'r') as csvfile:\n",
      "    elements = csv.DictReader(csvfile, quotechar=\"'\")\n",
      "    for row in elements:\n",
      "        my_elements.append(row)\n",
      "        print(row)"
     ],
     "language": "python",
     "metadata": {},
     "outputs": [],
     "prompt_number": 7
    },
    {
     "cell_type": "markdown",
     "metadata": {
      "slideshow": {
       "slide_type": "slide"
      }
     },
     "source": [
      "`json` for data exchange\n",
      "------------------------\n",
      "\n",
      "JavaScript Object Notation (JSON) is a simple data format, similar to a dictonary that can store and interpret data in a way that makes it easy to communicate with other codes, especially since there are JSON parsers in most langugaes."
     ]
    },
    {
     "cell_type": "code",
     "collapsed": false,
     "input": [
      "import json\n",
      "\n",
      "my_elements = [{'symbol': 'H', 'atomic number': 1, 'name': 'hydrogen', 'weight': 1.00784},\n",
      "               {'symbol': 'C', 'atomic number': 6, 'name': 'carbon', 'weight': 12.0096},\n",
      "               {'symbol': 'N', 'atomic number': 7, 'name': 'nitrogen', 'weight': 14.00643},\n",
      "               {'symbol': 'O', 'atomic number': 8, 'name': 'oxygen', 'weight': 15.99903}]\n",
      "\n",
      "# you can dump combinations of all the standard types as a portable string\n",
      "data_as_string = json.dumps(my_elements)\n",
      "data_as_string"
     ],
     "language": "python",
     "metadata": {},
     "outputs": [],
     "prompt_number": 8
    },
    {
     "cell_type": "code",
     "collapsed": false,
     "input": [
      "# read and parse the simple types; notice that it is all unicode now\n",
      "# and the numbers are back as numeric types (cf csv)\n",
      "json.loads(data_as_string)"
     ],
     "language": "python",
     "metadata": {
      "slideshow": {
       "slide_type": "slide"
      }
     },
     "outputs": [],
     "prompt_number": 9
    },
    {
     "cell_type": "markdown",
     "metadata": {
      "slideshow": {
       "slide_type": "slide"
      }
     },
     "source": [
      "`struct` for dealing with binary data\n",
      "-------------------------------------\n",
      "\n",
      "Sometimes some of your C and Fortran freinds decide to dump all their data in an 'unformatted' binary format in order to save some disk space prevent their text based friends getting to it. Fortunately, in Python there is `struct` that can convert to and from C types. If you know enough information about how your binary file/data is organised then you can extract the information that you need. More information at http://docs.python.org/2/library/struct.html"
     ]
    },
    {
     "cell_type": "code",
     "collapsed": false,
     "input": [
      "import struct\n",
      "\n",
      "# some random data stuff\n",
      "my_data = (12.3, 4.4, 3.3)\n",
      "\n",
      "# construct some kind of header that includes type and\n",
      "# number of items perhaps\n",
      "head = struct.pack('ccci', 'd', 'a', 't', len(my_data))\n",
      "# format strings describe how to pack your data\n",
      "# with standard c types of integers, floats and chars \n",
      "# of various precisions\n",
      "fmt = 'f'*len(my_data)\n",
      "data = head + struct.pack(fmt, *my_data)\n",
      "open('temp.dat', 'wb').write(data)\n",
      "data"
     ],
     "language": "python",
     "metadata": {},
     "outputs": [
      {
       "metadata": {},
       "output_type": "pyout",
       "prompt_number": 10,
       "text": [
        "'dat\\x00\\x03\\x00\\x00\\x00\\xcd\\xccDA\\xcd\\xcc\\x8c@33S@'"
       ]
      }
     ],
     "prompt_number": 10
    },
    {
     "cell_type": "code",
     "collapsed": false,
     "input": [
      "# reading is a little fussier\n",
      "data = None\n",
      "\n",
      "with open('temp.dat', 'rb') as data_file:\n",
      "    # 1 byte per char, 4 bytes per int, \n",
      "    # but padded so calculate the size\n",
      "    # then read in as much data as we need\n",
      "    head_fmt = ('ccci')\n",
      "    head_size = struct.calcsize(head_fmt)\n",
      "    head = data_file.read(head_size)\n",
      "    head = struct.unpack(head_fmt, head)\n",
      "    if head[:3] == ('d', 'a', 't'):\n",
      "        # use the header data to work out\n",
      "        # what is in out file\n",
      "        number_of_items = head[-1]\n",
      "        data_fmt = 'f'*number_of_items\n",
      "        data_size = struct.calcsize(data_fmt)\n",
      "        data = data_file.read(data_size)\n",
      "        data = struct.unpack(data_fmt, data)\n",
      "\n",
      "# note how precision is lost going from a Python\n",
      "# double precision through a single precision C float\n",
      "data"
     ],
     "language": "python",
     "metadata": {
      "slideshow": {
       "slide_type": "slide"
      }
     },
     "outputs": [
      {
       "metadata": {},
       "output_type": "pyout",
       "prompt_number": 11,
       "text": [
        "(12.300000190734863, 4.400000095367432, 3.299999952316284)"
       ]
      }
     ],
     "prompt_number": 11
    },
    {
     "cell_type": "markdown",
     "metadata": {
      "slideshow": {
       "slide_type": "slide"
      }
     },
     "source": [
      "Third party libraries\n",
      "====================="
     ]
    },
    {
     "cell_type": "markdown",
     "metadata": {
      "slideshow": {
       "slide_type": "slide"
      }
     },
     "source": [
      "`sympy` symbolic maths\n",
      "----------------------\n",
      "\n",
      "If you like to do symbolic maths then `sympy` can make things very easy for you in Python. In science we often deal with equations and transcribing those to computational implementations can often bring errors, `sympy` offers an abstraction layer to transcribe equations directly and manipulate them."
     ]
    },
    {
     "cell_type": "code",
     "collapsed": false,
     "input": [
      "from sympy import Symbol, symbols, apart, diff, sin, solve\n",
      "# this IPython magic makes things look better in the notebook\n",
      "from sympy import init_printing; init_printing()\n",
      "\n",
      "# have to define what we want to use as SymPy symbols\n",
      "x, y, z, a, b, c = symbols('x y z a b c')\n",
      "r, sigma, epsilon = Symbol('r'), Symbol('\\sigma'), Symbol('\\epsilon')"
     ],
     "language": "python",
     "metadata": {
      "slideshow": {
       "slide_type": "slide"
      }
     },
     "outputs": [],
     "prompt_number": 12
    },
    {
     "cell_type": "markdown",
     "metadata": {
      "slideshow": {
       "slide_type": "slide"
      }
     },
     "source": [
      "Performing mathematics between SymPy objects works and the equations can be manipulated in a number of ways."
     ]
    },
    {
     "cell_type": "code",
     "collapsed": false,
     "input": [
      "((x - 1)*(x**2 - 1))/((x + 2)*(x + 3))"
     ],
     "language": "python",
     "metadata": {},
     "outputs": [
      {
       "latex": [
        "$$\\frac{\\left(x - 1\\right) \\left(x^{2} - 1\\right)}{\\left(x + 2\\right) \\left(x + 3\\right)}$$"
       ],
       "metadata": {},
       "output_type": "pyout",
       "png": "[encoded data removed]",
       "prompt_number": 13,
       "text": [
        "        \u239b 2    \u239e\n",
        "(x - 1)\u22c5\u239dx  - 1\u23a0\n",
        "\u2500\u2500\u2500\u2500\u2500\u2500\u2500\u2500\u2500\u2500\u2500\u2500\u2500\u2500\u2500\u2500\n",
        "(x + 2)\u22c5(x + 3) "
       ]
      }
     ],
     "prompt_number": 13
    },
    {
     "cell_type": "code",
     "collapsed": false,
     "input": [
      "apart(((x - 1)*(x**2 - 1))/((x + 2)*(x + 3)))"
     ],
     "language": "python",
     "metadata": {},
     "outputs": [
      {
       "latex": [
        "$$x - 6 + \\frac{32}{x + 3} - \\frac{9}{x + 2}$$"
       ],
       "metadata": {},
       "output_type": "pyout",
       "png": "[encoded data removed]",
       "prompt_number": 14,
       "text": [
        "          32      9  \n",
        "x - 6 + \u2500\u2500\u2500\u2500\u2500 - \u2500\u2500\u2500\u2500\u2500\n",
        "        x + 3   x + 2"
       ]
      }
     ],
     "prompt_number": 14
    },
    {
     "cell_type": "code",
     "collapsed": false,
     "input": [
      "diff(sin(x)/x, x)"
     ],
     "language": "python",
     "metadata": {
      "slideshow": {
       "slide_type": "slide"
      }
     },
     "outputs": [
      {
       "latex": [
        "$$\\frac{1}{x} \\cos{\\left (x \\right )} - \\frac{1}{x^{2}} \\sin{\\left (x \\right )}$$"
       ],
       "metadata": {},
       "output_type": "pyout",
       "png": "[encoded data removed]",
       "prompt_number": 15,
       "text": [
        "cos(x)   sin(x)\n",
        "\u2500\u2500\u2500\u2500\u2500\u2500 - \u2500\u2500\u2500\u2500\u2500\u2500\n",
        "  x         2  \n",
        "           x   "
       ]
      }
     ],
     "prompt_number": 15
    },
    {
     "cell_type": "code",
     "collapsed": false,
     "input": [
      "((x - y**2)/(x + y)).series(x, 0, 4)"
     ],
     "language": "python",
     "metadata": {
      "slideshow": {
       "slide_type": "slide"
      }
     },
     "outputs": [
      {
       "latex": [
        "$$- y + x \\left(1 + \\frac{1}{y}\\right) + x^{2} \\left(- \\frac{1}{y} - \\frac{1}{y^{2}}\\right) + x^{3} \\left(\\frac{1}{y^{2}} + \\frac{1}{y^{3}}\\right) + \\mathcal{O}\\left(x^{4}\\right)$$"
       ],
       "metadata": {},
       "output_type": "pyout",
       "png": "[encoded data removed]",
       "prompt_number": 16,
       "text": [
        "       \u239b    1\u239e    2 \u239b  1   1 \u239e    3 \u239b1    1 \u239e    \u239b 4\u239e\n",
        "-y + x\u22c5\u239c1 + \u2500\u239f + x \u22c5\u239c- \u2500 - \u2500\u2500\u239f + x \u22c5\u239c\u2500\u2500 + \u2500\u2500\u239f + O\u239dx \u23a0\n",
        "       \u239d    y\u23a0      \u239c  y    2\u239f      \u239c 2    3\u239f        \n",
        "                    \u239d      y \u23a0      \u239dy    y \u23a0        "
       ]
      }
     ],
     "prompt_number": 16
    },
    {
     "cell_type": "code",
     "collapsed": false,
     "input": [
      "solve(a*x**2 + b*x +c, x)"
     ],
     "language": "python",
     "metadata": {
      "slideshow": {
       "slide_type": "slide"
      }
     },
     "outputs": [
      {
       "latex": [
        "$$\\begin{bmatrix}\\frac{1}{2 a} \\left(- b + \\sqrt{- 4 a c + b^{2}}\\right), & - \\frac{1}{2 a} \\left(b + \\sqrt{- 4 a c + b^{2}}\\right)\\end{bmatrix}$$"
       ],
       "metadata": {},
       "output_type": "pyout",
       "png": "[encoded data removed]",
       "prompt_number": 17,
       "text": [
        "\u23a1        _____________   \u239b       _____________\u239e \u23a4\n",
        "\u23a2       \u2571           2    \u239c      \u2571           2 \u239f \u23a5\n",
        "\u23a2-b + \u2572\u2571  -4\u22c5a\u22c5c + b    -\u239db + \u2572\u2571  -4\u22c5a\u22c5c + b  \u23a0 \u23a5\n",
        "\u23a2\u2500\u2500\u2500\u2500\u2500\u2500\u2500\u2500\u2500\u2500\u2500\u2500\u2500\u2500\u2500\u2500\u2500\u2500\u2500\u2500\u2500, \u2500\u2500\u2500\u2500\u2500\u2500\u2500\u2500\u2500\u2500\u2500\u2500\u2500\u2500\u2500\u2500\u2500\u2500\u2500\u2500\u2500\u2500\u2500\u2500\u23a5\n",
        "\u23a3         2\u22c5a                     2\u22c5a           \u23a6"
       ]
      }
     ],
     "prompt_number": 17
    },
    {
     "cell_type": "code",
     "collapsed": false,
     "input": [
      "LJ = 4*epsilon*((sigma/r)**12 - (sigma/r)**6)\n",
      "LJ"
     ],
     "language": "python",
     "metadata": {
      "slideshow": {
       "slide_type": "slide"
      }
     },
     "outputs": [
      {
       "latex": [
        "$$4 \\epsilon \\left(\\frac{\\sigma^{12}}{r^{12}} - \\frac{\\sigma^{6}}{r^{6}}\\right)$$"
       ],
       "metadata": {},
       "output_type": "pyout",
       "png": "[encoded data removed]",
       "prompt_number": 18,
       "text": [
        "           \u239b      12         6\u239e\n",
        "           \u239c\\sigma     \\sigma \u239f\n",
        "4\u22c5\\epsilon\u22c5\u239c\u2500\u2500\u2500\u2500\u2500\u2500\u2500\u2500 - \u2500\u2500\u2500\u2500\u2500\u2500\u2500\u239f\n",
        "           \u239c   12          6  \u239f\n",
        "           \u239d  r           r   \u23a0"
       ]
      }
     ],
     "prompt_number": 18
    },
    {
     "cell_type": "code",
     "collapsed": false,
     "input": [
      "element = LJ.subs(sigma, 2.45).subs(epsilon, 0.15)\n",
      "element"
     ],
     "language": "python",
     "metadata": {},
     "outputs": [
      {
       "latex": [
        "$$- \\frac{129.762067509375}{r^{6}} + \\frac{28063.6569405127}{r^{12}}$$"
       ],
       "metadata": {},
       "output_type": "pyout",
       "png": "[encoded data removed]",
       "prompt_number": 19,
       "text": [
        "  129.762067509375   28063.6569405127\n",
        "- \u2500\u2500\u2500\u2500\u2500\u2500\u2500\u2500\u2500\u2500\u2500\u2500\u2500\u2500\u2500\u2500 + \u2500\u2500\u2500\u2500\u2500\u2500\u2500\u2500\u2500\u2500\u2500\u2500\u2500\u2500\u2500\u2500\n",
        "          6                 12       \n",
        "         r                 r         "
       ]
      }
     ],
     "prompt_number": 19
    },
    {
     "cell_type": "code",
     "collapsed": false,
     "input": [
      "element.subs(r, 2.5)"
     ],
     "language": "python",
     "metadata": {},
     "outputs": [
      {
       "latex": [
        "$$-0.0606753942775197$$"
       ],
       "metadata": {},
       "output_type": "pyout",
       "png": "[encoded data removed]",
       "prompt_number": 20,
       "text": [
        "-0.0606753942775197"
       ]
      }
     ],
     "prompt_number": 20
    },
    {
     "cell_type": "markdown",
     "metadata": {
      "slideshow": {
       "slide_type": "slide"
      }
     },
     "source": [
      "Notice the last box gives a SymPy number not a Python float. SymPy can actually deal with numbers of any precision unlike Python, which is limited to about 15 decimal places.\n",
      "\n",
      "The full documentation of the many things you can do is located at http://docs.sympy.org/"
     ]
    },
    {
     "cell_type": "markdown",
     "metadata": {
      "slideshow": {
       "slide_type": "slide"
      }
     },
     "source": [
      "`matplotlib` figures and data\n",
      "-----------------------------\n",
      "\n",
      "The `matplotlib` module attempts to bring NumPy SciPy to Matlab levels with publication quality figures from your data. The `pyplot` module is an easy to use interface to all the functionality that can easily be supplied with data from NumPy datatypes. By convention we import it as `plt`. This `plt` object keeps track of latest plot and applies matplotlib plotting functions to it.\n",
      "\n",
      "In the IPython notebooks we can `%matplotlib inline` to get figures inside the notebooks. Running as a script or in an interactive interpreter will ususally open the plot in a GUI window where you can pan and scan and save figures."
     ]
    },
    {
     "cell_type": "code",
     "collapsed": false,
     "input": [
      "import matplotlib.pyplot as plt\n",
      "import numpy as np\n",
      "%matplotlib inline"
     ],
     "language": "python",
     "metadata": {
      "slideshow": {
       "slide_type": "slide"
      }
     },
     "outputs": [],
     "prompt_number": 21
    },
    {
     "cell_type": "code",
     "collapsed": false,
     "input": [
      "# use numpy to generate data, but lists work too\n",
      "x = np.linspace(0, 2*np.pi, 360)\n",
      "# plot gives us a nice line graph\n",
      "# of y vs x\n",
      "plt.plot(x, np.sin(x), label='$cos$')\n",
      "# Include multiple plots\n",
      "plt.plot(x, np.cos(x), label='$sin$')\n",
      "# Add figure labels\n",
      "plt.ylabel('axis title')\n",
      "# Add random text with LaTeX maths within $$\n",
      "plt.text(3.14, 0, r'... Going over to $2\\pi$...', color='red')\n",
      "# legend if things are labelled\n",
      "plt.legend()\n",
      "plt.show()\n",
      "# Make a file, high dpi is better quality\n",
      "plt.savefig(\"myfig.png\", dpi=300, transparent=True)"
     ],
     "language": "python",
     "metadata": {
      "slideshow": {
       "slide_type": "slide"
      }
     },
     "outputs": [
      {
       "metadata": {},
       "output_type": "display_data",
       "png": "[encoded data removed]",
       "text": [
        "<matplotlib.figure.Figure at 0x53330d0>"
       ]
      },
      {
       "metadata": {},
       "output_type": "display_data",
       "text": [
        "<matplotlib.figure.Figure at 0x5374950>"
       ]
      }
     ],
     "prompt_number": 22
    },
    {
     "cell_type": "code",
     "collapsed": false,
     "input": [
      "# many functions deal with plotting gridded data\n",
      "x = np.random.randn(10000)\n",
      "y = np.random.rayleigh(size=10000) \n",
      "\n",
      "# hexbins is like a 2d histogram of the data\n",
      "# .hist is available for 1d data\n",
      "plt.hexbin(x, y)\n",
      "\n",
      "plt.title('Some random distributions')\n",
      "plt.show()"
     ],
     "language": "python",
     "metadata": {
      "slideshow": {
       "slide_type": "slide"
      }
     },
     "outputs": [
      {
       "metadata": {},
       "output_type": "display_data",
       "png": "[encoded data removed]",
       "text": [
        "<matplotlib.figure.Figure at 0x532eb50>"
       ]
      }
     ],
     "prompt_number": 23
    },
    {
     "cell_type": "code",
     "collapsed": false,
     "input": [
      "from mpl_toolkits.mplot3d import axes3d\n",
      "# colourmaps make things look better\n",
      "# sorry, 'colormaps'\n",
      "from matplotlib import cm\n",
      "\n",
      "fig = plt.figure()\n",
      "ax = fig.gca(projection='3d')\n",
      "X, Y, Z = axes3d.get_test_data(0.05)\n",
      "ax.plot_surface(X, Y, Z, rstride=4, cstride=4, alpha=0.3)\n",
      "cset = ax.contourf(X, Y, Z, zdir='z', offset=-100, cmap=cm.coolwarm)\n",
      "cset = ax.contourf(X, Y, Z, zdir='x', offset=-40, cmap=cm.bone)\n",
      "cset = ax.contourf(X, Y, Z, zdir='y', offset=40, cmap=cm.spectral)\n",
      "\n",
      "ax.set_xlim(-40, 40)\n",
      "ax.set_ylim(-40, 40)\n",
      "ax.set_zlim(-100, 100)\n",
      "\n",
      "plt.show()"
     ],
     "language": "python",
     "metadata": {
      "slideshow": {
       "slide_type": "slide"
      }
     },
     "outputs": [
      {
       "metadata": {},
       "output_type": "display_data",
       "png": "[encoded data removed]",
       "text": [
        "<matplotlib.figure.Figure at 0x534f310>"
       ]
      }
     ],
     "prompt_number": 24
    },
    {
     "cell_type": "markdown",
     "metadata": {
      "slideshow": {
       "slide_type": "slide"
      }
     },
     "source": [
      "Obviously each situation is different so take a look a the gallery and take out what you need to make the perfect figure for your work: http://matplotlib.org/gallery.html"
     ]
    },
    {
     "cell_type": "markdown",
     "metadata": {
      "slideshow": {
       "slide_type": "slide"
      }
     },
     "source": [
      "`mayavi` and `vtk` for 3d plotting\n",
      "----------------------------------\n",
      "\n",
      "The `mayavi` package implements an analogous for interactive 3d plotting:\n",
      "\n",
      "    # Create the data.\n",
      "    from numpy import pi, sin, cos, mgrid\n",
      "    dphi, dtheta = pi/250.0, pi/250.0\n",
      "    [phi,theta] = mgrid[0:pi+dphi*1.5:dphi,0:2*pi+dtheta*1.5:dtheta]\n",
      "    m0 = 4; m1 = 3; m2 = 2; m3 = 3; m4 = 6; m5 = 2; m6 = 6; m7 = 4;\n",
      "    r = sin(m0*phi)**m1 + cos(m2*phi)**m3 + sin(m4*theta)**m5 + cos(m6*theta)**m7\n",
      "    x = r*sin(phi)*cos(theta)\n",
      "    y = r*cos(phi)\n",
      "    z = r*sin(phi)*sin(theta)\n",
      "    \n",
      "    # View it.\n",
      "    from mayavi import mlab\n",
      "    s = mlab.mesh(x, y, z)\n",
      "    mlab.show()\n",
      "\n",
      "<img src=\"http://docs.enthought.com/mayavi/mayavi/_images/mlab_surf_example.jpg\" width=30%><img src=\"http://docs.enthought.com/mayavi/mayavi/_images/volumetric_contour3d.jpg\" width=30%>\n",
      "\n",
      "All the docs can be found at: http://docs.enthought.com/mayavi/mayavi/mlab.html\n",
      "\n",
      "With some fiddling, Gaussian `.cube` files actually work quite well with the numpy `.fromfile()` or `.fromstring()` to give you 3d grid data that you can plot in Mayavi. http://docs.enthought.com/mayavi/mayavi/auto/example_chemistry.html"
     ]
    },
    {
     "cell_type": "markdown",
     "metadata": {
      "slideshow": {
       "slide_type": "slide"
      }
     },
     "source": [
      "`sqlalchemy` database ORM\n",
      "-------------------------\n",
      "\n",
      "Python has many database interfaces. The `sqlalchemy` module implements an **object relational mapping** so that you can interact with Python objects which transparently work with different types of database in the background. The common ones are MySQL and PostgresSQL for databases on a server, and Sqlite for a database stored in a file. The definition of the **schema** is implied through class definitions, and the objects behave like Python objects."
     ]
    },
    {
     "cell_type": "code",
     "collapsed": false,
     "input": [
      "from sqlalchemy import create_engine, Column, Integer, String\n",
      "from sqlalchemy.orm import sessionmaker\n",
      "from sqlalchemy.ext.declarative import declarative_base\n",
      "\n",
      "Base = declarative_base()\n",
      "\n",
      "class FunctionalGroup(Base):\n",
      "    \"\"\"SQLAlchemy model for FunctionalGroups\"\"\"\n",
      "    # The schema is defined through the class\n",
      "    __tablename__ = 'functional_groups'\n",
      "\n",
      "    # A primary id key will auto-increment\n",
      "    id = Column(Integer, primary_key=True)\n",
      "    name = Column(String)\n",
      "    formula = Column(String)\n",
      "\n",
      "    def __init__(self, name, formula):\n",
      "        # can also do anything a class can do\n",
      "        self.name = name\n",
      "        self.formula = formula\n",
      "\n",
      "    def __repr__(self):\n",
      "        return \"<FunctionalGroup('{0}', '{1}')>\".format(self.name, self.formula)\n",
      "\n",
      "# The engine interacts with our database\n",
      "# here an sqlite file; you can echo to see \n",
      "# SQL commands that are sent\n",
      "engine = create_engine('sqlite:///test.db', echo=False)\n",
      "# This will automatically create the tables \n",
      "# with our schema from the subclasses of Base\n",
      "Base.metadata.create_all(engine)\n",
      "\n",
      "# Use our class like any other object\n",
      "amine = FunctionalGroup('amine', 'NH2')\n",
      "nitro = FunctionalGroup('nitro', 'NO2')\n",
      "chloro = FunctionalGroup('chloro', 'Cl')\n",
      "\n",
      "# The session is how we transact with the db\n",
      "Session = sessionmaker(bind=engine)\n",
      "session = Session()\n",
      "\n",
      "# All changes need to be committed to affect\n",
      "# the database\n",
      "session.add(amine)\n",
      "session.add_all([nitro, chloro])\n",
      "session.commit()"
     ],
     "language": "python",
     "metadata": {
      "slideshow": {
       "slide_type": "slide"
      }
     },
     "outputs": [],
     "prompt_number": 25
    },
    {
     "cell_type": "code",
     "collapsed": false,
     "input": [
      "import subprocess\n",
      "# Just check what has been written to our database\n",
      "print(subprocess.check_output(['sqlite3', 'test.db', 'select * from functional_groups']))"
     ],
     "language": "python",
     "metadata": {
      "slideshow": {
       "slide_type": "slide"
      }
     },
     "outputs": [
      {
       "output_type": "stream",
       "stream": "stdout",
       "text": [
        "1|amine|NH2\n",
        "2|nitro|NO2\n",
        "3|chloro|Cl\n",
        "\n"
       ]
      }
     ],
     "prompt_number": 26
    },
    {
     "cell_type": "code",
     "collapsed": false,
     "input": [
      "# object interface to querying a database or\n",
      "# can use bare SQL statements\n",
      "my_query = session.query(FunctionalGroup).filter(FunctionalGroup.formula.like('N%2'))"
     ],
     "language": "python",
     "metadata": {
      "slideshow": {
       "slide_type": "slide"
      }
     },
     "outputs": [],
     "prompt_number": 27
    },
    {
     "cell_type": "code",
     "collapsed": false,
     "input": [
      "# Get returned the objects we put in\n",
      "my_query.first()"
     ],
     "language": "python",
     "metadata": {},
     "outputs": [
      {
       "metadata": {},
       "output_type": "pyout",
       "prompt_number": 28,
       "text": [
        "<FunctionalGroup('amine', 'NH2')>"
       ]
      }
     ],
     "prompt_number": 28
    },
    {
     "cell_type": "markdown",
     "metadata": {},
     "source": [
      "For even easier, schema free object database mapping there are NoSQL databases like MongoDB that stores data as serialised json."
     ]
    },
    {
     "cell_type": "markdown",
     "metadata": {
      "slideshow": {
       "slide_type": "slide"
      }
     },
     "source": [
      "`pandas` data processing\n",
      "------------------------\n",
      "\n",
      "Pandas is a package for dealing with large amounts of data to *process* and deal with missing data, *group* and index with labels, *insert*, *delete*, *convert* between csv, HDF5 and others, *merge* and *join* and many other things. It claims to be a replacement for the data processing capabilities of R. Take a look at: http://pandas.pydata.org/pandas-docs/stable/"
     ]
    },
    {
     "cell_type": "markdown",
     "metadata": {
      "slideshow": {
       "slide_type": "slide"
      }
     },
     "source": [
      "`pybel` OpenBabel bindings\n",
      "--------------------------\n",
      "\n",
      "OpenBabel is a package for interconversion of many chemical file formats. Through an object oriented implementation in C++ it also takes care of bond perception, smiles pattern matching and a number of chemoinformatic functions. It also comes with automatically generated SWIG Python bindings as `openbabel` and a convenience module called `pybel` that may be of use to the computational chemist."
     ]
    },
    {
     "cell_type": "code",
     "collapsed": false,
     "input": [
      "import sys\n",
      "import pybel"
     ],
     "language": "python",
     "metadata": {
      "slideshow": {
       "slide_type": "slide"
      }
     },
     "outputs": [],
     "prompt_number": 29
    },
    {
     "cell_type": "code",
     "collapsed": false,
     "input": [
      "# This lets us see the molecules in our notebooks\n",
      "# http://baoilleach.blogspot.ca/2012/03/molecular-eye-candy-for-ipython.html\n",
      "pybel.Molecule._repr_png_ = lambda x: x.write(\"_png2\")"
     ],
     "language": "python",
     "metadata": {},
     "outputs": [],
     "prompt_number": 30
    },
    {
     "cell_type": "code",
     "collapsed": false,
     "input": [
      "# use pybel.readfile() to read from a massive\n",
      "# range of different formats\n",
      "loratadine = pybel.readstring(\"smi\", \"O=C(OCC)N4CC/C(=C2/c1ccc(Cl)cc1CCc3cccnc23)CC4\")\n",
      "loratadine"
     ],
     "language": "python",
     "metadata": {
      "slideshow": {
       "slide_type": "slide"
      }
     },
     "outputs": [
      {
       "metadata": {},
       "output_type": "pyout",
       "png": "[encoded data removed]",
       "prompt_number": 31,
       "text": [
        "<pybel.Molecule at 0x636ee50>"
       ]
      }
     ],
     "prompt_number": 31
    },
    {
     "cell_type": "code",
     "collapsed": false,
     "input": [
      "# lots of magic here as it does some MM\n",
      "# optimisation; don't need this if reading\n",
      "# from a 3d file format\n",
      "loratadine.make3D()"
     ],
     "language": "python",
     "metadata": {
      "slideshow": {
       "slide_type": "slide"
      }
     },
     "outputs": [],
     "prompt_number": 32
    },
    {
     "cell_type": "code",
     "collapsed": false,
     "input": [
      "# object attribute interface to\n",
      "# molecules and atoms\n",
      "print(loratadine.formula)\n",
      "print(loratadine.molwt)\n",
      "print(loratadine.atoms[0])\n",
      "print(loratadine.atoms[12].type)"
     ],
     "language": "python",
     "metadata": {},
     "outputs": [
      {
       "output_type": "stream",
       "stream": "stdout",
       "text": [
        "C22H23ClN2O2\n",
        "382.88322\n",
        "Atom: 8 (1.08 0.07 -0.21)\n",
        "Car\n"
       ]
      }
     ],
     "prompt_number": 33
    },
    {
     "cell_type": "code",
     "collapsed": false,
     "input": [
      "import openbabel as ob\n",
      "aromatics = []\n",
      "# For things not in pybel we have to delve into\n",
      "# the C++ bindings directly\n",
      "for bond in ob.OBMolBondIter(loratadine.OBMol):\n",
      "    # many properties are automatically percieved\n",
      "    if bond.IsAromatic():\n",
      "        aromatics.append(\n",
      "            (bond.GetBeginAtomIdx(), \n",
      "             bond.GetEndAtomIdx(),\n",
      "             bond.GetLength()))\n",
      "print(aromatics)"
     ],
     "language": "python",
     "metadata": {
      "slideshow": {
       "slide_type": "slide"
      }
     },
     "outputs": [
      {
       "output_type": "stream",
       "stream": "stdout",
       "text": [
        "[(11, 12, 1.4010360952825944), (12, 13, 1.3950656529214045), (13, 14, 1.3931302292846939), (14, 16, 1.3918140108456536), (16, 17, 1.3997025648706087), (11, 17, 1.4040830694401605), (20, 21, 1.4063220000112617), (21, 22, 1.3838341895231348), (22, 23, 1.3781011799821918), (23, 24, 1.3517277763571511), (24, 25, 1.361977138027829), (20, 25, 1.407118138680799)]\n"
       ]
      }
     ],
     "prompt_number": 34
    },
    {
     "cell_type": "markdown",
     "metadata": {
      "slideshow": {
       "slide_type": "slide"
      }
     },
     "source": [
      "Be careful as I have known OpenBabel to crash without errors which makes it very hard to debug. It also missies some useful features like periodic boundary conditions, but it is certainly very useful for many applications that you may encounter."
     ]
    },
    {
     "cell_type": "markdown",
     "metadata": {
      "slideshow": {
       "slide_type": "slide"
      }
     },
     "source": [
      "Modelling toolkits\n",
      "------------------\n",
      "\n",
      "A number of molecular modelling toolkits offer Python bindings or are built around a Python interface. Some of the common ones are:"
     ]
    },
    {
     "cell_type": "markdown",
     "metadata": {
      "slideshow": {
       "slide_type": "slide"
      }
     },
     "source": [
      "MMTK -- The Molecular Modelling toolkit: http://dirac.cnrs-orleans.fr/MMTK/ offers an object oriented interface to doing dynamics or minimisations with a number of differt force field types. \n",
      "\n",
      "    from MMTK import *\n",
      "    from MMTK.ForceFields import Amber99ForceField\n",
      "    universe = InfiniteUniverse(Amber99ForceField())\n",
      "    universe.addObject(Molecule(\u2019water\u2019, position=Vector(0., 0., 0.)))\n",
      "    universe.addObject(Molecule(\u2019water\u2019, position=Vector(0.5, 0., 0.)))\n",
      "    print universe.energy()\n",
      "    from MMTK.Minimization import ConjugateGradientMinimizer\n",
      "    from MMTK.Trajectory import StandardLogOutput\n",
      "    minimizer = ConjugateGradientMinimizer(universe,\n",
      "    actions=[StandardLogOutput(1)])\n",
      "    minimizer(convergence = 1.e-4, steps = 100)"
     ]
    },
    {
     "cell_type": "markdown",
     "metadata": {
      "slideshow": {
       "slide_type": "slide"
      }
     },
     "source": [
      "ASE -- The Atomic Simulation Environment https://wiki.fysik.dtu.dk/ase/ is a set of tools designed to manipulate atoms and simulations and interface with an number of different `calculators` (mostly electronic structure) in a black box manner:\n",
      "\n",
      "    from ase import Atoms\n",
      "    from ase.visualize import view\n",
      "    from ase.calculators.emt import EMT\n",
      "    from ase.constraints import FixAtoms\n",
      "    from ase.optimize import QuasiNewton\n",
      "    from ase.lattice.surface import fcc111,add_adsorbate\n",
      "    \n",
      "    h = 1.85\n",
      "    d = 1.10\n",
      "    \n",
      "    slab = fcc111('Cu', size=(4,4,2), vacuum=10.0)\n",
      "    \n",
      "    slab.set_calculator(EMT())\n",
      "    e_slab = slab.get_potential_energy()\n",
      "    \n",
      "    molecule = Atoms('2N', positions=[(0., 0., 0.), (0., 0., d)])\n",
      "    molecule.set_calculator(EMT())\n",
      "    e_N2 = molecule.get_potential_energy()\n",
      "    \n",
      "    add_adsorbate(slab, molecule, h, 'ontop')\n",
      "    constraint = FixAtoms(mask=[a.symbol != 'N' for a in slab])\n",
      "    slab.set_constraint(constraint)\n",
      "    dyn = QuasiNewton(slab, trajectory='N2Cu.traj')\n",
      "    dyn.run(fmax=0.05)\n",
      "    \n",
      "    print 'Adsorption energy:', e_slab + e_N2 - slab.get_potential_energy()\n",
      "    \n",
      "    #view(slab)"
     ]
    },
    {
     "cell_type": "markdown",
     "metadata": {
      "slideshow": {
       "slide_type": "slide"
      }
     },
     "source": [
      "OpenMM -- https://simtk.org/home/openmm is another toolkit that aims to be extremely flexible as a standalone program or a library with many customisations options. It also has optimised GPU code for fast simulations.\n",
      "    \n",
      "    from simtk.openmm.app import *\n",
      "    from simtk.openmm import *\n",
      "    from simtk.unit import *\n",
      "    from sys import stdout\n",
      "    \n",
      "    prmtop = AmberPrmtopFile('input.prmtop')\n",
      "    inpcrd = AmberInpcrdFile('input.inpcrd')\n",
      "    system = prmtop.createSystem(nonbondedMethod=PME, nonbondedCutoff=1*nanometer, constraints=HBonds)\n",
      "    integrator = LangevinIntegrator(300*kelvin, 1/picosecond, 0.002*picoseconds)\n",
      "    simulation = Simulation(prmtop.topology, system, integrator)\n",
      "    simulation.context.setPositions(inpcrd.positions)\n",
      "    simulation.minimizeEnergy()\n",
      "    simulation.reporters.append(PDBReporter('output.pdb', 1000))\n",
      "    simulation.reporters.append(StateDataReporter(stdout, 1000, step=True, potentialEnergy=True, temperature=True))\n",
      "    simulation.step(10000)"
     ]
    },
    {
     "cell_type": "markdown",
     "metadata": {
      "slideshow": {
       "slide_type": "slide"
      }
     },
     "source": [
      "`jinja2`, `flask` and `django` web programming\n",
      "----------------------------------------------\n",
      "\n",
      "Python is making some headway as a web language. For a complete web framework `django` will probably do everything you need in terms of taking care of your back end database and managing all your *views* on the front end. The offical tutorial needs to be done twice to really understand what is going on https://docs.djangoproject.com/en/1.4/intro/tutorial01/ and everyone has their own opinion about it (http://www.jeffknupp.com/blog/2012/02/09/starting-a-django-project-the-right-way/)\n",
      "\n",
      "For a more lightweight solution you can look at something like `flask` http://flask.pocoo.org/docs/ which integrates with the `jinja2` **templating engine** http://jinja.pocoo.org/docs/. The templating engines in both these frameworks are similiar and make it easy to inject your data into HTML:\n",
      "\n",
      "    <title>{% block title %}{% endblock %}</title>\n",
      "    <ul>\n",
      "    {% for user in users %}\n",
      "      <li><a href=\"{{ user.url }}\">{{ user.username }}</a></li>\n",
      "    {% endfor %}\n",
      "    </ul>\n",
      "\n"
     ]
    }
   ],
   "metadata": {}
  }
 ]
}