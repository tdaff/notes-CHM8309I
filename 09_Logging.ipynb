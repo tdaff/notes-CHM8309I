{
 "metadata": {
  "celltoolbar": "Slideshow",
  "name": "",
  "signature": "sha256:d0efd74bc02ca262fc4ec1441dbabf93881d5d9b4393487b0e7c7402eedb5ae3"
 },
 "nbformat": 3,
 "nbformat_minor": 0,
 "worksheets": [
  {
   "cells": [
    {
     "cell_type": "markdown",
     "metadata": {
      "slideshow": {
       "slide_type": "slide"
      }
     },
     "source": [
      "Logging\n",
      "======="
     ]
    },
    {
     "cell_type": "markdown",
     "metadata": {
      "slideshow": {
       "slide_type": "slide"
      }
     },
     "source": [
      "The `logging` module helps you completely configure your output and debugging in a unified may. It takes a bit of effort to master but works well with huge projects in very useful ways."
     ]
    },
    {
     "cell_type": "markdown",
     "metadata": {
      "slideshow": {
       "slide_type": "slide"
      }
     },
     "source": [
      "Configuration\n",
      "-------------\n",
      "\n",
      "The easy configuration of `logging` is designed to be done once with defaults already set. "
     ]
    },
    {
     "cell_type": "code",
     "collapsed": false,
     "input": [
      "import logging\n",
      "\n",
      "# Easier to do simple file configuration then add the stdout\n",
      "logging.basicConfig()"
     ],
     "language": "python",
     "metadata": {},
     "outputs": [],
     "prompt_number": 1
    },
    {
     "cell_type": "code",
     "collapsed": false,
     "input": [
      "logging.debug(\"I'm just to debug\")\n",
      "logging.info(\"Here's some general information\")\n",
      "logging.warning(\"Something's not quite right\")\n",
      "logging.error(\"Oh dear, it looks a bit broken\")\n",
      "logging.critical(\">_<\")"
     ],
     "language": "python",
     "metadata": {},
     "outputs": [
      {
       "output_type": "stream",
       "stream": "stderr",
       "text": [
        "WARNING:root:Something's not quite right\n"
       ]
      },
      {
       "output_type": "stream",
       "stream": "stderr",
       "text": [
        "ERROR:root:Oh dear, it looks a bit broken\n"
       ]
      },
      {
       "output_type": "stream",
       "stream": "stderr",
       "text": [
        "CRITICAL:root:>_<\n"
       ]
      }
     ],
     "prompt_number": 2
    },
    {
     "cell_type": "markdown",
     "metadata": {},
     "source": [
      "The default is not altogether that useful for our purposes; Only error type warnings are emitted and only to the `stderr`. The `basicConfig()` method takes some arguments to customise the logging, but, if you call one of the logging functions without setting up your logger, the defaults are automatically set and `basicConfig` actually does nothing. This unexpected behaviour is one of the reasons that `basicConfig` is best avoided.\n",
      "\n",
      "When setting up your logging manually the `looging` module becomes a powereful management tool for many kinds of output that can be used to incorporate some 'best practices'."
     ]
    },
    {
     "cell_type": "code",
     "collapsed": false,
     "input": [
      "# Reset everything\n",
      "reload(logging)\n",
      "\n",
      "# The actual logger needs to be extracted to work on it\n",
      "logger = logging.getLogger()\n",
      "\n",
      "# set the base level on the logger itself;\n",
      "# everything less important will be rejected\n",
      "logger.setLevel(logging.DEBUG)\n",
      "\n",
      "# logging is done by **handlers**\n",
      "# We can set these up manually\n",
      "\n",
      "# In case a handler has accidentally been set up by a \n",
      "# basicConfig, we can clear them all\n",
      "logger.handlers = []\n",
      "\n",
      "# A stream handler deafults to stderr, so change it to stdout\n",
      "stdout_handler = logging.StreamHandler(stream=sys.stdout)\n",
      "\n",
      "# I want everything on the screen\n",
      "stdout_handler.setLevel(logging.INFO)\n",
      "\n",
      "logger.addHandler(stdout_handler)"
     ],
     "language": "python",
     "metadata": {
      "slideshow": {
       "slide_type": "slide"
      }
     },
     "outputs": [],
     "prompt_number": 3
    },
    {
     "cell_type": "code",
     "collapsed": false,
     "input": [
      "logging.debug(\"I'm just to debug\")\n",
      "logging.info(\"Here's some general information\")\n",
      "logging.warning(\"Something's not quite right\")\n",
      "logging.error(\"Oh dear, it looks a bit broken\")\n",
      "logging.critical(\">_<\")"
     ],
     "language": "python",
     "metadata": {},
     "outputs": [
      {
       "output_type": "stream",
       "stream": "stdout",
       "text": [
        "Here's some general information\n"
       ]
      },
      {
       "output_type": "stream",
       "stream": "stdout",
       "text": [
        "Something's not quite right\n"
       ]
      },
      {
       "output_type": "stream",
       "stream": "stdout",
       "text": [
        "Oh dear, it looks a bit broken\n"
       ]
      },
      {
       "output_type": "stream",
       "stream": "stdout",
       "text": [
        ">_<\n"
       ]
      }
     ],
     "prompt_number": 4
    },
    {
     "cell_type": "markdown",
     "metadata": {},
     "source": [
      "The line where `setLevel` is called on the StreamHandler is important. This effectively lets you litter your code with `debug()` calls which can be switched on and off by changing the logging level.\n",
      "\n",
      "Now everything is output to `stdout`, which is great, but we are not limited to this. "
     ]
    },
    {
     "cell_type": "code",
     "collapsed": false,
     "input": [
      "# this example will use a temporary file\n",
      "# normally you'd set a fixed 'output file'\n",
      "import tempfile\n",
      "\n",
      "log_file = tempfile.NamedTemporaryFile()\n",
      "log_filename = log_file.name\n",
      "\n",
      "# I want all debugging output on the screen, so\n",
      "# alter the level here\n",
      "stdout_handler.setLevel(logging.DEBUG)\n",
      "\n",
      "# need to create a new handler to deal with file\n",
      "# output\n",
      "file_handler = logging.FileHandler(log_filename)\n",
      "\n",
      "# So that we log things properly we can attach a\n",
      "# date string to it; the default is an ISO\n",
      "# formatted date string\n",
      "log_format = '%(asctime)s||%(levelname)s||%(message)s'\n",
      "\n",
      "# datefmt='%Y%m%d %H:%M:%S' can modify the look of the\n",
      "# date in the output as you like\n",
      "log_formatter = logging.Formatter(log_format)\n",
      "\n",
      "file_handler.setLevel(logging.INFO)\n",
      "file_handler.setFormatter(log_formatter)\n",
      "\n",
      "# This handler is in addition to the one already there\n",
      "logger.addHandler(file_handler)\n",
      "\n",
      "\n",
      "\n",
      "logger.info(\"I need to keep a record of all information!\")\n",
      "logger.debug(\"But debugging can just go to the screen...\")\n",
      "logger.info(\"Some specific details, blah blah.\")\n",
      "logger.debug(\"Still debugging\")\n",
      "logging.critical(\">_<\")"
     ],
     "language": "python",
     "metadata": {
      "slideshow": {
       "slide_type": "slide"
      }
     },
     "outputs": [
      {
       "output_type": "stream",
       "stream": "stdout",
       "text": [
        "I need to keep a record of all information!\n"
       ]
      },
      {
       "output_type": "stream",
       "stream": "stdout",
       "text": [
        "But debugging can just go to the screen...\n"
       ]
      },
      {
       "output_type": "stream",
       "stream": "stdout",
       "text": [
        "Some specific details, blah blah.\n"
       ]
      },
      {
       "output_type": "stream",
       "stream": "stdout",
       "text": [
        "Still debugging\n"
       ]
      },
      {
       "output_type": "stream",
       "stream": "stdout",
       "text": [
        ">_<\n"
       ]
      }
     ],
     "prompt_number": 5
    },
    {
     "cell_type": "code",
     "collapsed": false,
     "input": [
      "logger.handlers"
     ],
     "language": "python",
     "metadata": {},
     "outputs": [
      {
       "metadata": {},
       "output_type": "pyout",
       "prompt_number": 6,
       "text": [
        "[<logging.StreamHandler at 0x16bcb90>, <logging.FileHandler at 0x18f8b10>]"
       ]
      }
     ],
     "prompt_number": 6
    },
    {
     "cell_type": "code",
     "collapsed": false,
     "input": [
      "open(log_filename).readlines()"
     ],
     "language": "python",
     "metadata": {},
     "outputs": [
      {
       "metadata": {},
       "output_type": "pyout",
       "prompt_number": 7,
       "text": [
        "['2014-03-18 10:56:18,554||INFO||I need to keep a record of all information!\\n',\n",
        " '2014-03-18 10:56:18,555||INFO||Some specific details, blah blah.\\n',\n",
        " '2014-03-18 10:56:18,556||CRITICAL||>_<\\n']"
       ]
      }
     ],
     "prompt_number": 7
    },
    {
     "cell_type": "markdown",
     "metadata": {
      "slideshow": {
       "slide_type": "slide"
      }
     },
     "source": [
      "Logging offers lots in the way of customisation. You can have as many handlers as you need and by subclassing the handlers you can completely alter the way in which the logging appears."
     ]
    }
   ],
   "metadata": {}
  }
 ]
}