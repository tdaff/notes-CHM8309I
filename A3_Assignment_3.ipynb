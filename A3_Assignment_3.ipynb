{
 "metadata": {
  "name": "",
  "signature": "sha256:64e54709560894e7fd8414655d50196706afee01630bee215f45e8c1c7f155c0"
 },
 "nbformat": 3,
 "nbformat_minor": 0,
 "worksheets": [
  {
   "cells": [
    {
     "cell_type": "markdown",
     "metadata": {},
     "source": [
      "Assignment 3\n",
      "============\n",
      "\n",
      "Due 8th April. You should submit a pull request when your work is finished."
     ]
    },
    {
     "cell_type": "markdown",
     "metadata": {},
     "source": [
      "\n",
      "\n",
      "> Collaboration is the foundation of productivity.\n",
      "> &mdash; <cite>Probably nobody, ever</cite>\n",
      "\n",
      "Some of our best work is carried out when nobody else decides to bug us. Unfortunately we are often required to participate in some teamwork activities. This assignment is your opportunity to showcase how well you work as a collaborative member of a team.\n",
      "\n",
      "I ran a simulation the other day, and now I have some results, but I have no idea what to do with them. I have put a \"history\" file for a molecular dynamics simulation in a bitbucket repository that you can all access at [https://bitbucket.org/tdaff/chm8309i_2014_a3](https://bitbucket.org/tdaff/chm8309i_2014_a3). You all have complete write permissions to this repository. Your task is to work in teams, or collectively, using this repository to produce some codes to carry out some post-processing and analysis of the data.\n",
      "\n",
      "You should plan your own work as you wish but for this assignment you will be assesed on:\n",
      "\n",
      "+ Use of version control software to track, merge and publish bits of code:\n",
      "    + **5 marks**; you must have commited code, done at least one merge, kept the repository clean with high quality commit messages;\n",
      "+ Contribute as part of a team:\n",
      "    + **5 marks**; marks will be deducted if you only have very few commits or contributed lines of code;\n",
      "+ Produce well written, quality controlled, documented, code:\n",
      "    + **5 marks**; marks will be deducted for errors, poorly written code, undocumented code, non standards compliant code, code that is specific to a single case that could easily be generalised;\n",
      "+ Carry out testing on the code:\n",
      "    + **5 marks**; each person must produce at least one unit test, preferrably for another person's code. The unit test must be well thought out and take into account the algorithm and sensible limits.\n",
      "\n",
      "    \n",
      "You are free to divide up the work as you think will work best (probably groups of 3 or more), but you all must have made changes to some piece of code that someone else has also made changes to. This can include pair programming, spooning, code review strategies.\n",
      "\n",
      "Some ideas for your codes that you could consider are:\n",
      "\n",
      "+ Calculate average kineic energy or temperature\n",
      "+ Windowed averaging\n",
      "+ Measuring particle separation over time\n",
      "+ RMSD of atoms\n",
      "+ RDF of atoms\n",
      "+ Clustering of atom types\n",
      "+ Visualisation/GUI\n",
      "+ Something more creative"
     ]
    },
    {
     "cell_type": "code",
     "collapsed": false,
     "input": [],
     "language": "python",
     "metadata": {},
     "outputs": []
    }
   ],
   "metadata": {}
  }
 ]
}