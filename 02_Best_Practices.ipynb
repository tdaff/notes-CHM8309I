{
 "metadata": {
  "celltoolbar": "Slideshow",
  "name": "",
  "signature": "sha256:554c42b7bf60fba6103c9ac249d65f292a39db00225c306db3ced5f9be3aeffd"
 },
 "nbformat": 3,
 "nbformat_minor": 0,
 "worksheets": [
  {
   "cells": [
    {
     "cell_type": "markdown",
     "metadata": {
      "slideshow": {
       "slide_type": "slide"
      }
     },
     "source": [
      "Best Practices - Part 1 - General style\n",
      "======================================="
     ]
    },
    {
     "cell_type": "markdown",
     "metadata": {
      "slideshow": {
       "slide_type": "slide"
      }
     },
     "source": [
      "Source code is almost exclusively write once, read many times. Plan to write something that will be useful for people you work with and the people that will inherit the maintainenece of your code. \n",
      "\n",
      "By design, Python forces us to be very structured, but there are published guidelines that help to maintain **consistency** with exisiting code and promote good standards in your future code.\n",
      "\n",
      "* [http://www.python.org/dev/peps/pep-0008/](http://www.python.org/dev/peps/pep-0008/)\n",
      "* [http://google-styleguide.googlecode.com/svn/trunk/pyguide.html](http://google-styleguide.googlecode.com/svn/trunk/pyguide.html)\n",
      "* [http://python.net/~goodger/projects/pycon/2007/idiomatic/handout.html](http://python.net/~goodger/projects/pycon/2007/idiomatic/handout.html)\n",
      "\n",
      "All of your exercises and assignments will be strictly marked against these guidelines. Read them and stick to them.\n",
      "\n",
      "Similar style guides exist for most other languages, but the most important point is to be *consistent*! If you work collaboratively, ensure that codes are written in the same style.\n",
      "\n"
     ]
    },
    {
     "cell_type": "markdown",
     "metadata": {
      "slideshow": {
       "slide_type": "slide"
      }
     },
     "source": [
      "Some basics:\n",
      "\n",
      "* 4 space indentation\n",
      "    * No tabs\n",
      "* 80 characters per line ([http://www.reddit.com/r/Python/comments/eka0f/dae_find_themselves_applying_pep8_to_all/](http://www.reddit.com/r/Python/comments/eka0f/dae_find_themselves_applying_pep8_to_all/))\n",
      "    * use implicit continuation\n",
      "    * can indicate that there is a clearer way of expressing yourself\n",
      "* Make code look nice\n",
      "    * spaces after commas\n",
      "    * no spaces around brackets\n",
      "    * spaces around operators (+, -, ...)\n",
      "    * except keword=value\n",
      "\n",
      "\n"
     ]
    },
    {
     "cell_type": "markdown",
     "metadata": {
      "slideshow": {
       "slide_type": "slide"
      }
     },
     "source": [
      "The following example claims to be a good example of all the rules. You are free to interpret the guidelines as you please, but always think before you write!"
     ]
    },
    {
     "cell_type": "code",
     "collapsed": false,
     "input": [
      "#! /usr/bin/env python\n",
      "# -*- coding: utf-8 -*-\n",
      "\"\"\"This module's docstring summary line.\n",
      "\n",
      "This is a multi-line docstring. Paragraphs are separated with blank lines. \n",
      "Lines conform to 79-column limit. \n",
      "\n",
      "Module and packages names should be short, lower_case_with_underscores.\n",
      "\n",
      "See http://www.python.org/dev/peps/pep-0008/ for more PEP-8 details and\n",
      "http://wwd.ca/blog/2009/07/09/pep-8-cheatsheet/ for an up-to-date version\n",
      "of this cheatsheet.\n",
      "\"\"\"\n",
      "import os\n",
      "import sys\n",
      "\n",
      "import some_third_party_lib\n",
      "import some_other_third_party_lib\n",
      "\n",
      "import your_local_stuff\n",
      "import more_local_stuff\n",
      "import dont_import_two, modules_in_one_line     # IMPORTANT!\n",
      "\n",
      "_a_global_var = 2   # so it won't get imported by 'from foo import *'\n",
      "_b_global_var = 3\n",
      "\n",
      "A_CONSTANT = 'ugh.'\n",
      "\n",
      "# 2 empty lines between top-level funcs + classes\n",
      "def some_function():\n",
      "    pass\n",
      "\n",
      "\n",
      "class FooBar(object):\n",
      "    \"\"\"Write docstrings for ALL public classes, funcs and methods.\n",
      "\n",
      "    Class and exception names are CapWords.\n",
      "    \"\"\"\n",
      "\n",
      "    a = 2\n",
      "    b = 4\n",
      "    _internal_variable = 3\n",
      "    class_ = 'foo'      # trailing underscore to avoid conflict with builtin\n",
      "\n",
      "    # this will trigger name mangling to further discourage use from outside\n",
      "    # this is also very useful if you intend your class to be subclassed, and\n",
      "    # the children might also use the same var name for something else; e.g. \n",
      "    # for simple variables like 'a' above. Name mangling will ensure that \n",
      "    # *your* a and the children's a will not collide.\n",
      "    __internal_var = 4  \n",
      "\n",
      "    # NEVER use double leading and trailing underscores for your own names\n",
      "    __nooooooodontdoit__ = 0\n",
      "\n",
      "    # don't call anything:\n",
      "    l = 1\n",
      "    O = 2\n",
      "    I = 3\n",
      "\n",
      "    # some examples of how to wrap code to conform to 79-columns limit:\n",
      "    def __init__(self, width, height,\n",
      "                 color='black', emphasis=None, highlight=0):\n",
      "        if width == 0 and height == 0 and \\\n",
      "           color == 'red' and emphasis == 'strong' or \\\n",
      "           highlight > 100:\n",
      "            raise ValueError(\"sorry, you lose\")\n",
      "        if width == 0 and height == 0 and (color == 'red' or\n",
      "                                           emphasis is None):\n",
      "            raise ValueError(\"I don't think so -- values are %s, %s\" %\n",
      "                             (width, height))\n",
      "        Blob.__init__(self, width, height,\n",
      "                      color, emphasis, highlight)\n",
      "\n",
      "        # empty lines within method to enhance readability; no set rule\n",
      "        short_foo_dict = {'loooooooooooooooooooong_element_name': 'cat',\n",
      "                          'other_element': 'dog'}\n",
      "\n",
      "        long_foo_dict_with_many_elements = {\n",
      "            'foo': 'cat',\n",
      "            'bar': 'dog'\n",
      "        }\n",
      "\n",
      "    # 1 empty line between in-class def'ns\n",
      "    def foo_method(self, x, y=None):\n",
      "        \"\"\"Method and function names are lower_case_with_underscores.\n",
      "\n",
      "        Always use self as first arg.\n",
      "        \"\"\"\n",
      "        if x == 4:          # x is blue <== USEFUL 1-liner comment\n",
      "            x, y = y, x     # inverse x and y <== USELESS COMMENT\n",
      "        dict['key'] = dict[index] = {x: 2, 'cat': 'not a dog'}\n",
      "        c = (a + b) * (a - b)\n",
      "\n",
      "    @classmethod\n",
      "    def bar(cls):\n",
      "        \"\"\"Use cls!\"\"\"\n",
      "        pass\n",
      "\n",
      "\n",
      "# a 79-char ruler:\n",
      "#234567891123456789212345678931234567894123456789512345678961234567897123456789"
     ],
     "language": "python",
     "metadata": {},
     "outputs": []
    },
    {
     "cell_type": "markdown",
     "metadata": {
      "slideshow": {
       "slide_type": "skip"
      }
     },
     "source": [
      "\n",
      "--  \n",
      "\n",
      "\u00a9 Tom Daff - All rights reserved"
     ]
    }
   ],
   "metadata": {}
  }
 ]
}