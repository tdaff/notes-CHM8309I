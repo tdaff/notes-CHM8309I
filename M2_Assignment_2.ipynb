{
 "metadata": {
  "name": "",
  "signature": "sha256:ec22da937c7572146233bafe479cf65fefa1c3fda95281b040e18ff30edbd49a"
 },
 "nbformat": 3,
 "nbformat_minor": 0,
 "worksheets": [
  {
   "cells": [
    {
     "cell_type": "markdown",
     "metadata": {},
     "source": [
      "Assignment 2 Marking Scheme\n",
      "===========================\n",
      "\n",
      "The assignment will be marked according to the following critera\n",
      "\n",
      "| Marking criterion | Maximum marks |\n",
      "| ----------------- | ------------- |\n",
      "|\tAtom is designed on paper\t|\t2\t|\n",
      "|\tPaper implementation gives details of methods and attributes\t|\t2\t|\n",
      "|\tAtom is implemented with a timesteping ability\t|\t2\t|\n",
      "|\tAtom does most of the suggested things to implement\t|\t2\t|\n",
      "|\tClass has public and private members \t|\t1\t|\n",
      "|\tPublic members only expose interface, implementation is encapsulated\t|\t2\t|\n",
      "|\tUses getters and setters to hide implementation\t|\t2\t|\n",
      "|\tUses property to make functions attributes\t|\t2\t|\n",
      "|\tDifferent logics are separated into separate classes\t|\t2\t|\n",
      "|\tAtom inherits from class or is inherited\t|\t2\t|\n",
      "|\tInhereted methods and attributes are integrated with the child class\t|\t2\t|\n",
      "|\tOverloads standard operator to customise behaviour of class\t|\t2\t|\n",
      "|\tCode is PEP8 compliant\t|\t2\t|\n",
      "|\tPublic methods of the class have a description in the documentation\t|\t2\t|\n",
      "|\tDescription of how the Atom would be integrated into a calculation\t|\t2\t|\n",
      "|\tMethods are demonstrated to work\t|\t2\t|\n",
      "|\tSensible inputs are used to demonstrate the methods\t|\t2\t|\n"
     ]
    }
   ],
   "metadata": {}
  }
 ]
}