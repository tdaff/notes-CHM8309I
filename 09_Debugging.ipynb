{
 "metadata": {
  "celltoolbar": "Slideshow",
  "name": "",
  "signature": "sha256:6028d98dea6f2cd6a591c73e9b1b41234a74875bd6e30993b2c0c2b0d41132a9"
 },
 "nbformat": 3,
 "nbformat_minor": 0,
 "worksheets": [
  {
   "cells": [
    {
     "cell_type": "markdown",
     "metadata": {
      "slideshow": {
       "slide_type": "slide"
      }
     },
     "source": [
      "Debugging\n",
      "========="
     ]
    },
    {
     "cell_type": "markdown",
     "metadata": {
      "slideshow": {
       "slide_type": "slide"
      }
     },
     "source": [
      "Debugging is, in a fairly broad sense, just the act of looking for and removing **bugs** or defects in a code. As it turns out, there are many different types of bugs and the methods used to find them can differ significantly."
     ]
    },
    {
     "cell_type": "markdown",
     "metadata": {
      "slideshow": {
       "slide_type": "slide"
      }
     },
     "source": [
      "Printing\n",
      "--------\n",
      "\n",
      "**Printing** is almost certainly the most prevalent method for inspecting the internals of any code. Since putting stuff on the screen is a _side effect_ it does not affect the execution of the code. \n",
      "\n",
      "You've all probably used it and the ease with which it works makes it a very simple drop in for any code where you'd like to see what is going on. For any language that has some means of putting things on your screen, it has been used to inspect what is going on."
     ]
    },
    {
     "cell_type": "code",
     "collapsed": false,
     "input": [
      "def mystery_function(number):\n",
      "    \"\"\"Not descriptive.\"\"\"\n",
      "    print(\"argument is {}\".format(number))\n",
      "    low, high = 0, 1\n",
      "    for i in range(number):\n",
      "        print(low, high)\n",
      "        low, high = high, low + high\n",
      "    return high\n",
      "\n",
      "print(mystery_function)\n",
      "mystery_function(6)"
     ],
     "language": "python",
     "metadata": {
      "slideshow": {
       "slide_type": "slide"
      }
     },
     "outputs": [
      {
       "output_type": "stream",
       "stream": "stdout",
       "text": [
        "<function mystery_function at 0x2722140>\n",
        "argument is 6\n",
        "(0, 1)\n",
        "(1, 1)\n",
        "(1, 2)\n",
        "(2, 3)\n",
        "(3, 5)\n",
        "(5, 8)\n"
       ]
      },
      {
       "metadata": {},
       "output_type": "pyout",
       "prompt_number": 1,
       "text": [
        "13"
       ]
      }
     ],
     "prompt_number": 1
    },
    {
     "cell_type": "markdown",
     "metadata": {},
     "source": [
      "You can print any object (it just calls the `.__repr__()` method on it). Here we are able to identify a pattern and see that this is a badly designed Fibonacci function."
     ]
    },
    {
     "cell_type": "markdown",
     "metadata": {
      "slideshow": {
       "slide_type": "slide"
      }
     },
     "source": [
      "Separating output\n",
      "-----------------\n",
      "\n",
      "Prints can be very useful to just stick in your code where you think you might need some insight, and remove later, but they can litter your output if you need them more regularly.\n",
      "\n",
      "How do you separate what is supposed to be coming out from what you are just using to debug? In standard unixy land the `stderr` is used for non informational output. We could create a convenience function for debugging:"
     ]
    },
    {
     "cell_type": "code",
     "collapsed": false,
     "input": [
      "import sys\n",
      "\n",
      "# Some fixed constant will enable or disable debugging\n",
      "DEBUG = True\n",
      "\n",
      "def debug(argument):\n",
      "    \"\"\"Conditionally emit debugging info on the stderr channel.\"\"\"\n",
      "    if DEBUG:\n",
      "        sys.stderr.write(\"{}\\n\".format(argument))\n",
      "\n",
      "debug(\"DEBUG is set to {}\".format(DEBUG))\n",
      "debug(debug)  # works with objects\n",
      "\n",
      "DEBUG = False\n",
      "\n",
      "debug(\"Turned off\")"
     ],
     "language": "python",
     "metadata": {},
     "outputs": [
      {
       "output_type": "stream",
       "stream": "stderr",
       "text": [
        "DEBUG is set to True\n",
        "<function debug at 0x2722500>\n"
       ]
      }
     ],
     "prompt_number": 2
    },
    {
     "cell_type": "markdown",
     "metadata": {},
     "source": [
      "A function like this can be left in the code and turned on as needed during development. It also helps us think about separation of output and debug information."
     ]
    },
    {
     "cell_type": "markdown",
     "metadata": {
      "slideshow": {
       "slide_type": "slide"
      }
     },
     "source": [
      "Logging\n",
      "-------\n",
      "\n",
      "The `logging` module provides many mechanisms for adding various mechanisms and outputs for debugging and output. I removed the notes from this lecture, but have put them on the course website."
     ]
    },
    {
     "cell_type": "markdown",
     "metadata": {
      "slideshow": {
       "slide_type": "slide"
      }
     },
     "source": [
      "What to debug and output\n",
      "------------------------\n",
      "\n",
      "+ Output can be the equivalent of results in a lab book\n",
      "    - Store directly to files\n",
      "    - Keep the information as complete as possible (reproducible result)\n",
      "        + uniquely identify calculations\n",
      "        + provide unique names version numbering for the software used\n",
      "        + report values of critical parameters for any given output\n",
      "+ Debugging clutters output\n",
      "    - Debug where you need to inspect code\n",
      "        + where things don't make sense (other people's code)\n",
      "        + pull out values of buried variables\n",
      "        + at points where you are dealing with unkonwns\n",
      "    - Clearly mark it as debugging output\n",
      "    - Turn it off by default\n",
      "    - Don't mix it with the output\n",
      "+ Try to make it as simple as possible for someone else to understand the source of your output and results and recreate your work if they need to."
     ]
    },
    {
     "cell_type": "markdown",
     "metadata": {
      "slideshow": {
       "slide_type": "slide"
      }
     },
     "source": [
      "Real Debugging\n",
      "==============\n",
      "\n",
      "Although we can use print statements and logging to keep track of what's going on, most programming languages provide very sophisticated methods for analysing code before running and determing what is going on while running code. "
     ]
    },
    {
     "cell_type": "markdown",
     "metadata": {
      "slideshow": {
       "slide_type": "slide"
      }
     },
     "source": [
      "Compile time errors\n",
      "-------------------\n",
      "\n",
      "In compiled languages, like Fortran and C, bugs often show up at _compile time_. This is where the code is read and converted into a machine interpretable represntation. \n",
      "\n",
      "+ Catching incorrect types, for example is much easier than in a dynamic language like Python where names of objects can change and things don't need to be a fixed type. **Compiler errors and warnings** give you lots of useful information! \n",
      "+ Different compilers may even often give you different warnings, so it is always useful to try and compile with, for example, Intel compilers and gcc or llvm.\n",
      "+ Depending on your compiler you can change the level of warnings to be less forgiving `-Wall -Werror`. \n",
      "+ You can switch on extra debugging information, usually with a `-g`, and enable **tracebacks** that show you where your code breaks for things the compiler can't catch."
     ]
    },
    {
     "cell_type": "markdown",
     "metadata": {
      "slideshow": {
       "slide_type": "slide"
      }
     },
     "source": [
      "Python compilation errors\n",
      "-------------------------\n",
      "\n",
      "Python code is *compiled* at runtime into *bytecode* that is run by an *interpreter*, and can show up some obvious errors during parsing that completely prevent your code from running.\n",
      "\n",
      "    File \"syntax_error.py\", line 46\n",
      "        amine.what_am_i()\n",
      "            ^\n",
      "    SyntaxError: invalid syntax\n",
      "\n",
      "Syntax errors prevent the code from being interpreted at all. The handy caret will tell you where to start looking for the cause, but might not get it exactly. Try it by running `python syntax_error.py` in the class repository. See if you can find the errro. Here, I needed to **work backwards** to find an unclosed bracket!"
     ]
    },
    {
     "cell_type": "markdown",
     "metadata": {
      "slideshow": {
       "slide_type": "slide"
      }
     },
     "source": [
      "Runtime errors\n",
      "--------------\n",
      "\n",
      "As a very dynamic language it is easy to get Python to compile, but break when running. However, when your code compiles correctly but crashes at runtime, you get a complete **traceback** for free. Try this with `runtime_error.py`:\n",
      "\n",
      "    Traceback (most recent call last):\n",
      "      File \"runtime_error.py\", line 45, in <module>\n",
      "        amine.what_am_i()\n",
      "      File \"runtime_error.py\", line 38, in what_am_i\n",
      "        return \"I'm a {} group at {}\".format(self.name, self.locate())\n",
      "      File \"runtime_error.py\", line 18, in locate\n",
      "        return self._positioon\n",
      "    AttributeError: 'FunctionalGroup' object has no attribute '_positioon'\n",
      "\n",
      "From the traceback you can see what line in the code is the cause of the problem and realise that it was a misspelling that caused the program to crash. Tracebacks are always stacked from athe _outermost calling function_ to the error at the end, when you have thousands of levels of recursion this can mean very long tracebacks."
     ]
    },
    {
     "cell_type": "markdown",
     "metadata": {
      "slideshow": {
       "slide_type": "slide"
      }
     },
     "source": [
      "Static analysis\n",
      "---------------\n",
      "\n",
      "Rather than wait for your program to break, a number of third party tools exist for doing some static analysis on your Python code before execution.\n",
      "\n",
      "One of the simplest forms of static analysis is the **syntax highlighting** which is almost universal now (excluding the small movement of people who specifically forgo this immensely useful tool). Colours can instantly show unmatched quotes or braces, for example. Even these web based notebooks offer this invaluabe feature.\n",
      "\n",
      "In `syntax_error.py` see how the matching braces get highlighted when selected except for the one with the missing brace."
     ]
    },
    {
     "cell_type": "markdown",
     "metadata": {
      "slideshow": {
       "slide_type": "slide"
      }
     },
     "source": [
      "Pyflakes\n",
      "--------\n",
      "\n",
      "For more detailed analysis **pyflakes** is the fastest and easiest tool that is available, and mainly catches typos and common errors that occur in a dynamic language:\n",
      "\n",
      "    % pyflakes static_analysis.py\n",
      "    static_analysis.py:2: 'mul' imported but unused\n",
      "    static_analysis.py:9: undefined name 'datetime'\n",
      "    static_analysis.py:37: local variable 'unused_local' is assigned to but never used\n",
      "    static_analysis.py:40: redefinition of unused 'add' from line 2\n",
      "\n",
      "Some of the common errors that are easily spotted are missing imports, mistyped names, redefining names and shadowing names from a different scope. If you want to fiddle, there are tools that can integrate pyflakes with vim and give you squiggly lines that highlight errors similar to a spellchecker."
     ]
    },
    {
     "cell_type": "markdown",
     "metadata": {
      "slideshow": {
       "slide_type": "slide"
      }
     },
     "source": [
      "PEP8\n",
      "----\n",
      "\n",
      "Also in the class of fast things is `pep8`. This is not so much a static analysis tool but is still useful in it's own right. You may not guess from the name what it does, but it just scans through and lets you know where your code can be pulled in line with the all important PEP-8 guidelines:\n",
      "\n",
      "    % pep8 static_analysis.py\n",
      "    static_analysis.py:4:1: E302 expected 2 blank lines, found 1\n",
      "    static_analysis.py:6:35: E231 missing whitespace after ','\n",
      "    static_analysis.py:13:29: E127 continuation line over-indented for visual indent\n",
      "    static_analysis.py:13:47: W291 trailing whitespace\n",
      "    static_analysis.py:31:25: E702 multiple statements on one line (semicolon)\n",
      "    static_analysis.py:35:18: E211 whitespace before '('\n",
      "    static_analysis.py:38:80: E501 line too long (86 > 79 characters)\n"
     ]
    },
    {
     "cell_type": "markdown",
     "metadata": {
      "slideshow": {
       "slide_type": "slide"
      }
     },
     "source": [
      "Linting\n",
      "-------\n",
      "\n",
      "Finally, we have the slow and comprehensive option. This one takes it's name and influence form many of the original static analyis tools called **lint** tools, that look for errors and other **cruft** in your code. The original `lint` tool was written for C but linters now exist for many other langugaes (both commercial and free).\n",
      "\n",
      "**Pylint** is the standard linter for Python. It is written and maintained by Logilab who develop a large quantity of Python code and enforce very strict standards (well beyond PEP-8) for all their own code (_eat your own dogfood_).\n",
      "\n",
      "    % pylint static_analysis.py\n",
      "    ************* Module static_analysis\n",
      "    C: 38,0: Line too long (86/80)\n",
      "    W: 38,0: Bad indentation. Found 24 spaces, expected 8\n",
      "    C:  1,0: Missing docstring\n",
      "    C:  6,4:MovableThing.__init__: Comma not followed by a space\n",
      "        def __init__(self, position=[0,0, 0]):\n",
      "                                      ^^\n",
      "    W:  6,4:MovableThing.__init__: Dangerous default value [0, 0, 0] as argument\n",
      "    E:  9,27:MovableThing.__init__: Undefined variable 'datetime'\n",
      "    C: 31,26:FunctionalGroup.__init__: More than one statement on a single line\n",
      "    W: 31,26:FunctionalGroup.__init__: Unnecessary pass statement\n",
      "    W: 37,24:FunctionalGroup.what_am_i: Unused variable 'unused_local'\n",
      "    E: 40,0:add: function already defined line 2\n",
      "    C: 40,0:add: Invalid name \"a\" for type argument (should match [a-z_][a-z0-9_]{2,30}$)\n",
      "    W:  2,0: Unused import mul\n",
      "    ...\n",
      "    Global evaluation\n",
      "    -----------------\n",
      "    Your code has been rated at -0.71/10\n",
      "\n",
      "\n",
      "Most of their guidelines are great and help to enforce better coding styles, but sometimes you need to know when to ignore the suggestions; e.g. limits on complexity (too many local variables, too many lines in a file, too many branches) should be interpreted as a suggestion that you could benefit from refactoring your code, but for some problems this is not possible. For small scripts the naimng conventions can also be a bit limiting, again, _readability counts_."
     ]
    },
    {
     "cell_type": "markdown",
     "metadata": {
      "slideshow": {
       "slide_type": "slide"
      }
     },
     "source": [
      "Dynamic analysis\n",
      "----------------\n",
      "\n",
      "Static analysis is very useful, but, being an interpreted language with excellent introspecion allows for very powerful runtime inspection.\n",
      "\n",
      "Probably unique to Python is this tool that shows in a webpage the internals of running code."
     ]
    },
    {
     "cell_type": "markdown",
     "metadata": {},
     "source": [
      "![pythontutor.com](files/Images/pythontutor.png)"
     ]
    },
    {
     "cell_type": "markdown",
     "metadata": {},
     "source": [
      "[link to example on pythontutor.com][1]\n",
      "\n",
      "[1]: http://pythontutor.com/visualize.html#code=from+operator+import+add%0A%0Aclass+MovableThing(object)%3A%0A++++%22%22%22Base+class+for+things+that+have+a+position+and+motion.%22%22%22%0A++++def+__init__(self,+position%3D%5B0,+0,+0%5D)%3A%0A++++++++%22%22%22Place+subclass+at+the+position+or+origin.%22%22%22%0A++++++++self._position+%3D+position%0A%0A++++def+move(self,+vector)%3A%0A++++++++%22%22%22Displace+the+Thing+by+the+given+amount.%22%22%22%0A++++++++self._position+%3D+%5Badd(here,+move)+%0A++++++++++++++++++++++++++for(here,+move)+in+%0A++++++++++++++++++++++++++zip(self._position,+vector)%5D%0A++++%0A++++def+locate(self)%3A%0A++++++++%22%22%22Tell+where+the+Thing+is+located.%22%22%22%0A++++++++return+self._position%0A++++%0A++++def+what_am_i(self)%3A%0A++++++++%22%22%22Information+that+needs+to+be+subclassed.%22%22%22%0A++++++++raise+NotImplementedError%0A%0A%0Aclass+PointInSpace(MovableThing)%3A%0A++++%22%22%22Generic+Point+that+can+move+around.%22%22%22%0A++++def+what_am_i(self)%3A%0A++++++++%22%22%22Give+some+formatted+information+on+this+object.%22%22%22%0A++++++++return+%22I'm+a+PointInSpace+at+%7B%7D%22.format(self.locate())%0A%0Aa_dot+%3D+PointInSpace()%0Aa_dot.move(%5B2,+3,+4%5D)%0Aa_dot.move(%5B1,+2,+3%5D)%0Aa_dot.what_am_i()&cumulative=false&py=2&curInstr=0"
     ]
    },
    {
     "cell_type": "markdown",
     "metadata": {},
     "source": [
      "There are many examples and you can run any of your own code at [http://pythontutor.com/](http://pythontutor.com/). It is a fantastic resource for learing what actually goes on underneath the hood when running code and can also help you understand why things happen that you don't quite understand. That "
     ]
    },
    {
     "cell_type": "markdown",
     "metadata": {
      "slideshow": {
       "slide_type": "slide"
      }
     },
     "source": [
      "Interactive debugging\n",
      "---------------------\n",
      "\n",
      "That being said there are even more powerful ways of carrying out **interactive debugging** on arbritary code. **pdb** also known as the Python debugger is a standard module included with the python standard library. It allows for a program to be halted at any point and the *stack* inspected and manipulated and the flow of the program to be progressed manually. It has a simple commandline interface which is similar to other standard debuggers like idb from Intel and gdb which is a free software debugger."
     ]
    },
    {
     "cell_type": "markdown",
     "metadata": {},
     "source": [
      "To start the debugger there are a few options: you can add the argument `-m pdb` to your python line to load the pdb module and run the script using that. Typing a question mark, `?`, brings up the help for you.\n",
      "\n",
      "    % python -m pdb movable_thing.py\n",
      "    > /home/tdaff/Teaching/chm8309i_2014/debug_files/movable_thing.py(1)<module>()\n",
      "    -> from datetime import datetime\n",
      "    (Pdb) ?\n",
      "    Documented commands (type help <topic>):\n",
      "    ========================================\n",
      "    EOF    bt         cont      enable  jump  pp       run      unt\n",
      "    a      c          continue  exit    l     q        s        until\n",
      "    alias  cl         d         h       list  quit     step     up\n",
      "    args   clear      debug     help    n     r        tbreak   w\n",
      "    b      commands   disable   ignore  next  restart  u        whatis\n",
      "    break  condition  down      j       p     return   unalias  where\n",
      "\n",
      "Or you can add the line:\n",
      "    \n",
      "    import pdb; pdb.set_trace()\n",
      "\n",
      "at any point in your code that you wish to start debugging. It is very unPEP8 to have two commands on one line like that but as it is a debugging statement that is executed as a whole and should not make it to production, it is okay."
     ]
    },
    {
     "cell_type": "markdown",
     "metadata": {
      "slideshow": {
       "slide_type": "slide"
      }
     },
     "source": [
      "Run `python movable_tihng.py` and you will end up debuggin within the code. The debugger gives us a prompt where we can start typing commands. As shown above `help <command>` will give us extra information on what commands do. The first few just give us information about where we are in the code, try these:\n",
      "\n",
      "* **`w`** tells us what command we are at\n",
      "* **`list`** list the code near me\n",
      "* **`up`** moves up to the calling function\n",
      "* **`down`** goes back the other way\n",
      "\n",
      "` `\n",
      "\n",
      "    % python movable_thing.py\n",
      "    > /home/tdaff/Teaching/chm8309i_2014/debug_files/movable_thing.py(20)locate()\n",
      "    -> return self._position\n",
      "    (Pdb) w\n",
      "      /home/tdaff/Teaching/chm8309i_2014/debug_files/movable_thing.py(47)<module>()\n",
      "    -> amine.what_am_i()\n",
      "      /home/tdaff/Teaching/chm8309i_2014/debug_files/movable_thing.py(40)what_am_i()\n",
      "    -> return \"I'm a {} group at {}\".format(self.name, self.locate())\n",
      "    > /home/tdaff/Teaching/chm8309i_2014/debug_files/movable_thing.py(20)locate()\n",
      "    -> return self._position\n",
      "    (Pdb) l\n",
      "     19             import pdb; pdb.set_trace()\n",
      "     20  ->         return self._position\n",
      "    (Pdb) up\n",
      "    > /home/tdaff/Teaching/chm8309i_2014/debug_files/movable_thing.py(40)what_am_i()\n",
      "    -> return \"I'm a {} group at {}\".format(self.name, self.locate())\n",
      "    (Pdb) l\n",
      "     40  ->         return \"I'm a {} group at {}\".format(self.name, self.locate())"
     ]
    },
    {
     "cell_type": "markdown",
     "metadata": {
      "slideshow": {
       "slide_type": "slide"
      }
     },
     "source": [
      "Running environment\n",
      "-------------------\n",
      "\n",
      "Uncomment the second pdb line in the code.\n",
      "\n",
      "To inspect the local variables, `args` tells us the arguments defined in the local stack and we can use `print` (or `p`) to evaluate any expressions. These commands run in the *debugger*, to run commands in the *interpreter* that is running the code, prefix the command with an exclamation mark, `!`, this gives a way to modify values in the currently running program.\n",
      "\n",
      "    % python movable_thing.py\n",
      "    --Return--\n",
      "    > /home/tdaff/Teaching/chm8309i_2014/debug_files/movable_thing.py(16)move()->None\n",
      "    -> import pdb; pdb.set_trace()\n",
      "    (Pdb) l\n",
      "     15                               zip(self._position, vector)]\n",
      "     16  ->         import pdb; pdb.set_trace()\n",
      "    (Pdb) args\n",
      "    self = <__main__.FunctionalGroup object at 0x7fa119fc4250>\n",
      "    vector = (1, 2, 1)\n",
      "    (Pdb) p self._position\n",
      "    [1, 2, 1]\n",
      "    (Pdb) !self._position = [-2, -3, -4]\n",
      "    (Pdb) p self._position\n",
      "    [-2, -3, -4]"
     ]
    },
    {
     "cell_type": "markdown",
     "metadata": {
      "slideshow": {
       "slide_type": "slide"
      }
     },
     "source": [
      "Moving through the code\n",
      "-----------------------\n",
      "\n",
      "To begin moving through the code there are several ways:\n",
      "\n",
      "* **`step`** executes every command in turn and \n",
      "* **`next`** does not descend into functions and skips straight to the return value.\n",
      "* Just pressing enter repeats the last command entered.\n",
      "* **`until`** will execute commands until the line number which can be useful for breaking out of a loop, and \n",
      "* **`return`** will contiue until the current function is about to return it's value"
     ]
    },
    {
     "cell_type": "markdown",
     "metadata": {
      "slideshow": {
       "slide_type": "slide"
      }
     },
     "source": [
      "Breakpoints\n",
      "-----------\n",
      "\n",
      "Codes get big and it can become tedious to step and next through everything. **Breakpoints** are specified marks in the code that the debugger can run to and will break at. `break` can take line numbers, function names (such as `add`), and other specifiers to set up breakpoints and continue will run to them.\n",
      "\n",
      "Comment out all the pdb lines and run the code again:\n",
      "\n",
      "    % python -m pdb movable_thing.py\n",
      "    > /home/tdaff/Teaching/chm8309i_2014/debug_files/movable_thing.py(1)<module>()\n",
      "    -> from datetime import datetime\n",
      "    (Pdb) break add\n",
      "    Breakpoint 1 at /home/tdaff/Teaching/chm8309i_2014/debug_files/movable_thing.py:43\n",
      "    (Pdb) break 40\n",
      "    Breakpoint 2 at /home/tdaff/Teaching/chm8309i_2014/debug_files/movable_thing.py:40\n",
      "    (Pdb) continue\n",
      "    > /home/tdaff/Teaching/chm8309i_2014/debug_files/movable_thing.py(44)add()\n",
      "    -> return a + b\n",
      "    (Pdb) disable 1\n",
      "    (Pdb) continue\n",
      "    > /home/tdaff/Teaching/chm8309i_2014/debug_files/movable_thing.py(40)what_am_i()\n",
      "    -> unused_local = 12\n",
      "    (Pdb) break\n",
      "    Num Type         Disp Enb   Where\n",
      "    1   breakpoint   keep no    at /home/tdaff/Teaching/chm8309i_2014/debug_files/movable_thing.py:43\n",
      "            breakpoint already hit 1 time\n",
      "    2   breakpoint   keep yes   at /home/tdaff/Teaching/chm8309i_2014/debug_files/movable_thing.py:40\n",
      "            breakpoint already hit 1 time\n",
      "\n",
      "Here we have diabled a breakpoint once we hit it for the first time."
     ]
    },
    {
     "cell_type": "markdown",
     "metadata": {
      "slideshow": {
       "slide_type": "slide"
      }
     },
     "source": [
      "Conditional break\n",
      "-----------------\n",
      "\n",
      "Sometimes you don't want to always break. It is also possible to attach conditions and automatically run `commands` at breakpoints. You can attach the condition when defining the breakpoint or the condition can also be attached or modified on an existing breakpoint with a command like `condition 1, a>1` where 1 is the breakpoint number.\n",
      "\n",
      "    % python -m pdb movable_thing.py\n",
      "    > /home/tdaff/Teaching/chm8309i_2014/debug_files/movable_thing.py(1)<module>()\n",
      "    -> from datetime import datetime\n",
      "    (Pdb) break add, a>1\n",
      "    Breakpoint 1 at /home/tdaff/Teaching/chm8309i_2014/debug_files/movable_thing.py:43\n",
      "    (Pdb) commands 1\n",
      "    (com) print \"debug a =\", a\n",
      "    (com) end\n",
      "    (Pdb) continue\n",
      "    debug a = 2\n",
      "    > /home/tdaff/Teaching/chm8309i_2014/debug_files/movable_thing.py(44)add()\n",
      "    -> return a + b\n",
      "\n"
     ]
    },
    {
     "cell_type": "markdown",
     "metadata": {
      "slideshow": {
       "slide_type": "slide"
      }
     },
     "source": [
      "Post mortem\n",
      "-----------\n",
      "\n",
      "A super useful feature is that, when running with the debugger, an unhandled error that would crash the program will be caught and the debugger will break and enter **post mortem** debugging so you can inspect what broke the code.\n",
      "\n",
      "Type `continue` in a fresh debugger to run to an exception and enter the postmortem debugging.\n"
     ]
    },
    {
     "cell_type": "markdown",
     "metadata": {
      "slideshow": {
       "slide_type": "slide"
      }
     },
     "source": [
      "References\n",
      "----------\n",
      "\n",
      "Much of this was shamelessly cribbed from this article [http://www.doughellmann.com/PyMOTW/pdb/](http://www.doughellmann.com/PyMOTW/pdb/) and there are many more examples if you want to continue to do command line debugging. Helpfully, command line debuggers in other languages will have almost the same interface, so a lot of this will be very transeferable. Awesome."
     ]
    },
    {
     "cell_type": "markdown",
     "metadata": {
      "slideshow": {
       "slide_type": "slide"
      }
     },
     "source": [
      "Debugging in an IDE\n",
      "-------------------\n",
      "\n",
      "Load up komodo on wooki and run the example in the debugger there.\n",
      "\n",
      "    module load komodo\n",
      "    komodo-install-license  # only the first time you need it\n",
      "    komodo my_script.py"
     ]
    }
   ],
   "metadata": {}
  }
 ]
}